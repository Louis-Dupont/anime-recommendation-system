{
 "cells": [
  {
   "cell_type": "code",
   "execution_count": 1,
   "metadata": {
    "ExecuteTime": {
     "end_time": "2021-06-04T16:04:54.806849Z",
     "start_time": "2021-06-04T16:04:09.253210Z"
    }
   },
   "outputs": [],
   "source": [
    "%load_ext autoreload\n",
    "%autoreload 2\n",
    "import matplotlib.pyplot as plt\n",
    "\n",
    "from model import RatingModel, AnimeStandardScaler\n",
    "from recommendation_system import RecommendationSystem\n",
    "\n",
    "import pathlib\n",
    "import pandas as pd\n",
    "\n",
    "from dataset import Dataset, score"
   ]
  },
  {
   "cell_type": "code",
   "execution_count": 2,
   "metadata": {
    "ExecuteTime": {
     "end_time": "2021-05-23T13:37:27.607992Z",
     "start_time": "2021-05-23T13:37:06.211944Z"
    }
   },
   "outputs": [],
   "source": []
  },
  {
   "cell_type": "code",
   "execution_count": 3,
   "metadata": {
    "ExecuteTime": {
     "end_time": "2021-05-23T13:37:32.911041Z",
     "start_time": "2021-05-23T13:37:28.256211Z"
    }
   },
   "outputs": [],
   "source": [
    "\n"
   ]
  },
  {
   "cell_type": "code",
   "execution_count": 4,
   "metadata": {
    "ExecuteTime": {
     "end_time": "2021-05-23T13:37:33.514149Z",
     "start_time": "2021-05-23T13:37:33.455209Z"
    }
   },
   "outputs": [],
   "source": []
  },
  {
   "cell_type": "code",
   "execution_count": 5,
   "metadata": {
    "ExecuteTime": {
     "end_time": "2021-05-23T13:37:35.508519Z",
     "start_time": "2021-05-23T13:37:35.276945Z"
    }
   },
   "outputs": [],
   "source": []
  },
  {
   "cell_type": "code",
   "execution_count": 2,
   "metadata": {
    "ExecuteTime": {
     "end_time": "2021-06-04T16:04:55.161589Z",
     "start_time": "2021-06-04T16:04:54.924714Z"
    }
   },
   "outputs": [],
   "source": [
    "x = RecommendationSystem.load('test_save.pkl')"
   ]
  },
  {
   "cell_type": "code",
   "execution_count": 9,
   "metadata": {
    "ExecuteTime": {
     "end_time": "2021-05-23T13:37:56.201978Z",
     "start_time": "2021-05-23T13:37:56.149680Z"
    }
   },
   "outputs": [
    {
     "data": {
      "text/plain": [
       "<recommendation_system.RecommendationSystem at 0x14bd3bd90>"
      ]
     },
     "execution_count": 9,
     "metadata": {},
     "output_type": "execute_result"
    }
   ],
   "source": [
    "x"
   ]
  },
  {
   "cell_type": "code",
   "execution_count": 4,
   "metadata": {
    "ExecuteTime": {
     "end_time": "2021-05-22T21:16:29.251536Z",
     "start_time": "2021-05-22T21:16:29.199726Z"
    }
   },
   "outputs": [],
   "source": [
    "HOME_DIR = pathlib.Path().home()\n",
    "DATA_DIR = HOME_DIR / 'data/other/archive'"
   ]
  },
  {
   "cell_type": "code",
   "execution_count": 5,
   "metadata": {
    "ExecuteTime": {
     "end_time": "2021-05-22T21:16:29.740764Z",
     "start_time": "2021-05-22T21:16:29.508429Z"
    }
   },
   "outputs": [],
   "source": [
    "# anime_df = pd.read_csv(DATA_DIR / 'anime.csv') # Anime oriented"
   ]
  },
  {
   "cell_type": "code",
   "execution_count": 27,
   "metadata": {
    "ExecuteTime": {
     "end_time": "2021-05-22T21:30:32.918691Z",
     "start_time": "2021-05-22T21:30:16.189892Z"
    }
   },
   "outputs": [],
   "source": [
    "df_titles = pd.read_csv(DATA_DIR / 'anime.csv') # Anime oriented\n",
    "# animelist_df = pd.read_csv(DATA_DIR / 'animelist.csv') # Rating oriented\n",
    "#rating_complete_df = pd.read_csv(DATA_DIR / 'rating_complete.csv') # Only completed\n",
    "# watching_status_df = pd.read_csv(DATA_DIR / 'watching_status.csv') # status mapping\n",
    "\n",
    "df_ratings = pd.read_csv(DATA_DIR / 'rating_complete.csv')"
   ]
  },
  {
   "cell_type": "code",
   "execution_count": 41,
   "metadata": {
    "ExecuteTime": {
     "end_time": "2021-05-22T23:11:04.978298Z",
     "start_time": "2021-05-22T23:09:42.316294Z"
    }
   },
   "outputs": [],
   "source": [
    "nb_anime = df_ratings.anime_id.max()+1\n",
    "\n",
    "standardizer = AnimeStandardScaler(nb_anime)\n",
    "data = Data(df_titles, df_ratings, standardizer=standardizer, nb_anime=nb_anime, test_size=0.2)\n",
    "\n",
    "model = RatingModel(standardizer, n_components=100, n_iter=50, random_state=42)\n",
    "model = model.fit(dataset.get_standardized_sample(test=False))"
   ]
  },
  {
   "cell_type": "code",
   "execution_count": 38,
   "metadata": {
    "ExecuteTime": {
     "end_time": "2021-05-23T13:36:17.841168Z",
     "start_time": "2021-05-23T13:36:17.668892Z"
    }
   },
   "outputs": [],
   "source": [
    "recommendation_system = RecommendationSystem(dataset, standardizer, model, exclude_rated_animes=False)"
   ]
  },
  {
   "cell_type": "code",
   "execution_count": 29,
   "metadata": {
    "ExecuteTime": {
     "end_time": "2021-05-23T10:54:49.159702Z",
     "start_time": "2021-05-23T10:54:45.017891Z"
    }
   },
   "outputs": [
    {
     "data": {
      "text/plain": [
       "({'accuracy': 0.32098765432098764,\n",
       "  'mean_distance': 1.1873827798119698,\n",
       "  'mean_squared_distance': 1.6418312595500986},\n",
       " {'accuracy': 0.17024041585445093,\n",
       "  'mean_distance': 1.418204996232323,\n",
       "  'mean_squared_distance': 1.7867163166734068})"
      ]
     },
     "execution_count": 29,
     "metadata": {},
     "output_type": "execute_result"
    }
   ],
   "source": [
    "standardized_test_data = dataset.get_standardized_sample(test=True).toarray()\n",
    "\n",
    "svd_score = score(\n",
    "    y_true_standardized=standardized_test_data,\n",
    "    y_pred=model.predict(standardized_test_data, destandardize_output=True),\n",
    "    standardizer=standardizer\n",
    ")\n",
    "mean_score = score(\n",
    "    y_true_standardized=standardized_test_data,\n",
    "    y_pred=model.mean_predict(standardized_test_data, destandardize_output=True),\n",
    "    standardizer=standardizer\n",
    ")\n",
    "svd_score, mean_score"
   ]
  },
  {
   "cell_type": "code",
   "execution_count": 13,
   "metadata": {
    "ExecuteTime": {
     "end_time": "2021-05-23T13:50:19.917627Z",
     "start_time": "2021-05-23T13:50:19.484243Z"
    }
   },
   "outputs": [],
   "source": [
    "recommendation_system.save('test_save.pkl')"
   ]
  },
  {
   "cell_type": "code",
   "execution_count": 14,
   "metadata": {
    "ExecuteTime": {
     "end_time": "2021-05-23T13:51:14.267553Z",
     "start_time": "2021-05-23T13:51:14.109804Z"
    }
   },
   "outputs": [],
   "source": [
    "x = RecommendationSystem.load('test_save.pkl')"
   ]
  },
  {
   "cell_type": "code",
   "execution_count": 15,
   "metadata": {
    "ExecuteTime": {
     "end_time": "2021-05-22T21:17:57.626702Z",
     "start_time": "2021-05-22T21:17:57.407581Z"
    }
   },
   "outputs": [],
   "source": []
  },
  {
   "cell_type": "code",
   "execution_count": 16,
   "metadata": {
    "ExecuteTime": {
     "end_time": "2021-05-22T21:18:18.873877Z",
     "start_time": "2021-05-22T21:18:18.767647Z"
    }
   },
   "outputs": [],
   "source": [
    "with open('estimator.pkl', 'rb') as f:\n",
    "    x = pickle.load(f)"
   ]
  },
  {
   "cell_type": "code",
   "execution_count": 44,
   "metadata": {
    "ExecuteTime": {
     "end_time": "2021-05-22T23:21:59.473020Z",
     "start_time": "2021-05-22T23:21:41.206216Z"
    }
   },
   "outputs": [],
   "source": [
    "HOME_DIR = pathlib.Path().home()\n",
    "DATA_DIR = HOME_DIR / 'data/other/archive'\n",
    "\n",
    "df_titles = pd.read_csv(DATA_DIR / 'anime.csv')\n",
    "df_ratings = pd.read_csv(DATA_DIR / 'rating_complete.csv')\n",
    "\n",
    "nb_anime = df_ratings.anime_id.max()+1\n",
    "\n"
   ]
  },
  {
   "cell_type": "code",
   "execution_count": 48,
   "metadata": {
    "ExecuteTime": {
     "end_time": "2021-05-22T23:23:40.392818Z",
     "start_time": "2021-05-22T23:22:29.113181Z"
    }
   },
   "outputs": [],
   "source": [
    "standardizer = AnimeStandardScaler(nb_anime=nb_anime)\n",
    "dataset = Dataset(df_titles, df_ratings, standardizer=standardizer, nb_anime=nb_anime, test_size=0.2)"
   ]
  },
  {
   "cell_type": "code",
   "execution_count": 49,
   "metadata": {
    "ExecuteTime": {
     "end_time": "2021-05-22T23:30:05.616184Z",
     "start_time": "2021-05-22T23:24:06.914350Z"
    }
   },
   "outputs": [],
   "source": [
    "training_data = dataset.get_standardized_sample(test=False)\n",
    "model = Model(\n",
    "    standardizer=standardizer,\n",
    "    n_components=100,\n",
    "    n_iter=50,\n",
    "    random_state=42\n",
    ").fit(training_data)"
   ]
  },
  {
   "cell_type": "code",
   "execution_count": 12,
   "metadata": {
    "ExecuteTime": {
     "end_time": "2021-05-23T13:39:06.925748Z",
     "start_time": "2021-05-23T13:39:06.853959Z"
    }
   },
   "outputs": [],
   "source": [
    "estimator = RecommendationSystem(dataset, standardizer, model)"
   ]
  },
  {
   "cell_type": "code",
   "execution_count": 18,
   "metadata": {
    "ExecuteTime": {
     "end_time": "2021-05-23T13:51:43.524832Z",
     "start_time": "2021-05-23T13:51:43.417826Z"
    }
   },
   "outputs": [
    {
     "data": {
      "text/html": [
       "<div>\n",
       "<style scoped>\n",
       "    .dataframe tbody tr th:only-of-type {\n",
       "        vertical-align: middle;\n",
       "    }\n",
       "\n",
       "    .dataframe tbody tr th {\n",
       "        vertical-align: top;\n",
       "    }\n",
       "\n",
       "    .dataframe thead th {\n",
       "        text-align: right;\n",
       "    }\n",
       "</style>\n",
       "<table border=\"1\" class=\"dataframe\">\n",
       "  <thead>\n",
       "    <tr style=\"text-align: right;\">\n",
       "      <th></th>\n",
       "      <th>title</th>\n",
       "      <th>relevancy</th>\n",
       "    </tr>\n",
       "  </thead>\n",
       "  <tbody>\n",
       "    <tr>\n",
       "      <th>499</th>\n",
       "      <td>shinmai maou no testament: toujou basara no ha...</td>\n",
       "      <td>5.329071e-15</td>\n",
       "    </tr>\n",
       "    <tr>\n",
       "      <th>29</th>\n",
       "      <td>dragon ball gt</td>\n",
       "      <td>5.329071e-15</td>\n",
       "    </tr>\n",
       "    <tr>\n",
       "      <th>380</th>\n",
       "      <td>shingeki no kyojin</td>\n",
       "      <td>3.552714e-15</td>\n",
       "    </tr>\n",
       "    <tr>\n",
       "      <th>532</th>\n",
       "      <td>boku no hero academia</td>\n",
       "      <td>3.552714e-15</td>\n",
       "    </tr>\n",
       "    <tr>\n",
       "      <th>288</th>\n",
       "      <td>steins;gate</td>\n",
       "      <td>3.552714e-15</td>\n",
       "    </tr>\n",
       "    <tr>\n",
       "      <th>81</th>\n",
       "      <td>suzumiya haruhi no yuuutsu</td>\n",
       "      <td>3.552714e-15</td>\n",
       "    </tr>\n",
       "    <tr>\n",
       "      <th>214</th>\n",
       "      <td>toaru majutsu no index</td>\n",
       "      <td>3.552714e-15</td>\n",
       "    </tr>\n",
       "    <tr>\n",
       "      <th>443</th>\n",
       "      <td>durarara!!x2 shou</td>\n",
       "      <td>3.552714e-15</td>\n",
       "    </tr>\n",
       "    <tr>\n",
       "      <th>557</th>\n",
       "      <td>boku no hero academia 2nd season</td>\n",
       "      <td>3.552714e-15</td>\n",
       "    </tr>\n",
       "    <tr>\n",
       "      <th>173</th>\n",
       "      <td>school days</td>\n",
       "      <td>3.552714e-15</td>\n",
       "    </tr>\n",
       "    <tr>\n",
       "      <th>79</th>\n",
       "      <td>dragon ball z</td>\n",
       "      <td>3.552714e-15</td>\n",
       "    </tr>\n",
       "    <tr>\n",
       "      <th>406</th>\n",
       "      <td>nisekoi</td>\n",
       "      <td>3.552714e-15</td>\n",
       "    </tr>\n",
       "    <tr>\n",
       "      <th>247</th>\n",
       "      <td>angel beats!</td>\n",
       "      <td>3.552714e-15</td>\n",
       "    </tr>\n",
       "    <tr>\n",
       "      <th>129</th>\n",
       "      <td>katekyo hitman reborn!</td>\n",
       "      <td>3.552714e-15</td>\n",
       "    </tr>\n",
       "    <tr>\n",
       "      <th>584</th>\n",
       "      <td>youkoso jitsuryoku shijou shugi no kyoushitsu ...</td>\n",
       "      <td>3.552714e-15</td>\n",
       "    </tr>\n",
       "    <tr>\n",
       "      <th>514</th>\n",
       "      <td>kono subarashii sekai ni shukufuku wo!</td>\n",
       "      <td>3.552714e-15</td>\n",
       "    </tr>\n",
       "    <tr>\n",
       "      <th>30</th>\n",
       "      <td>elfen lied</td>\n",
       "      <td>3.552714e-15</td>\n",
       "    </tr>\n",
       "    <tr>\n",
       "      <th>421</th>\n",
       "      <td>haikyuu!!</td>\n",
       "      <td>3.552714e-15</td>\n",
       "    </tr>\n",
       "    <tr>\n",
       "      <th>283</th>\n",
       "      <td>toaru majutsu no index ii</td>\n",
       "      <td>3.552714e-15</td>\n",
       "    </tr>\n",
       "    <tr>\n",
       "      <th>495</th>\n",
       "      <td>gate: jieitai kanochi nite, kaku tatakaeri</td>\n",
       "      <td>3.552714e-15</td>\n",
       "    </tr>\n",
       "  </tbody>\n",
       "</table>\n",
       "</div>"
      ],
      "text/plain": [
       "                                                 title     relevancy\n",
       "499  shinmai maou no testament: toujou basara no ha...  5.329071e-15\n",
       "29                                      dragon ball gt  5.329071e-15\n",
       "380                                 shingeki no kyojin  3.552714e-15\n",
       "532                              boku no hero academia  3.552714e-15\n",
       "288                                        steins;gate  3.552714e-15\n",
       "81                          suzumiya haruhi no yuuutsu  3.552714e-15\n",
       "214                             toaru majutsu no index  3.552714e-15\n",
       "443                                  durarara!!x2 shou  3.552714e-15\n",
       "557                   boku no hero academia 2nd season  3.552714e-15\n",
       "173                                        school days  3.552714e-15\n",
       "79                                       dragon ball z  3.552714e-15\n",
       "406                                            nisekoi  3.552714e-15\n",
       "247                                       angel beats!  3.552714e-15\n",
       "129                             katekyo hitman reborn!  3.552714e-15\n",
       "584  youkoso jitsuryoku shijou shugi no kyoushitsu ...  3.552714e-15\n",
       "514             kono subarashii sekai ni shukufuku wo!  3.552714e-15\n",
       "30                                          elfen lied  3.552714e-15\n",
       "421                                          haikyuu!!  3.552714e-15\n",
       "283                          toaru majutsu no index ii  3.552714e-15\n",
       "495         gate: jieitai kanochi nite, kaku tatakaeri  3.552714e-15"
      ]
     },
     "execution_count": 18,
     "metadata": {},
     "output_type": "execute_result"
    }
   ],
   "source": [
    "anime_ratings = {\n",
    "    'shingeki no kyojin season 3': 10,\n",
    "    'shingeki no kyojin season 2': 10\n",
    "}\n",
    "\n",
    "\n",
    "df_predicted_ratings = x.predict_relevant_anime(anime_ratings)\n",
    "df_predicted_ratings.head(20)"
   ]
  },
  {
   "cell_type": "code",
   "execution_count": 17,
   "metadata": {
    "ExecuteTime": {
     "end_time": "2021-05-23T13:51:36.939394Z",
     "start_time": "2021-05-23T13:51:36.878018Z"
    }
   },
   "outputs": [
    {
     "ename": "AttributeError",
     "evalue": "'RecommendationSystem' object has no attribute 'predict_anime'",
     "output_type": "error",
     "traceback": [
      "\u001b[0;31m---------------------------------------------------------------------------\u001b[0m",
      "\u001b[0;31mAttributeError\u001b[0m                            Traceback (most recent call last)",
      "\u001b[0;32m<ipython-input-17-304af6e15ad7>\u001b[0m in \u001b[0;36m<module>\u001b[0;34m\u001b[0m\n\u001b[1;32m      4\u001b[0m \u001b[0;34m\u001b[0m\u001b[0m\n\u001b[1;32m      5\u001b[0m \u001b[0;34m\u001b[0m\u001b[0m\n\u001b[0;32m----> 6\u001b[0;31m \u001b[0mdf_predicted_ratings\u001b[0m \u001b[0;34m=\u001b[0m \u001b[0mestimator\u001b[0m\u001b[0;34m.\u001b[0m\u001b[0mpredict_anime\u001b[0m\u001b[0;34m(\u001b[0m\u001b[0manime_ratings\u001b[0m\u001b[0;34m)\u001b[0m\u001b[0;34m\u001b[0m\u001b[0;34m\u001b[0m\u001b[0m\n\u001b[0m\u001b[1;32m      7\u001b[0m \u001b[0mdf_predicted_ratings\u001b[0m\u001b[0;34m.\u001b[0m\u001b[0mhead\u001b[0m\u001b[0;34m(\u001b[0m\u001b[0;36m20\u001b[0m\u001b[0;34m)\u001b[0m\u001b[0;34m\u001b[0m\u001b[0;34m\u001b[0m\u001b[0m\n",
      "\u001b[0;31mAttributeError\u001b[0m: 'RecommendationSystem' object has no attribute 'predict_anime'"
     ]
    }
   ],
   "source": [
    "anime_ratings = {\n",
    "    'death note': 10\n",
    "}\n",
    "\n",
    "\n",
    "df_predicted_ratings = estimator.predict_anime(anime_ratings)\n",
    "df_predicted_ratings.head(20)"
   ]
  },
  {
   "cell_type": "code",
   "execution_count": 66,
   "metadata": {
    "ExecuteTime": {
     "end_time": "2021-05-22T23:41:39.091980Z",
     "start_time": "2021-05-22T23:41:38.947606Z"
    }
   },
   "outputs": [
    {
     "data": {
      "text/html": [
       "<div>\n",
       "<style scoped>\n",
       "    .dataframe tbody tr th:only-of-type {\n",
       "        vertical-align: middle;\n",
       "    }\n",
       "\n",
       "    .dataframe tbody tr th {\n",
       "        vertical-align: top;\n",
       "    }\n",
       "\n",
       "    .dataframe thead th {\n",
       "        text-align: right;\n",
       "    }\n",
       "</style>\n",
       "<table border=\"1\" class=\"dataframe\">\n",
       "  <thead>\n",
       "    <tr style=\"text-align: right;\">\n",
       "      <th></th>\n",
       "      <th>MAL_ID</th>\n",
       "      <th>Name</th>\n",
       "    </tr>\n",
       "  </thead>\n",
       "  <tbody>\n",
       "    <tr>\n",
       "      <th>0</th>\n",
       "      <td>1</td>\n",
       "      <td>Cowboy Bebop</td>\n",
       "    </tr>\n",
       "    <tr>\n",
       "      <th>1</th>\n",
       "      <td>5</td>\n",
       "      <td>Cowboy Bebop: Tengoku no Tobira</td>\n",
       "    </tr>\n",
       "    <tr>\n",
       "      <th>2</th>\n",
       "      <td>6</td>\n",
       "      <td>Trigun</td>\n",
       "    </tr>\n",
       "    <tr>\n",
       "      <th>3</th>\n",
       "      <td>7</td>\n",
       "      <td>Witch Hunter Robin</td>\n",
       "    </tr>\n",
       "    <tr>\n",
       "      <th>4</th>\n",
       "      <td>8</td>\n",
       "      <td>Bouken Ou Beet</td>\n",
       "    </tr>\n",
       "    <tr>\n",
       "      <th>...</th>\n",
       "      <td>...</td>\n",
       "      <td>...</td>\n",
       "    </tr>\n",
       "    <tr>\n",
       "      <th>17557</th>\n",
       "      <td>48481</td>\n",
       "      <td>Daomu Biji Zhi Qinling Shen Shu</td>\n",
       "    </tr>\n",
       "    <tr>\n",
       "      <th>17558</th>\n",
       "      <td>48483</td>\n",
       "      <td>Mieruko-chan</td>\n",
       "    </tr>\n",
       "    <tr>\n",
       "      <th>17559</th>\n",
       "      <td>48488</td>\n",
       "      <td>Higurashi no Naku Koro ni Sotsu</td>\n",
       "    </tr>\n",
       "    <tr>\n",
       "      <th>17560</th>\n",
       "      <td>48491</td>\n",
       "      <td>Yama no Susume: Next Summit</td>\n",
       "    </tr>\n",
       "    <tr>\n",
       "      <th>17561</th>\n",
       "      <td>48492</td>\n",
       "      <td>Scarlet Nexus</td>\n",
       "    </tr>\n",
       "  </tbody>\n",
       "</table>\n",
       "<p>17562 rows × 2 columns</p>\n",
       "</div>"
      ],
      "text/plain": [
       "       MAL_ID                             Name\n",
       "0           1                     Cowboy Bebop\n",
       "1           5  Cowboy Bebop: Tengoku no Tobira\n",
       "2           6                           Trigun\n",
       "3           7               Witch Hunter Robin\n",
       "4           8                   Bouken Ou Beet\n",
       "...       ...                              ...\n",
       "17557   48481  Daomu Biji Zhi Qinling Shen Shu\n",
       "17558   48483                     Mieruko-chan\n",
       "17559   48488  Higurashi no Naku Koro ni Sotsu\n",
       "17560   48491      Yama no Susume: Next Summit\n",
       "17561   48492                    Scarlet Nexus\n",
       "\n",
       "[17562 rows x 2 columns]"
      ]
     },
     "execution_count": 66,
     "metadata": {},
     "output_type": "execute_result"
    }
   ],
   "source": [
    "df_titles[['MAL_ID', 'Name']]"
   ]
  },
  {
   "cell_type": "code",
   "execution_count": 59,
   "metadata": {
    "ExecuteTime": {
     "end_time": "2021-05-22T23:38:36.592917Z",
     "start_time": "2021-05-22T23:38:36.519944Z"
    }
   },
   "outputs": [
    {
     "data": {
      "text/plain": [
       "0                           Cowboy Bebop\n",
       "1        Cowboy Bebop: Tengoku no Tobira\n",
       "2                                 Trigun\n",
       "3                     Witch Hunter Robin\n",
       "4                         Bouken Ou Beet\n",
       "                      ...               \n",
       "17557    Daomu Biji Zhi Qinling Shen Shu\n",
       "17558                       Mieruko-chan\n",
       "17559    Higurashi no Naku Koro ni Sotsu\n",
       "17560        Yama no Susume: Next Summit\n",
       "17561                      Scarlet Nexus\n",
       "Name: Name, Length: 17562, dtype: object"
      ]
     },
     "execution_count": 59,
     "metadata": {},
     "output_type": "execute_result"
    }
   ],
   "source": [
    "df_titles.Name, Name."
   ]
  },
  {
   "cell_type": "code",
   "execution_count": 172,
   "metadata": {
    "ExecuteTime": {
     "end_time": "2021-05-20T11:05:15.759693Z",
     "start_time": "2021-05-20T11:05:15.625818Z"
    }
   },
   "outputs": [
    {
     "data": {
      "text/html": [
       "<div>\n",
       "<style scoped>\n",
       "    .dataframe tbody tr th:only-of-type {\n",
       "        vertical-align: middle;\n",
       "    }\n",
       "\n",
       "    .dataframe tbody tr th {\n",
       "        vertical-align: top;\n",
       "    }\n",
       "\n",
       "    .dataframe thead th {\n",
       "        text-align: right;\n",
       "    }\n",
       "</style>\n",
       "<table border=\"1\" class=\"dataframe\">\n",
       "  <thead>\n",
       "    <tr style=\"text-align: right;\">\n",
       "      <th></th>\n",
       "      <th>anime_id</th>\n",
       "      <th>anime_title</th>\n",
       "      <th>rating_count</th>\n",
       "      <th>estimated_rating</th>\n",
       "      <th>average_rating</th>\n",
       "      <th>rating_count_standardized</th>\n",
       "      <th>estimated_rating_standardized</th>\n",
       "      <th>estimated_rating_diff</th>\n",
       "      <th>estimated_rating_diff_standardized</th>\n",
       "      <th>relevancy</th>\n",
       "    </tr>\n",
       "  </thead>\n",
       "  <tbody>\n",
       "    <tr>\n",
       "      <th>9840</th>\n",
       "      <td>28977</td>\n",
       "      <td>gintama°</td>\n",
       "      <td>4143</td>\n",
       "      <td>9.242031</td>\n",
       "      <td>9.250060</td>\n",
       "      <td>0.792546</td>\n",
       "      <td>0.924203</td>\n",
       "      <td>-0.008029</td>\n",
       "      <td>0.115563</td>\n",
       "      <td>0.272801</td>\n",
       "    </tr>\n",
       "    <tr>\n",
       "      <th>3964</th>\n",
       "      <td>5114</td>\n",
       "      <td>fullmetal alchemist: brotherhood</td>\n",
       "      <td>27042</td>\n",
       "      <td>9.224093</td>\n",
       "      <td>9.242068</td>\n",
       "      <td>0.971051</td>\n",
       "      <td>0.922409</td>\n",
       "      <td>-0.017975</td>\n",
       "      <td>0.097795</td>\n",
       "      <td>0.243123</td>\n",
       "    </tr>\n",
       "    <tr>\n",
       "      <th>5671</th>\n",
       "      <td>9253</td>\n",
       "      <td>steins;gate</td>\n",
       "      <td>24562</td>\n",
       "      <td>9.183009</td>\n",
       "      <td>9.186752</td>\n",
       "      <td>0.961898</td>\n",
       "      <td>0.918301</td>\n",
       "      <td>-0.003743</td>\n",
       "      <td>0.123221</td>\n",
       "      <td>0.292852</td>\n",
       "    </tr>\n",
       "    <tr>\n",
       "      <th>739</th>\n",
       "      <td>820</td>\n",
       "      <td>ginga eiyuu densetsu</td>\n",
       "      <td>1934</td>\n",
       "      <td>9.172471</td>\n",
       "      <td>9.175801</td>\n",
       "      <td>0.720056</td>\n",
       "      <td>0.917247</td>\n",
       "      <td>-0.003331</td>\n",
       "      <td>0.123958</td>\n",
       "      <td>0.284461</td>\n",
       "    </tr>\n",
       "    <tr>\n",
       "      <th>6460</th>\n",
       "      <td>11061</td>\n",
       "      <td>hunter x hunter (2011)</td>\n",
       "      <td>16072</td>\n",
       "      <td>9.187261</td>\n",
       "      <td>9.168367</td>\n",
       "      <td>0.921541</td>\n",
       "      <td>0.918726</td>\n",
       "      <td>0.018894</td>\n",
       "      <td>0.163663</td>\n",
       "      <td>0.362156</td>\n",
       "    </tr>\n",
       "    <tr>\n",
       "      <th>...</th>\n",
       "      <td>...</td>\n",
       "      <td>...</td>\n",
       "      <td>...</td>\n",
       "      <td>...</td>\n",
       "      <td>...</td>\n",
       "      <td>...</td>\n",
       "      <td>...</td>\n",
       "      <td>...</td>\n",
       "      <td>...</td>\n",
       "      <td>...</td>\n",
       "    </tr>\n",
       "    <tr>\n",
       "      <th>385</th>\n",
       "      <td>413</td>\n",
       "      <td>hametsu no mars</td>\n",
       "      <td>2643</td>\n",
       "      <td>2.194341</td>\n",
       "      <td>2.193719</td>\n",
       "      <td>0.749774</td>\n",
       "      <td>0.219434</td>\n",
       "      <td>0.000621</td>\n",
       "      <td>0.131018</td>\n",
       "      <td>0.221837</td>\n",
       "    </tr>\n",
       "    <tr>\n",
       "      <th>4197</th>\n",
       "      <td>5569</td>\n",
       "      <td>tsui no sora</td>\n",
       "      <td>133</td>\n",
       "      <td>2.118861</td>\n",
       "      <td>2.120301</td>\n",
       "      <td>0.465332</td>\n",
       "      <td>0.211886</td>\n",
       "      <td>-0.001439</td>\n",
       "      <td>0.127337</td>\n",
       "      <td>0.203781</td>\n",
       "    </tr>\n",
       "    <tr>\n",
       "      <th>10911</th>\n",
       "      <td>31634</td>\n",
       "      <td>kokuhaku</td>\n",
       "      <td>235</td>\n",
       "      <td>2.094114</td>\n",
       "      <td>2.093617</td>\n",
       "      <td>0.519496</td>\n",
       "      <td>0.209411</td>\n",
       "      <td>0.000497</td>\n",
       "      <td>0.130796</td>\n",
       "      <td>0.209122</td>\n",
       "    </tr>\n",
       "    <tr>\n",
       "      <th>6953</th>\n",
       "      <td>13405</td>\n",
       "      <td>utsu musume sayuri</td>\n",
       "      <td>818</td>\n",
       "      <td>1.871190</td>\n",
       "      <td>1.872861</td>\n",
       "      <td>0.638178</td>\n",
       "      <td>0.187119</td>\n",
       "      <td>-0.001670</td>\n",
       "      <td>0.126924</td>\n",
       "      <td>0.202842</td>\n",
       "    </tr>\n",
       "    <tr>\n",
       "      <th>2928</th>\n",
       "      <td>3287</td>\n",
       "      <td>tenkuu danzai skelter+heaven</td>\n",
       "      <td>1140</td>\n",
       "      <td>1.777884</td>\n",
       "      <td>1.777193</td>\n",
       "      <td>0.669762</td>\n",
       "      <td>0.177788</td>\n",
       "      <td>0.000691</td>\n",
       "      <td>0.131142</td>\n",
       "      <td>0.203486</td>\n",
       "    </tr>\n",
       "  </tbody>\n",
       "</table>\n",
       "<p>6934 rows × 10 columns</p>\n",
       "</div>"
      ],
      "text/plain": [
       "       anime_id                        anime_title  rating_count  \\\n",
       "9840      28977                          gintama°          4143   \n",
       "3964       5114  fullmetal alchemist: brotherhood         27042   \n",
       "5671       9253                       steins;gate         24562   \n",
       "739         820              ginga eiyuu densetsu          1934   \n",
       "6460      11061            hunter x hunter (2011)         16072   \n",
       "...         ...                               ...           ...   \n",
       "385         413                   hametsu no mars          2643   \n",
       "4197       5569                      tsui no sora           133   \n",
       "10911     31634                          kokuhaku           235   \n",
       "6953      13405                utsu musume sayuri           818   \n",
       "2928       3287      tenkuu danzai skelter+heaven          1140   \n",
       "\n",
       "       estimated_rating  average_rating  rating_count_standardized  \\\n",
       "9840           9.242031        9.250060                 0.792546   \n",
       "3964           9.224093        9.242068                 0.971051   \n",
       "5671           9.183009        9.186752                 0.961898   \n",
       "739            9.172471        9.175801                 0.720056   \n",
       "6460           9.187261        9.168367                 0.921541   \n",
       "...                 ...             ...                      ...   \n",
       "385            2.194341        2.193719                 0.749774   \n",
       "4197           2.118861        2.120301                 0.465332   \n",
       "10911          2.094114        2.093617                 0.519496   \n",
       "6953           1.871190        1.872861                 0.638178   \n",
       "2928           1.777884        1.777193                 0.669762   \n",
       "\n",
       "       estimated_rating_standardized  estimated_rating_diff  \\\n",
       "9840                      0.924203              -0.008029   \n",
       "3964                      0.922409              -0.017975   \n",
       "5671                      0.918301              -0.003743   \n",
       "739                       0.917247              -0.003331   \n",
       "6460                      0.918726               0.018894   \n",
       "...                            ...                    ...   \n",
       "385                       0.219434               0.000621   \n",
       "4197                      0.211886              -0.001439   \n",
       "10911                     0.209411               0.000497   \n",
       "6953                      0.187119              -0.001670   \n",
       "2928                      0.177788               0.000691   \n",
       "\n",
       "       estimated_rating_diff_standardized  relevancy  \n",
       "9840                           0.115563   0.272801  \n",
       "3964                           0.097795   0.243123  \n",
       "5671                           0.123221   0.292852  \n",
       "739                            0.123958   0.284461  \n",
       "6460                           0.163663   0.362156  \n",
       "...                                 ...        ...  \n",
       "385                            0.131018   0.221837  \n",
       "4197                           0.127337   0.203781  \n",
       "10911                          0.130796   0.209122  \n",
       "6953                           0.126924   0.202842  \n",
       "2928                           0.131142   0.203486  \n",
       "\n",
       "[6934 rows x 10 columns]"
      ]
     },
     "execution_count": 172,
     "metadata": {},
     "output_type": "execute_result"
    }
   ],
   "source": [
    "df_predicted_ratings[df_predicted_ratings.rating_count>100].sort_values(by='average_rating', ascending=False)"
   ]
  },
  {
   "cell_type": "code",
   "execution_count": 174,
   "metadata": {
    "ExecuteTime": {
     "end_time": "2021-05-20T11:13:10.203282Z",
     "start_time": "2021-05-20T11:13:10.123424Z"
    }
   },
   "outputs": [
    {
     "data": {
      "text/html": [
       "<div>\n",
       "<style scoped>\n",
       "    .dataframe tbody tr th:only-of-type {\n",
       "        vertical-align: middle;\n",
       "    }\n",
       "\n",
       "    .dataframe tbody tr th {\n",
       "        vertical-align: top;\n",
       "    }\n",
       "\n",
       "    .dataframe thead th {\n",
       "        text-align: right;\n",
       "    }\n",
       "</style>\n",
       "<table border=\"1\" class=\"dataframe\">\n",
       "  <thead>\n",
       "    <tr style=\"text-align: right;\">\n",
       "      <th></th>\n",
       "      <th>anime_id</th>\n",
       "      <th>anime_title</th>\n",
       "      <th>rating_count</th>\n",
       "      <th>estimated_rating</th>\n",
       "      <th>average_rating</th>\n",
       "      <th>rating_count_standardized</th>\n",
       "      <th>estimated_rating_standardized</th>\n",
       "      <th>estimated_rating_diff</th>\n",
       "      <th>estimated_rating_diff_standardized</th>\n",
       "      <th>relevancy</th>\n",
       "    </tr>\n",
       "  </thead>\n",
       "  <tbody>\n",
       "    <tr>\n",
       "      <th>6600</th>\n",
       "      <td>11757</td>\n",
       "      <td>sword art online</td>\n",
       "      <td>32235</td>\n",
       "      <td>7.332715</td>\n",
       "      <td>7.405429</td>\n",
       "      <td>0.987765</td>\n",
       "      <td>0.733271</td>\n",
       "      <td>-0.072714</td>\n",
       "      <td>0.000000</td>\n",
       "      <td>0.000000</td>\n",
       "    </tr>\n",
       "    <tr>\n",
       "      <th>11055</th>\n",
       "      <td>31964</td>\n",
       "      <td>boku no hero academia</td>\n",
       "      <td>24208</td>\n",
       "      <td>7.986307</td>\n",
       "      <td>8.058658</td>\n",
       "      <td>0.960516</td>\n",
       "      <td>0.798631</td>\n",
       "      <td>-0.072351</td>\n",
       "      <td>0.000649</td>\n",
       "      <td>0.001944</td>\n",
       "    </tr>\n",
       "    <tr>\n",
       "      <th>10755</th>\n",
       "      <td>31240</td>\n",
       "      <td>re:zero kara hajimeru isekai seikatsu</td>\n",
       "      <td>20644</td>\n",
       "      <td>8.273713</td>\n",
       "      <td>8.333414</td>\n",
       "      <td>0.945362</td>\n",
       "      <td>0.827371</td>\n",
       "      <td>-0.059701</td>\n",
       "      <td>0.023249</td>\n",
       "      <td>0.066257</td>\n",
       "    </tr>\n",
       "    <tr>\n",
       "      <th>8978</th>\n",
       "      <td>23755</td>\n",
       "      <td>nanatsu no taizai</td>\n",
       "      <td>18224</td>\n",
       "      <td>7.907411</td>\n",
       "      <td>7.963674</td>\n",
       "      <td>0.933498</td>\n",
       "      <td>0.790741</td>\n",
       "      <td>-0.056263</td>\n",
       "      <td>0.029391</td>\n",
       "      <td>0.082508</td>\n",
       "    </tr>\n",
       "    <tr>\n",
       "      <th>5877</th>\n",
       "      <td>9756</td>\n",
       "      <td>mahou shoujo madoka★magica</td>\n",
       "      <td>18630</td>\n",
       "      <td>8.416246</td>\n",
       "      <td>8.457864</td>\n",
       "      <td>0.935595</td>\n",
       "      <td>0.841625</td>\n",
       "      <td>-0.041618</td>\n",
       "      <td>0.055555</td>\n",
       "      <td>0.148096</td>\n",
       "    </tr>\n",
       "    <tr>\n",
       "      <th>9666</th>\n",
       "      <td>28171</td>\n",
       "      <td>shokugeki no souma</td>\n",
       "      <td>16724</td>\n",
       "      <td>8.328235</td>\n",
       "      <td>8.364446</td>\n",
       "      <td>0.925325</td>\n",
       "      <td>0.832823</td>\n",
       "      <td>-0.036212</td>\n",
       "      <td>0.065214</td>\n",
       "      <td>0.170305</td>\n",
       "    </tr>\n",
       "    <tr>\n",
       "      <th>9171</th>\n",
       "      <td>24833</td>\n",
       "      <td>ansatsu kyoushitsu</td>\n",
       "      <td>15428</td>\n",
       "      <td>8.025532</td>\n",
       "      <td>8.059113</td>\n",
       "      <td>0.917650</td>\n",
       "      <td>0.802553</td>\n",
       "      <td>-0.033581</td>\n",
       "      <td>0.069913</td>\n",
       "      <td>0.180297</td>\n",
       "    </tr>\n",
       "    <tr>\n",
       "      <th>9848</th>\n",
       "      <td>28999</td>\n",
       "      <td>charlotte</td>\n",
       "      <td>16577</td>\n",
       "      <td>7.640680</td>\n",
       "      <td>7.671231</td>\n",
       "      <td>0.924485</td>\n",
       "      <td>0.764068</td>\n",
       "      <td>-0.030551</td>\n",
       "      <td>0.075326</td>\n",
       "      <td>0.191497</td>\n",
       "    </tr>\n",
       "    <tr>\n",
       "      <th>7812</th>\n",
       "      <td>18153</td>\n",
       "      <td>kyoukai no kanata</td>\n",
       "      <td>13758</td>\n",
       "      <td>7.682933</td>\n",
       "      <td>7.711077</td>\n",
       "      <td>0.906749</td>\n",
       "      <td>0.768293</td>\n",
       "      <td>-0.028145</td>\n",
       "      <td>0.079627</td>\n",
       "      <td>0.200494</td>\n",
       "    </tr>\n",
       "    <tr>\n",
       "      <th>7021</th>\n",
       "      <td>13759</td>\n",
       "      <td>sakura-sou no pet na kanojo</td>\n",
       "      <td>15553</td>\n",
       "      <td>8.256763</td>\n",
       "      <td>8.284704</td>\n",
       "      <td>0.918418</td>\n",
       "      <td>0.825676</td>\n",
       "      <td>-0.027941</td>\n",
       "      <td>0.079990</td>\n",
       "      <td>0.202681</td>\n",
       "    </tr>\n",
       "    <tr>\n",
       "      <th>7125</th>\n",
       "      <td>14513</td>\n",
       "      <td>magi: the labyrinth of magic</td>\n",
       "      <td>12104</td>\n",
       "      <td>8.062995</td>\n",
       "      <td>8.090796</td>\n",
       "      <td>0.894561</td>\n",
       "      <td>0.806299</td>\n",
       "      <td>-0.027802</td>\n",
       "      <td>0.080239</td>\n",
       "      <td>0.202418</td>\n",
       "    </tr>\n",
       "    <tr>\n",
       "      <th>10574</th>\n",
       "      <td>30831</td>\n",
       "      <td>kono subarashii sekai ni shukufuku wo!</td>\n",
       "      <td>19630</td>\n",
       "      <td>8.028999</td>\n",
       "      <td>8.056088</td>\n",
       "      <td>0.940570</td>\n",
       "      <td>0.802900</td>\n",
       "      <td>-0.027089</td>\n",
       "      <td>0.081513</td>\n",
       "      <td>0.205808</td>\n",
       "    </tr>\n",
       "    <tr>\n",
       "      <th>7887</th>\n",
       "      <td>18507</td>\n",
       "      <td>free!</td>\n",
       "      <td>9505</td>\n",
       "      <td>7.406849</td>\n",
       "      <td>7.432720</td>\n",
       "      <td>0.871561</td>\n",
       "      <td>0.740685</td>\n",
       "      <td>-0.025870</td>\n",
       "      <td>0.083689</td>\n",
       "      <td>0.207664</td>\n",
       "    </tr>\n",
       "    <tr>\n",
       "      <th>4790</th>\n",
       "      <td>6880</td>\n",
       "      <td>deadman wonderland</td>\n",
       "      <td>16158</td>\n",
       "      <td>7.239464</td>\n",
       "      <td>7.264637</td>\n",
       "      <td>0.922049</td>\n",
       "      <td>0.723946</td>\n",
       "      <td>-0.025172</td>\n",
       "      <td>0.084936</td>\n",
       "      <td>0.210683</td>\n",
       "    </tr>\n",
       "    <tr>\n",
       "      <th>2265</th>\n",
       "      <td>2476</td>\n",
       "      <td>school days</td>\n",
       "      <td>12879</td>\n",
       "      <td>5.967694</td>\n",
       "      <td>5.991537</td>\n",
       "      <td>0.900467</td>\n",
       "      <td>0.596769</td>\n",
       "      <td>-0.023843</td>\n",
       "      <td>0.087312</td>\n",
       "      <td>0.210682</td>\n",
       "    </tr>\n",
       "    <tr>\n",
       "      <th>6561</th>\n",
       "      <td>11617</td>\n",
       "      <td>high school dxd</td>\n",
       "      <td>17111</td>\n",
       "      <td>7.376596</td>\n",
       "      <td>7.400152</td>\n",
       "      <td>0.927502</td>\n",
       "      <td>0.737660</td>\n",
       "      <td>-0.023556</td>\n",
       "      <td>0.087824</td>\n",
       "      <td>0.217073</td>\n",
       "    </tr>\n",
       "    <tr>\n",
       "      <th>6649</th>\n",
       "      <td>11981</td>\n",
       "      <td>mahou shoujo madoka★magica movie 3: hangyaku n...</td>\n",
       "      <td>6613</td>\n",
       "      <td>8.419735</td>\n",
       "      <td>8.442311</td>\n",
       "      <td>0.837041</td>\n",
       "      <td>0.841973</td>\n",
       "      <td>-0.022576</td>\n",
       "      <td>0.089575</td>\n",
       "      <td>0.221465</td>\n",
       "    </tr>\n",
       "    <tr>\n",
       "      <th>7505</th>\n",
       "      <td>16782</td>\n",
       "      <td>kotonoha no niwa</td>\n",
       "      <td>12445</td>\n",
       "      <td>8.059897</td>\n",
       "      <td>8.082443</td>\n",
       "      <td>0.897205</td>\n",
       "      <td>0.805990</td>\n",
       "      <td>-0.022546</td>\n",
       "      <td>0.089629</td>\n",
       "      <td>0.222018</td>\n",
       "    </tr>\n",
       "    <tr>\n",
       "      <th>5608</th>\n",
       "      <td>9041</td>\n",
       "      <td>is: infinite stratos</td>\n",
       "      <td>10716</td>\n",
       "      <td>6.877657</td>\n",
       "      <td>6.899403</td>\n",
       "      <td>0.882972</td>\n",
       "      <td>0.687766</td>\n",
       "      <td>-0.021746</td>\n",
       "      <td>0.091058</td>\n",
       "      <td>0.221100</td>\n",
       "    </tr>\n",
       "    <tr>\n",
       "      <th>9814</th>\n",
       "      <td>28851</td>\n",
       "      <td>koe no katachi</td>\n",
       "      <td>20030</td>\n",
       "      <td>8.917881</td>\n",
       "      <td>8.939191</td>\n",
       "      <td>0.942489</td>\n",
       "      <td>0.891788</td>\n",
       "      <td>-0.021310</td>\n",
       "      <td>0.091836</td>\n",
       "      <td>0.229510</td>\n",
       "    </tr>\n",
       "  </tbody>\n",
       "</table>\n",
       "</div>"
      ],
      "text/plain": [
       "       anime_id                                         anime_title  \\\n",
       "6600      11757                                   sword art online   \n",
       "11055     31964                              boku no hero academia   \n",
       "10755     31240              re:zero kara hajimeru isekai seikatsu   \n",
       "8978      23755                                  nanatsu no taizai   \n",
       "5877       9756                         mahou shoujo madoka★magica   \n",
       "9666      28171                                 shokugeki no souma   \n",
       "9171      24833                                 ansatsu kyoushitsu   \n",
       "9848      28999                                          charlotte   \n",
       "7812      18153                                  kyoukai no kanata   \n",
       "7021      13759                        sakura-sou no pet na kanojo   \n",
       "7125      14513                       magi: the labyrinth of magic   \n",
       "10574     30831             kono subarashii sekai ni shukufuku wo!   \n",
       "7887      18507                                              free!   \n",
       "4790       6880                                 deadman wonderland   \n",
       "2265       2476                                        school days   \n",
       "6561      11617                                    high school dxd   \n",
       "6649      11981  mahou shoujo madoka★magica movie 3: hangyaku n...   \n",
       "7505      16782                                   kotonoha no niwa   \n",
       "5608       9041                               is: infinite stratos   \n",
       "9814      28851                                     koe no katachi   \n",
       "\n",
       "       rating_count  estimated_rating  average_rating  \\\n",
       "6600          32235          7.332715        7.405429   \n",
       "11055         24208          7.986307        8.058658   \n",
       "10755         20644          8.273713        8.333414   \n",
       "8978          18224          7.907411        7.963674   \n",
       "5877          18630          8.416246        8.457864   \n",
       "9666          16724          8.328235        8.364446   \n",
       "9171          15428          8.025532        8.059113   \n",
       "9848          16577          7.640680        7.671231   \n",
       "7812          13758          7.682933        7.711077   \n",
       "7021          15553          8.256763        8.284704   \n",
       "7125          12104          8.062995        8.090796   \n",
       "10574         19630          8.028999        8.056088   \n",
       "7887           9505          7.406849        7.432720   \n",
       "4790          16158          7.239464        7.264637   \n",
       "2265          12879          5.967694        5.991537   \n",
       "6561          17111          7.376596        7.400152   \n",
       "6649           6613          8.419735        8.442311   \n",
       "7505          12445          8.059897        8.082443   \n",
       "5608          10716          6.877657        6.899403   \n",
       "9814          20030          8.917881        8.939191   \n",
       "\n",
       "       rating_count_standardized  estimated_rating_standardized  \\\n",
       "6600                  0.987765                     0.733271   \n",
       "11055                 0.960516                     0.798631   \n",
       "10755                 0.945362                     0.827371   \n",
       "8978                  0.933498                     0.790741   \n",
       "5877                  0.935595                     0.841625   \n",
       "9666                  0.925325                     0.832823   \n",
       "9171                  0.917650                     0.802553   \n",
       "9848                  0.924485                     0.764068   \n",
       "7812                  0.906749                     0.768293   \n",
       "7021                  0.918418                     0.825676   \n",
       "7125                  0.894561                     0.806299   \n",
       "10574                 0.940570                     0.802900   \n",
       "7887                  0.871561                     0.740685   \n",
       "4790                  0.922049                     0.723946   \n",
       "2265                  0.900467                     0.596769   \n",
       "6561                  0.927502                     0.737660   \n",
       "6649                  0.837041                     0.841973   \n",
       "7505                  0.897205                     0.805990   \n",
       "5608                  0.882972                     0.687766   \n",
       "9814                  0.942489                     0.891788   \n",
       "\n",
       "       estimated_rating_diff  estimated_rating_diff_standardized  relevancy  \n",
       "6600               -0.072714                          0.000000   0.000000  \n",
       "11055              -0.072351                          0.000649   0.001944  \n",
       "10755              -0.059701                          0.023249   0.066257  \n",
       "8978               -0.056263                          0.029391   0.082508  \n",
       "5877               -0.041618                          0.055555   0.148096  \n",
       "9666               -0.036212                          0.065214   0.170305  \n",
       "9171               -0.033581                          0.069913   0.180297  \n",
       "9848               -0.030551                          0.075326   0.191497  \n",
       "7812               -0.028145                          0.079627   0.200494  \n",
       "7021               -0.027941                          0.079990   0.202681  \n",
       "7125               -0.027802                          0.080239   0.202418  \n",
       "10574              -0.027089                          0.081513   0.205808  \n",
       "7887               -0.025870                          0.083689   0.207664  \n",
       "4790               -0.025172                          0.084936   0.210683  \n",
       "2265               -0.023843                          0.087312   0.210682  \n",
       "6561               -0.023556                          0.087824   0.217073  \n",
       "6649               -0.022576                          0.089575   0.221465  \n",
       "7505               -0.022546                          0.089629   0.222018  \n",
       "5608               -0.021746                          0.091058   0.221100  \n",
       "9814               -0.021310                          0.091836   0.229510  "
      ]
     },
     "execution_count": 174,
     "metadata": {},
     "output_type": "execute_result"
    }
   ],
   "source": [
    "df_predicted_ratings.sort_values(by='estimated_rating_diff_standardized').head(20)"
   ]
  },
  {
   "cell_type": "code",
   "execution_count": null,
   "metadata": {},
   "outputs": [],
   "source": []
  },
  {
   "cell_type": "code",
   "execution_count": 55,
   "metadata": {
    "ExecuteTime": {
     "end_time": "2021-05-20T09:58:54.024318Z",
     "start_time": "2021-05-20T09:58:52.568181Z"
    }
   },
   "outputs": [
    {
     "ename": "NameError",
     "evalue": "name 'pred' is not defined",
     "output_type": "error",
     "traceback": [
      "\u001b[0;31m---------------------------------------------------------------------------\u001b[0m",
      "\u001b[0;31mNameError\u001b[0m                                 Traceback (most recent call last)",
      "\u001b[0;32m<ipython-input-55-da54acba9089>\u001b[0m in \u001b[0;36m<module>\u001b[0;34m\u001b[0m\n\u001b[1;32m      1\u001b[0m \u001b[0;32mimport\u001b[0m \u001b[0mseaborn\u001b[0m \u001b[0;32mas\u001b[0m \u001b[0msns\u001b[0m\u001b[0;34m\u001b[0m\u001b[0;34m\u001b[0m\u001b[0m\n\u001b[0;32m----> 2\u001b[0;31m \u001b[0msns\u001b[0m\u001b[0;34m.\u001b[0m\u001b[0mboxplot\u001b[0m\u001b[0;34m(\u001b[0m\u001b[0mnp\u001b[0m\u001b[0;34m.\u001b[0m\u001b[0mround\u001b[0m\u001b[0;34m(\u001b[0m\u001b[0mpred\u001b[0m\u001b[0;34m)\u001b[0m\u001b[0;34m,\u001b[0m \u001b[0mdata\u001b[0m\u001b[0;34m)\u001b[0m\u001b[0;34m\u001b[0m\u001b[0;34m\u001b[0m\u001b[0m\n\u001b[0m",
      "\u001b[0;31mNameError\u001b[0m: name 'pred' is not defined"
     ]
    }
   ],
   "source": [
    "import seaborn as sns\n",
    "sns.boxplot(np.round(pred), data)"
   ]
  },
  {
   "cell_type": "code",
   "execution_count": 293,
   "metadata": {
    "ExecuteTime": {
     "end_time": "2021-05-19T23:22:43.428883Z",
     "start_time": "2021-05-19T23:22:43.371730Z"
    }
   },
   "outputs": [],
   "source": [
    "rating_array = [\n",
    "    (1, 10),\n",
    "    (5, 8),\n",
    "    (6, 3),\n",
    "    (943, 9)\n",
    "]\n",
    "\n",
    "data, pred = pred_data(rating_array, standardizer, model)"
   ]
  },
  {
   "cell_type": "code",
   "execution_count": 294,
   "metadata": {
    "ExecuteTime": {
     "end_time": "2021-05-19T23:22:43.678863Z",
     "start_time": "2021-05-19T23:22:43.626821Z"
    }
   },
   "outputs": [
    {
     "data": {
      "text/plain": [
       "[(16498, 'Shingeki no Kyojin'),\n",
       " (18397, 'Shingeki no Kyojin OVA'),\n",
       " (19285, 'Shingeki no Kyojin: Ano Hi Kara'),\n",
       " (19391, 'Shingeki no Kyojin Picture Drama'),\n",
       " (23775, 'Shingeki no Kyojin Movie 1: Guren no Yumiya'),\n",
       " (23777, 'Shingeki no Kyojin Movie 2: Jiyuu no Tsubasa'),\n",
       " (25777, 'Shingeki no Kyojin Season 2'),\n",
       " (25781, 'Shingeki no Kyojin: Kuinaki Sentaku'),\n",
       " (35267, 'Shingeki no Kyojin-ten 360° Taikan Theater'),\n",
       " (35760, 'Shingeki no Kyojin Season 3'),\n",
       " (36106, 'Shingeki no Kyojin: Lost Girls'),\n",
       " (36702, 'Shingeki no Kyojin Season 2 Movie: Kakusei no Houkou'),\n",
       " (37012, 'Animegatari x Shingeki no Kyojin Collab Eizou'),\n",
       " (38524, 'Shingeki no Kyojin Season 3 Part 2'),\n",
       " (39477, 'Shingeki no Kyojin Season 3 Specials'),\n",
       " (39478, 'Shingeki no Kyojin in the Dome: Heishi-tachi no Hoshizora'),\n",
       " (40028, 'Shingeki no Kyojin: The Final Season'),\n",
       " (42091, 'Shingeki no Kyojin: Chronicle')]"
      ]
     },
     "execution_count": 294,
     "metadata": {},
     "output_type": "execute_result"
    }
   ],
   "source": [
    "shingeki = [(k, v) for k, v in anime_id_to_title.items() if 'shingeki no kyojin' in v.lower()]\n",
    "shingeki"
   ]
  },
  {
   "cell_type": "code",
   "execution_count": 295,
   "metadata": {
    "ExecuteTime": {
     "end_time": "2021-05-19T23:22:44.658722Z",
     "start_time": "2021-05-19T23:22:44.597756Z"
    }
   },
   "outputs": [],
   "source": [
    "keys = [\n",
    "    'Shingeki no Kyojin',\n",
    "    'Shingeki no Kyojin Season 2',\n",
    "    'Shingeki no Kyojin Season 3',\n",
    "    'Shingeki no Kyojin Season 3 Part 2',\n",
    "    'Shingeki no Kyojin: The Final Season'\n",
    "]\n",
    "\n",
    "good_res = [\n",
    "    (anime_title_to_id[k], 10) for k in keys\n",
    "]\n",
    "bad_res = [(x, 1) for x in np.random.permutation(list(anime_id_to_title.keys()))[:10]]\n",
    "res = bad_res + good_res"
   ]
  },
  {
   "cell_type": "code",
   "execution_count": 296,
   "metadata": {
    "ExecuteTime": {
     "end_time": "2021-05-19T23:22:45.251808Z",
     "start_time": "2021-05-19T23:22:45.195093Z"
    }
   },
   "outputs": [
    {
     "data": {
      "text/plain": [
       "[(39651, 1),\n",
       " (5311, 1),\n",
       " (14659, 1),\n",
       " (37136, 1),\n",
       " (17457, 1),\n",
       " (30842, 1),\n",
       " (3436, 1),\n",
       " (4752, 1),\n",
       " (1248, 1),\n",
       " (3738, 1),\n",
       " (16498, 10),\n",
       " (25777, 10),\n",
       " (35760, 10),\n",
       " (38524, 10),\n",
       " (40028, 10)]"
      ]
     },
     "execution_count": 296,
     "metadata": {},
     "output_type": "execute_result"
    }
   ],
   "source": [
    "res"
   ]
  },
  {
   "cell_type": "code",
   "execution_count": 297,
   "metadata": {
    "ExecuteTime": {
     "end_time": "2021-05-19T23:22:45.765159Z",
     "start_time": "2021-05-19T23:22:45.700555Z"
    }
   },
   "outputs": [],
   "source": [
    "data, pred = pred_data(res, standardizer, model)"
   ]
  },
  {
   "cell_type": "code",
   "execution_count": 298,
   "metadata": {
    "ExecuteTime": {
     "end_time": "2021-05-19T23:22:46.142157Z",
     "start_time": "2021-05-19T23:22:46.082031Z"
    }
   },
   "outputs": [],
   "source": [
    "shingeki_id, shingeki_names = zip(*shingeki)\n",
    "shingeki_id = np.array(shingeki_id)\n",
    "shingeki_names = np.array(shingeki_names)\n",
    "\n",
    "all_names = np.array(list(anime_id_to_title.values()))"
   ]
  },
  {
   "cell_type": "code",
   "execution_count": 299,
   "metadata": {
    "ExecuteTime": {
     "end_time": "2021-05-19T23:22:47.248209Z",
     "start_time": "2021-05-19T23:22:47.189609Z"
    }
   },
   "outputs": [
    {
     "data": {
      "text/plain": [
       "[(8.72019711183153, 10.0),\n",
       " (9.137429132277012, 10.0),\n",
       " (8.523526416053956, 10.0),\n",
       " (8.499976697534429, 10.0),\n",
       " (8.579186289703335, 10.0),\n",
       " (8.314614474695569, 8.273758185593355),\n",
       " (7.680043235589919, 7.649418882343576),\n",
       " (7.611901288518434, 7.6091370558375635),\n",
       " (7.553530852762947, 7.539126675313446),\n",
       " (7.535347519888513, 7.527223230490018),\n",
       " (7.5081625406606864, 7.497878359264498),\n",
       " (7.385465205649259, 7.3831325301204815),\n",
       " (6.877785764332538, 6.877419354838709),\n",
       " (6.842439979698919, 6.8335060449050085),\n",
       " (6.722421229292721, 6.722222222222222),\n",
       " (6.485756907700809, 6.484544695071011),\n",
       " (6.465161361815478, 6.4655172413793105),\n",
       " (5.970409618532253, 5.970588235294118)]"
      ]
     },
     "execution_count": 299,
     "metadata": {},
     "output_type": "execute_result"
    }
   ],
   "source": [
    "i = np.argsort(-data[shingeki_id])\n",
    "list(zip(pred[shingeki_id][i], data[shingeki_id][i]))"
   ]
  },
  {
   "cell_type": "code",
   "execution_count": 313,
   "metadata": {
    "ExecuteTime": {
     "end_time": "2021-05-20T08:16:37.865488Z",
     "start_time": "2021-05-20T08:16:37.779766Z"
    }
   },
   "outputs": [
    {
     "data": {
      "text/plain": [
       "array([ 0.20744283,  0.16980164,  0.16936312, ..., -0.08056441,\n",
       "       -0.09468883, -0.09523948])"
      ]
     },
     "execution_count": 313,
     "metadata": {},
     "output_type": "execute_result"
    }
   ],
   "source": [
    "x = pred-standardizer.mean_array\n",
    "i = np.argsort(-x)\n",
    "x[i]"
   ]
  },
  {
   "cell_type": "code",
   "execution_count": 314,
   "metadata": {
    "ExecuteTime": {
     "end_time": "2021-05-20T08:16:38.526366Z",
     "start_time": "2021-05-20T08:16:38.439635Z"
    }
   },
   "outputs": [
    {
     "data": {
      "text/plain": [
       "(array([8.72019711, 9.10050688, 8.93848766, ..., 8.22008785, 7.24112005,\n",
       "        7.77427053]),\n",
       " array([8.51275428, 8.93070524, 8.76912454, ..., 8.30065226, 7.33580888,\n",
       "        7.86951001]))"
      ]
     },
     "execution_count": 314,
     "metadata": {},
     "output_type": "execute_result"
    }
   ],
   "source": [
    "pred[i], standardizer.mean_array[i]"
   ]
  },
  {
   "cell_type": "code",
   "execution_count": null,
   "metadata": {},
   "outputs": [],
   "source": []
  },
  {
   "cell_type": "code",
   "execution_count": 315,
   "metadata": {
    "ExecuteTime": {
     "end_time": "2021-05-20T08:16:53.752567Z",
     "start_time": "2021-05-20T08:16:53.609304Z"
    }
   },
   "outputs": [
    {
     "data": {
      "text/plain": [
       "['Tsukushi no Iwai',\n",
       " 'Tsuru no Sugomori',\n",
       " 'Son Gokuu no Hi no Youjin',\n",
       " '5-toubun no Hanayome ∬',\n",
       " 'Sanrio Christmas Fantasia',\n",
       " 'Utsukushii Message',\n",
       " 'Niji no Kakehashi',\n",
       " 'Karasu to Kaki no Tane',\n",
       " 'Konpeitou',\n",
       " 'Usagi no Mofy (TV)',\n",
       " 'Ookina Furudokei',\n",
       " 'Ukkari Pénélope (2013)',\n",
       " 'Kome no Uta',\n",
       " 'Power Powan',\n",
       " 'Natsuyasumi no Osakana',\n",
       " 'Sam-chan no Obake Nanka Kowaku Nai',\n",
       " 'Aria the Crepuscolo',\n",
       " 'Ni wa no Kotori',\n",
       " 'Mametarou Ganbare',\n",
       " 'Wedding Park',\n",
       " 'Tsuki no Mine no Ookami',\n",
       " 'Trojan wo Jibun no Te de',\n",
       " 'Koala-chan no Shouboutai',\n",
       " 'Da Wei Bei Ken Zhi Daomei Tegong Xiong',\n",
       " 'Two on the Road: Itsumo Futari de',\n",
       " 'Hashi no Ue no Ookami',\n",
       " 'Tanuki-san Ooatari',\n",
       " 'Miao Qiansui de Chengnian Li',\n",
       " 'B: The Beginning Succession',\n",
       " 'Konchuu Ninja',\n",
       " 'Ari to Hato (1953)',\n",
       " 'Kousagi Monogatari',\n",
       " 'Magical★Taruruuto-kun: Sukisuki Takoyaki!',\n",
       " 'Shiroi Zou',\n",
       " 'Fullmetal Alchemist: Brotherhood',\n",
       " 'Natsume Yuujinchou: Ishi Okoshi to Ayashiki Raihousha',\n",
       " 'Steins;Gate',\n",
       " 'Gintama°',\n",
       " 'Hunter x Hunter (2011)',\n",
       " \"Gintama'\",\n",
       " 'Ginga Eiyuu Densetsu',\n",
       " 'Gintama',\n",
       " 'Shingeki no Kyojin Season 3 Part 2',\n",
       " 'Gintama: The Final',\n",
       " 'Code Geass: Hangyaku no Lelouch R2',\n",
       " \"Gintama': Enchousen\",\n",
       " 'Clannad: After Story',\n",
       " '3-gatsu no Lion 2nd Season',\n",
       " 'Gintama Movie 2: Kanketsu-hen - Yorozuya yo Eien Nare',\n",
       " 'Minimini TV CM',\n",
       " 'Ari to Hato',\n",
       " 'Toki: Kono Hoshi no Mirai wo Mitsumete',\n",
       " 'Minna no Doutoku',\n",
       " 'Hikari Sasu Sora e',\n",
       " 'Shimajirou to Niji no Oasis',\n",
       " 'Mukashi Mukashi Momotarou',\n",
       " 'Kamiusagi Rope x Panasonic Collaboration',\n",
       " 'Kokoro no Hanataba',\n",
       " 'Pro Golfer Saru: Super Golf World e no Chousen!!',\n",
       " 'Sangokushi',\n",
       " 'Okawari-Boy Starzan-S',\n",
       " 'Tantei Shounen Kageman',\n",
       " 'Pic-lele',\n",
       " 'Kunimatsu-sama no Otoridai',\n",
       " 'Hage',\n",
       " 'Mother Teresa',\n",
       " 'Seito Shokun! Kokoro ni Midori no Neckerchief wo',\n",
       " 'Himawari no You ni',\n",
       " 'Shounen Tokugawa Ieyasu',\n",
       " 'Okaachan Gomen ne',\n",
       " 'Money Wars: Nerawareta Waterfront Keikaku',\n",
       " 'Hakkiri Kotowarou: Yuukai Sare Nai zo!',\n",
       " 'Ttoli Janggun',\n",
       " 'Sakai Noriko no Yoiko no Ohanashi Hiroba',\n",
       " 'Kkachi ae Nalgae',\n",
       " 'Sensou: Kodomo-tachi no Yuigon',\n",
       " 'Boku datte, Kirei ni Shitainda',\n",
       " 'Jujutsu Kaisen (TV)',\n",
       " 'Genbaku Dome Monogatari',\n",
       " 'Kimi wa Kanata',\n",
       " '\"Uchuu Senkan Yamato\" to Iu Jidai: Seireki 2202-nen no Sentaku',\n",
       " 'Makeruna! Senta: Sayonara Ijime Mushi',\n",
       " 'PikkaPika Summer',\n",
       " \"Notteke Explet's\",\n",
       " 'Manga Nihon Keizai Nyuumon',\n",
       " 'Sougen no Shoujo Laura',\n",
       " 'Mirai e no Niji: Boku no Ojisan wa, Hansen-byou',\n",
       " 'Shenmi Shijie Lixian Ji',\n",
       " 'Ganbare! Oden-kun',\n",
       " 'Sensou ga Owatta Natsu ni 1945 Karafuto',\n",
       " 'Satoukibibatake',\n",
       " 'Ganbare!! Tabuchi-kun!!',\n",
       " 'Kachikachi Yama (1940)',\n",
       " 'Obake no Q-Tarou: Tobidase! Bake Bake Daisakusen',\n",
       " 'Dokachin',\n",
       " 'Bishoujo Senshi Sailor Moon Eternal Movie 2',\n",
       " 'Cofun Gal no Coffy: Juuninin to Ikareru Cofun-tachi',\n",
       " 'The Primitives: Bongo and Grunge',\n",
       " 'Da Zuiba Dudu',\n",
       " 'Nana Moon',\n",
       " 'Feng Shu Zhan Jing',\n",
       " 'Harimogu Harry',\n",
       " 'Shuang Yue Zhi Cheng',\n",
       " 'Miracle Giants Doumu-kun Special',\n",
       " 'Koe wo Kikasete',\n",
       " 'Tensai? Dr. Hamax',\n",
       " 'Turuturutu Narongi',\n",
       " 'Fuusen no Doratarou',\n",
       " 'Mizu no Yume',\n",
       " 'Sanpou Shoujo',\n",
       " 'Chiro-wa Chingu-deul',\n",
       " 'Malta no Bouken Season 3',\n",
       " 'Malta no Bouken Season 2',\n",
       " 'Manichi ga Tsurai Kimochi Wakarimasu ka: Yurusenai! Net Ijime',\n",
       " 'Soukyuu no Fafner: Dead Aggressor - The Beyond Part 3',\n",
       " 'Mashin Eiyuuden Wataru: Shichikon no Ryuujinmaru',\n",
       " 'Kobito to Ao Mushi',\n",
       " 'Magical★Taruruuto-kun: Moeru! Yuujou no Mahou Taisen',\n",
       " 'Kyojin no Hoshi: Dai League Ball',\n",
       " 'Genki Genki Non-tan (2006)',\n",
       " 'Genki Genki Non-tan: Deka Deka Arigatou',\n",
       " 'Cofun Gal no Coffy: Cofunderella',\n",
       " 'Genki Genki Non-tan (2004)',\n",
       " 'Kimi no Na wa.',\n",
       " 'Koe no Katachi',\n",
       " 'Gintama.',\n",
       " 'Code Geass: Hangyaku no Lelouch',\n",
       " 'Owarimonogatari 2nd Season',\n",
       " 'Haikyuu!!: Karasuno Koukou vs. Shiratorizawa Gakuen Koukou',\n",
       " 'Monster',\n",
       " 'Violet Evergarden Movie',\n",
       " \"Fate/stay night Movie: Heaven's Feel - III. Spring Song\",\n",
       " 'Hajime no Ippo',\n",
       " 'Monogatari Series: Second Season',\n",
       " 'Death Note',\n",
       " 'Kizumonogatari III: Reiketsu-hen',\n",
       " 'Mushishi',\n",
       " 'Mob Psycho 100 II',\n",
       " 'Mushishi Zoku Shou 2nd Season',\n",
       " 'Tengen Toppa Gurren Lagann',\n",
       " 'Haikyuu!! Second Season',\n",
       " 'Gintama.: Shirogane no Tamashii-hen - Kouhan-sen',\n",
       " 'Suzumiya Haruhi no Shoushitsu',\n",
       " 'Lao Fu Zi Shui Hu Chuan',\n",
       " 'Fate/Zero 2nd Season',\n",
       " 'Great Teacher Onizuka',\n",
       " 'Made in Abyss',\n",
       " 'Shigatsu wa Kimi no Uso',\n",
       " 'Shouwa Genroku Rakugo Shinjuu: Sukeroku Futatabi-hen',\n",
       " 'Aria the Origination',\n",
       " 'Mushishi Zoku Shou',\n",
       " 'Rurouni Kenshin: Meiji Kenkaku Romantan - Tsuioku-hen',\n",
       " 'Natsume Yuujinchou Shi',\n",
       " 'Kaguya-sama wa Kokurasetai?: Tensai-tachi no Renai Zunousen',\n",
       " 'Gintama.: Shirogane no Tamashii-hen',\n",
       " 'Cowboy Bebop',\n",
       " 'Ashita no Joe 2',\n",
       " 'Vinland Saga',\n",
       " 'One Punch Man',\n",
       " 'Hajime no Ippo: New Challenger',\n",
       " 'Shingeki no Kyojin',\n",
       " 'Natsume Yuujinchou Roku',\n",
       " 'Sen to Chihiro no Kamikakushi',\n",
       " 'Bakuman. 3rd Season',\n",
       " 'Uchuu Kyoudai',\n",
       " 'Ocha-ken: Ryokutto Monogatari',\n",
       " 'Evangelion: 3.0+1.0 Thrice Upon a Time',\n",
       " 'Made in Abyss Movie 3: Fukaki Tamashii no Reimei',\n",
       " 'Natsume Yuujinchou San',\n",
       " 'Kimetsu no Yaiba',\n",
       " 'Mushishi Zoku Shou: Suzu no Shizuku',\n",
       " 'Ookami Kodomo no Ame to Yuki',\n",
       " \"Fate/stay night Movie: Heaven's Feel - II. Lost Butterfly\",\n",
       " 'Rainbow: Nisha Rokubou no Shichinin',\n",
       " 'Yakusoku no Neverland',\n",
       " 'Kizumonogatari II: Nekketsu-hen',\n",
       " 'Natsume Yuujinchou Go',\n",
       " 'Haikyuu!!',\n",
       " 'Zoku Natsume Yuujinchou',\n",
       " 'Nana',\n",
       " 'Violet Evergarden',\n",
       " 'Hajime no Ippo: Rising',\n",
       " 'Koukaku Kidoutai: Stand Alone Complex 2nd GIG',\n",
       " 'Mononoke Hime',\n",
       " 'Ping Pong the Animation',\n",
       " 'Kara no Kyoukai 5: Mujun Rasen',\n",
       " 'Major S5',\n",
       " 'Shingeki no Kyojin Season 3',\n",
       " 'Shouwa Genroku Rakugo Shinjuu',\n",
       " 'Yojouhan Shinwa Taikei',\n",
       " 'Kimetsu no Yaiba Movie: Mugen Ressha-hen',\n",
       " 'Ansatsu Kyoushitsu 2nd Season',\n",
       " 'Cross Game',\n",
       " 'Steins;Gate Movie: Fuka Ryouiki no Déjà vu',\n",
       " 'Fate/Zero',\n",
       " 'Mushishi: Hihamukage',\n",
       " 'Luo Xiao Hei Zhan Ji (Movie)',\n",
       " 'Tengen Toppa Gurren Lagann Movie 2: Lagann-hen',\n",
       " 'JoJo no Kimyou na Bouken Part 4: Diamond wa Kudakenai',\n",
       " 'Chihayafuru 2',\n",
       " 'Saiki Kusuo no Ψ-nan 2',\n",
       " 'Fruits Basket 2nd Season',\n",
       " 'Sora yori mo Tooi Basho',\n",
       " 'JoJo no Kimyou na Bouken Part 5: Ougon no Kaze',\n",
       " 'Mo Dao Zu Shi',\n",
       " 'Seishun Buta Yarou wa Yumemiru Shoujo no Yume wo Minai',\n",
       " 'Steins;Gate 0',\n",
       " 'Usagi Drop',\n",
       " 'Shingeki no Kyojin Season 2',\n",
       " 'Kiseijuu: Sei no Kakuritsu',\n",
       " 'Chihayafuru 3',\n",
       " 'Slam Dunk',\n",
       " 'Psycho-Pass',\n",
       " 'Howl no Ugoku Shiro',\n",
       " 'Baccano!',\n",
       " 'Re:Zero kara Hajimeru Isekai Seikatsu 2nd Season',\n",
       " 'Nodame Cantabile',\n",
       " 'Shuukan Storyland',\n",
       " 'Hanasaka Tenshi Tenten-kun',\n",
       " 'Long Zai Na Li',\n",
       " 'Shinya Doubutsuen',\n",
       " 'Manga Hajimete Monogatari',\n",
       " 'Shingeki no Kyojin: The Final Season',\n",
       " 'Manga Kodomo Bunko',\n",
       " 'Heart Cocktail Again',\n",
       " 'Chibikuro Sambo to Futago no Otouto',\n",
       " 'Hetchara Heiki no Heihachirou',\n",
       " 'Kabushiki Kaisha Zoo',\n",
       " \"Elmer no Bouken: My Father's Dragon\",\n",
       " 'Genki Genki Non-tan: Utaou! Christmas',\n",
       " 'Koukaku Kidoutai: Stand Alone Complex',\n",
       " 'Boku no Hero Academia 2nd Season',\n",
       " 'Saiki Kusuo no Ψ-nan',\n",
       " 'Major S6',\n",
       " 'Shinsekai yori',\n",
       " 'Samurai Champloo',\n",
       " 'Bakemonogatari',\n",
       " 'Versailles no Bara',\n",
       " 'Gintama Movie 1: Shinyaku Benizakura-hen',\n",
       " 'Mob Psycho 100',\n",
       " 'Hellsing Ultimate',\n",
       " 'JoJo no Kimyou na Bouken Part 3: Stardust Crusaders 2nd Season',\n",
       " 'Evangelion: 2.0 You Can (Not) Advance',\n",
       " 'Mahou Shoujo Madoka★Magica',\n",
       " 'Bakuman. 2nd Season',\n",
       " 'Ano Hi Mita Hana no Namae wo Bokutachi wa Mada Shiranai.',\n",
       " 'Kara no Kyoukai 7: Satsujin Kousatsu (Go)',\n",
       " 'Kono Subarashii Sekai ni Shukufuku wo!: Kurenai Densetsu',\n",
       " 'Uchuu Senkan Yamato 2199',\n",
       " 'Kingdom 2nd Season',\n",
       " 'Mahou Shoujo Madoka★Magica Movie 3: Hangyaku no Monogatari',\n",
       " 'Re:Zero kara Hajimeru Isekai Seikatsu',\n",
       " 'Golden Kamuy 3rd Season',\n",
       " 'Nichijou',\n",
       " 'Haikyuu!!: To the Top 2nd Season',\n",
       " 'Kemono no Souja Erin',\n",
       " 'Hunter x Hunter',\n",
       " 'Shirobako',\n",
       " 'Owarimonogatari',\n",
       " 'Shokugeki no Souma',\n",
       " 'Kaze ga Tsuyoku Fuiteiru',\n",
       " 'Kenpuu Denki Berserk',\n",
       " 'Barakamon',\n",
       " 'Gintama.: Porori-hen',\n",
       " 'Kimi no Suizou wo Tabetai',\n",
       " 'NHK ni Youkoso!',\n",
       " '3-gatsu no Lion',\n",
       " 'Tsubasa: Tokyo Revelations',\n",
       " 'Beck',\n",
       " 'Yuu☆Yuu☆Hakusho',\n",
       " 'Fate/stay night: Unlimited Blade Works 2nd Season',\n",
       " 'One Outs',\n",
       " 'Major: World Series',\n",
       " 'Mononoke',\n",
       " 'Hotaru no Haka',\n",
       " 'Natsume Yuujinchou Movie: Utsusemi ni Musubu',\n",
       " 'Durarara!!',\n",
       " 'Sakamichi no Apollon',\n",
       " 'Mushishi Zoku Shou: Odoro no Michi',\n",
       " 'Kaguya-sama wa Kokurasetai: Tensai-tachi no Renai Zunousen',\n",
       " 'Zoku Owarimonogatari',\n",
       " 'Katanagatari',\n",
       " 'Moeru! Oniisan',\n",
       " 'Natsume Yuujinchou',\n",
       " 'Mahou Shoujo Madoka★Magica Movie 2: Eien no Monogatari',\n",
       " 'Kuroko no Basket 3rd Season',\n",
       " 'Magi: The Kingdom of Magic',\n",
       " 'Mobile Suit Gundam: The Origin',\n",
       " 'Kuroko no Basket 2nd Season',\n",
       " 'Romeo no Aoi Sora',\n",
       " 'Higurashi no Naku Koro ni Kai',\n",
       " 'Major S1',\n",
       " 'Chihayafuru',\n",
       " 'Neon Genesis Evangelion: The End of Evangelion',\n",
       " 'Raiyantsuuri no Uta',\n",
       " 'Planetes',\n",
       " 'Toradora!',\n",
       " 'Kono Oto Tomare! 2nd Season',\n",
       " 'Mo Dao Zu Shi 2nd Season',\n",
       " 'Sayonara no Asa ni Yakusoku no Hana wo Kazarou',\n",
       " 'Ookami to Koushinryou II',\n",
       " 'Boku dake ga Inai Machi',\n",
       " 'Great Pretender',\n",
       " 'Gintama: Yorinuki Gintama-san on Theater 2D',\n",
       " 'Natsume Yuujinchou Roku Specials',\n",
       " 'Hunter x Hunter: Original Video Animation',\n",
       " 'Rurouni Kenshin: Meiji Kenkaku Romantan',\n",
       " 'Boku no Hero Academia 3rd Season',\n",
       " 'Maison Ikkoku',\n",
       " 'SKET Dance',\n",
       " 'Kino no Tabi: The Beautiful World',\n",
       " 'Steins;Gate: Oukoubakko no Poriomania',\n",
       " 'Kizumonogatari I: Tekketsu-hen',\n",
       " 'Grand Blue',\n",
       " 'Yahari Ore no Seishun Love Comedy wa Machigatteiru. Kan',\n",
       " 'Dr. Stone',\n",
       " 'No Game No Life: Zero',\n",
       " 'Diamond no Ace: Second Season',\n",
       " 'Nodame Cantabile: Finale',\n",
       " 'Houseki no Kuni (TV)',\n",
       " 'Hotarubi no Mori e',\n",
       " 'No Game No Life',\n",
       " 'Gintama: The Semi-Final',\n",
       " 'Katekyo Hitman Reborn!',\n",
       " 'Fate/stay night: Unlimited Blade Works',\n",
       " 'Major S3',\n",
       " 'Kamisama Hajimemashita: Kako-hen',\n",
       " 'Gyakkyou Burai Kaiji: Ultimate Survivor',\n",
       " 'K-On! Movie',\n",
       " 'Violet Evergarden Gaiden: Eien to Jidou Shuki Ningyou',\n",
       " 'IDOLiSH7: Second Beat!',\n",
       " 'Seitokai Yakuindomo Movie 2',\n",
       " 'Shining Star',\n",
       " 'Ganbare Swimmy',\n",
       " 'Sabaku no Kaizoku! Captain Kuppa',\n",
       " 'Eiga! Tamagotchi Uchuu Ichi Happy na Monogatari!?',\n",
       " 'Gintama°: Aizome Kaori-hen',\n",
       " 'Major S2',\n",
       " 'xxxHOLiC Kei',\n",
       " 'Hachimitsu to Clover II',\n",
       " 'Bakuman.',\n",
       " 'Saenai Heroine no Sodatekata Fine',\n",
       " 'Kono Subarashii Sekai ni Shukufuku wo! 2',\n",
       " 'Natsume Yuujinchou: Itsuka Yuki no Hi ni',\n",
       " 'Tian Guan Ci Fu Special',\n",
       " 'Sakura-sou no Pet na Kanojo',\n",
       " 'Fullmetal Alchemist',\n",
       " 'Haikyuu!!: To the Top',\n",
       " 'Gankutsuou',\n",
       " 'Shingeki no Kyojin: Kuinaki Sentaku',\n",
       " 'Gin no Saji 2nd Season',\n",
       " 'Aria the Natural',\n",
       " 'Danshi Koukousei no Nichijou',\n",
       " 'Ookami to Koushinryou',\n",
       " 'Ouran Koukou Host Club',\n",
       " 'Perfect Blue',\n",
       " 'Gintama: Shiroyasha Koutan',\n",
       " 'Digimon Adventure: Last Evolution Kizuna',\n",
       " 'Seishun Buta Yarou wa Bunny Girl Senpai no Yume wo Minai',\n",
       " 'Kaze no Tani no Nausicaä',\n",
       " 'Stranger: Mukou Hadan',\n",
       " 'Cowboy Bebop: Tengoku no Tobira',\n",
       " 'Detective Conan Movie 13: The Raven Chaser',\n",
       " 'Ashita no Joe',\n",
       " \"Fate/stay night Movie: Heaven's Feel - I. Presage Flower\",\n",
       " 'Yahari Ore no Seishun Love Comedy wa Machigatteiru. Zoku',\n",
       " 'Kuroko no Basket',\n",
       " 'Bakemono no Ko',\n",
       " 'One Piece Film: Strong World',\n",
       " 'Major S4',\n",
       " 'Musashi no Ken',\n",
       " 'Tenki no Ko',\n",
       " 'Noragami Aragoto',\n",
       " 'Shokugeki no Souma: Ni no Sara',\n",
       " 'Angel Beats!',\n",
       " 'Seirei no Moribito',\n",
       " 'Initial D First Stage',\n",
       " 'Banana Fish',\n",
       " 'Genki Bakuhatsu Ganbaruger',\n",
       " 'Oh! Family',\n",
       " 'Hibike! Euphonium 2',\n",
       " 'Girls & Panzer Movie',\n",
       " 'Skip Beat!',\n",
       " 'Hanada Shounen-shi',\n",
       " 'Kuroshitsuji Movie: Book of the Atlantic',\n",
       " 'JoJo no Kimyou na Bouken (TV)',\n",
       " 'Death Parade',\n",
       " 'Made in Abyss Movie 2: Hourou Suru Tasogare',\n",
       " 'Mobile Suit Gundam 00',\n",
       " 'Hunter x Hunter: Greed Island Final',\n",
       " 'Detective Conan Movie 06: The Phantom of Baker Street',\n",
       " 'Little Busters!: Refrain',\n",
       " 'Nodame Cantabile: Paris-hen',\n",
       " \"Mahou Shoujo Lyrical Nanoha: The Movie 2nd A's\",\n",
       " 'Fruits Basket 1st Season',\n",
       " 'Hajime no Ippo: Champion Road',\n",
       " 'Yuru Camp△',\n",
       " 'Kill la Kill',\n",
       " 'Kono Sekai no Katasumi ni',\n",
       " 'Non Non Biyori Movie: Vacation',\n",
       " 'Toaru Kagaku no Railgun T',\n",
       " 'Toki wo Kakeru Shoujo',\n",
       " 'Darker than Black: Kuro no Keiyakusha',\n",
       " 'Line Town',\n",
       " 'Hoshigari Hime no Bouken',\n",
       " 'Kouya no Kotobuki Hikoutai Gaiden: Oozora no Harukaze Hikoutai',\n",
       " 'Hinamatsuri',\n",
       " 'Youjo Senki Movie',\n",
       " 'Sennen Joyuu',\n",
       " 'Gyakkyou Burai Kaiji: Hakairoku-hen',\n",
       " 'Black Lagoon: The Second Barrage',\n",
       " 'Neon Genesis Evangelion',\n",
       " 'Mobile Suit Gundam Unicorn',\n",
       " 'Hikaru no Go',\n",
       " 'Tokyo Godfathers',\n",
       " 'One Piece Film: Z',\n",
       " 'D.Gray-man',\n",
       " 'Kami nomi zo Shiru Sekai: Megami-hen',\n",
       " 'Detective Conan: Episode One - The Great Detective Turned Small',\n",
       " 'Mobile Suit Gundam 00 Second Season',\n",
       " 'Nagi no Asu kara',\n",
       " 'xxxHOLiC Rou',\n",
       " 'Full Metal Panic? Fumoffu',\n",
       " 'Working!!!: Lord of the Takanashi',\n",
       " 'Trigun',\n",
       " 'InuYasha: Kanketsu-hen',\n",
       " 'Boku no Hero Academia',\n",
       " 'Tsuki ga Kirei',\n",
       " 'Ballroom e Youkoso',\n",
       " 'Quanzhi Gaoshou Specials',\n",
       " 'Hachimitsu to Clover',\n",
       " 'Natsume Yuujinchou Go Specials',\n",
       " 'Koukyoushihen Eureka Seven',\n",
       " 'Tenkuu no Shiro Laputa',\n",
       " 'Tonari no Totoro',\n",
       " 'Redline',\n",
       " 'K-On!!',\n",
       " 'Shokugeki no Souma: San no Sara',\n",
       " 'Douluo Dalu: Hao Tian Yang Wei',\n",
       " 'Nisemonogatari',\n",
       " 'Diamond no Ace',\n",
       " 'Mo Dao Zu Shi Q',\n",
       " 'Major: Message',\n",
       " 'Hyouka',\n",
       " 'Non Non Biyori Repeat',\n",
       " 'Clannad',\n",
       " 'Hajime no Ippo: Mashiba vs. Kimura',\n",
       " 'Princess Tutu',\n",
       " 'Dennou Coil',\n",
       " 'Detroit Metal City',\n",
       " 'City Hunter 2',\n",
       " 'Dragon Ball Z',\n",
       " 'Kanon (2006)',\n",
       " 'Hamster Club',\n",
       " 'Douluo Dalu: Qian Hua Xi Jin',\n",
       " 'Ginga Eiyuu Densetsu Gaiden',\n",
       " 'Hunter x Hunter: Greed Island',\n",
       " 'Shijou Saikyou no Deshi Kenichi',\n",
       " 'ef: A Tale of Melodies.',\n",
       " 'Final Fantasy VII: Advent Children Complete',\n",
       " 'Golden Kamuy 2nd Season',\n",
       " 'Higurashi no Naku Koro ni',\n",
       " 'Naruto: Shippuuden',\n",
       " 'Mimi wo Sumaseba',\n",
       " 'Eve no Jikan',\n",
       " 'Douluo Dalu: Jingying Sai',\n",
       " 'Berserk: Ougon Jidai-hen III - Kourin',\n",
       " 'Gosick',\n",
       " 'Tsubasa: Shunraiki',\n",
       " 'Gotcha!',\n",
       " 'Initial D Fourth Stage',\n",
       " 'ReLIFE: Kanketsu-hen',\n",
       " 'Gin no Saji',\n",
       " 'Dororo',\n",
       " 'Violet Evergarden: Kitto \"Ai\" wo Shiru Hi ga Kuru no Darou',\n",
       " 'Mahou Shoujo Madoka★Magica Movie 1: Hajimari no Monogatari',\n",
       " 'Doukyuusei (Movie)',\n",
       " 'Lovely★Complex',\n",
       " 'Fate/stay night: Unlimited Blade Works Prologue',\n",
       " 'Baccano! Specials',\n",
       " 'Koukaku Kidoutai',\n",
       " 'Koukaku Kidoutai: Stand Alone Complex - Solid State Society',\n",
       " 'Kodomo no Omocha (TV)',\n",
       " 'Glass no Kamen (2005)',\n",
       " 'Cardcaptor Sakura',\n",
       " 'Saiki Kusuo no Ψ-nan: Kanketsu-hen',\n",
       " 'Kuroshitsuji: Book of Circus',\n",
       " 'Kuragehime',\n",
       " 'Kono Subarashii Sekai ni Shukufuku wo!',\n",
       " 'Bungou Stray Dogs 2nd Season',\n",
       " 'Kuroshitsuji: Book of Murder',\n",
       " 'Cardcaptor Sakura Movie 2: Fuuin Sareta Card',\n",
       " 'Asobi Asobase',\n",
       " 'Given',\n",
       " 'Saiunkoku Monogatari 2nd Season',\n",
       " 'One Piece: Episode of Merry - Mou Hitori no Nakama no Monogatari',\n",
       " 'Yuuki Yuuna wa Yuusha de Aru: Washio Sumi no Shou 3 - Yakusoku',\n",
       " 'Honzuki no Gekokujou: Shisho ni Naru Tame ni wa Shudan wo Erandeiraremasen 2nd Season',\n",
       " 'Detective Conan Movie 20: The Darkest Nightmare',\n",
       " 'Lupin III: Part 5',\n",
       " 'Yowamushi Pedal: Grande Road',\n",
       " 'Majo no Takkyuubin',\n",
       " 'Juuni Kokuki',\n",
       " 'Touch',\n",
       " 'Ookiku Furikabutte: Natsu no Taikai-hen',\n",
       " 'Summer Wars',\n",
       " 'Tsumiki no Ie',\n",
       " 'Steins;Gate: Kyoukaimenjou no Missing Link - Divide By Zero',\n",
       " 'School Rumble Ni Gakki',\n",
       " 'Kingdom',\n",
       " 'Kanata no Astra',\n",
       " 'Kaguya-hime no Monogatari',\n",
       " 'Kizuna (2014)',\n",
       " 'Space☆Dandy 2nd Season',\n",
       " 'Detective Conan Movie 14: The Lost Ship in the Sky',\n",
       " 'Toaru Kagaku no Railgun S',\n",
       " 'Black Lagoon',\n",
       " 'Initial D Final Stage',\n",
       " 'Ling Long: Incarnation Part 2',\n",
       " 'Kaiba',\n",
       " 'Shoujo Kakumei Utena',\n",
       " 'Shoujo Shuumatsu Ryokou',\n",
       " 'Kimi ni Todoke',\n",
       " 'One Piece: Episode of Nami - Koukaishi no Namida to Nakama no Kizuna',\n",
       " 'Working!!!',\n",
       " 'School Rumble',\n",
       " 'Phantom: Requiem for the Phantom',\n",
       " 'Tennis no Ouji-sama: Zenkoku Taikai-hen - Final',\n",
       " 'Magi: The Labyrinth of Magic',\n",
       " 'Eve no Jikan (Movie)',\n",
       " 'Tsukimonogatari',\n",
       " 'Full Moon wo Sagashite',\n",
       " 'Quanzhi Gaoshou Zhi Dianfeng Rongyao',\n",
       " 'Kara no Kyoukai 3: Tsuukaku Zanryuu',\n",
       " \"Kyoukai no Kanata Movie 2: I'll Be Here - Mirai-hen\",\n",
       " 'Hidamari Sketch: Sae Hiro Sotsugyou-hen',\n",
       " 'ef: A Tale of Memories.',\n",
       " 'Karakai Jouzu no Takagi-san 2',\n",
       " 'Log Horizon',\n",
       " 'Kaleido Star',\n",
       " 'Zankyou no Terror',\n",
       " 'Tokyo Magnitude 8.0',\n",
       " 'Detective Conan Movie 05: Countdown to Heaven',\n",
       " 'Ansatsu Kyoushitsu',\n",
       " 'Yoru wa Mijikashi Arukeyo Otome',\n",
       " 'Shelter',\n",
       " 'Omoide no Marnie',\n",
       " 'Tiger & Bunny',\n",
       " \"Wolf's Rain OVA\",\n",
       " 'JoJo no Kimyou na Bouken Part 3: Stardust Crusaders',\n",
       " 'Liz to Aoi Tori',\n",
       " 'Qin Shi Ming Yue: Junlin Tianxia',\n",
       " 'Uchouten Kazoku 2',\n",
       " 'Tennis no Ouji-sama',\n",
       " 'Gintama: Shinyaku Benizakura-hen',\n",
       " 'Baby Steps 2nd Season',\n",
       " 'Zetsuen no Tempest',\n",
       " 'Initial D Second Stage',\n",
       " 'Macross F Movie 2: Sayonara no Tsubasa',\n",
       " 'Mawaru Penguindrum',\n",
       " 'Durarara!!x2 Ketsu',\n",
       " 'Mirai Shounen Conan',\n",
       " 'Kobato.',\n",
       " 'Saiki Kusuo no Ψ-nan: Ψ-shidou-hen',\n",
       " 'Evangelion: 1.0 You Are (Not) Alone',\n",
       " 'xxxHOLiC Shunmuki',\n",
       " 'Eyeshield 21',\n",
       " 'Lupin III: Cagliostro no Shiro',\n",
       " 'Ginga Eiyuu Densetsu: Die Neue These - Seiran 3',\n",
       " 'Major Movie: Yuujou no Winning Shot',\n",
       " 'Hi no Ame ga Furu',\n",
       " 'Full Metal Panic! The Second Raid',\n",
       " 'xxxHOLiC',\n",
       " 'Mobile Suit Gundam: Iron-Blooded Orphans 2nd Season',\n",
       " 'Aria the Avvenire',\n",
       " 'Shokugeki no Souma: San no Sara - Tootsuki Ressha-hen',\n",
       " 'Beastars',\n",
       " 'Tennis no Ouji-sama: Zenkoku Taikai-hen',\n",
       " 'Tamayura: Sotsugyou Shashin Part 4 - Ashita',\n",
       " 'Yahari Ore no Seishun Love Comedy wa Machigatteiru.',\n",
       " 'Tengen Toppa Gurren Lagann Movie 1: Gurren-hen',\n",
       " 'Akatsuki no Yona',\n",
       " 'Ookiku Furikabutte',\n",
       " 'Kyou kara Ore wa!!',\n",
       " 'Tennis no Ouji-sama: Zenkoku Taikai-hen - Semifinal',\n",
       " 'ReLIFE',\n",
       " 'Aikatsu! Movie',\n",
       " 'Nurarihyon no Mago: Sennen Makyou',\n",
       " 'Kobayashi-san Chi no Maid Dragon',\n",
       " 'Wu Liuqi Zhi Zui Qiang Fa Xing Shi',\n",
       " 'Yowamushi Pedal',\n",
       " 'Mobile Suit Gundam: The Origin - Advent of the Red Comet',\n",
       " 'Macross F',\n",
       " 'Diamond no Ace: Act II',\n",
       " 'Azumanga Daioh',\n",
       " 'High Score Girl II',\n",
       " 'Detective Conan Movie 08: Magician of the Silver Sky',\n",
       " 'Ginga Eiyuu Densetsu: Arata Naru Tatakai no Overture',\n",
       " 'Yuusha-Ou GaoGaiGar Final',\n",
       " 'Slayers Next',\n",
       " 'Kaichou wa Maid-sama!',\n",
       " 'Kimi ni Todoke 2nd Season',\n",
       " \"Black Lagoon: Roberta's Blood Trail\",\n",
       " 'Yakitate!! Japan',\n",
       " 'One Piece Movie 14: Stampede',\n",
       " \"Mahou Shoujo Lyrical Nanoha A's\",\n",
       " 'Boku no Hero Academia 4th Season',\n",
       " 'Aria the Origination: Sono Choppiri Himitsu no Basho ni...',\n",
       " 'Detective Conan Movie 10: Requiem of the Detectives',\n",
       " 'Kamisama Hajimemashita◎',\n",
       " 'Kuuchuu Buranko',\n",
       " 'Hikaru no Go: Hokuto Hai e no Michi',\n",
       " 'Ginga Eiyuu Densetsu Gaiden (1999)',\n",
       " 'Detective Conan Movie 18: The Sniper from Another Dimension',\n",
       " 'Sekaiichi Hatsukoi 2',\n",
       " 'Terra e... (TV)',\n",
       " 'Kami nomi zo Shiru Sekai II',\n",
       " 'Gekkan Shoujo Nozaki-kun',\n",
       " 'BanG Dream! 3rd Season',\n",
       " 'Code Geass: Hangyaku no Lelouch III - Oudou',\n",
       " 'Kotonoha no Niwa',\n",
       " 'Senki Zesshou Symphogear XV',\n",
       " 'Ginga Sengoku Gunyuuden Rai',\n",
       " 'Tian Guan Ci Fu',\n",
       " 'Kuroko no Basket: Saikou no Present Desu',\n",
       " 'Mahoutsukai no Yome',\n",
       " 'Detective Conan Movie 04: Captured in Her Eyes',\n",
       " 'Jigoku Shoujo Futakomori',\n",
       " 'Hokuto no Ken',\n",
       " 'Saiunkoku Monogatari',\n",
       " 'Dorohedoro',\n",
       " 'Saint Seiya: The Lost Canvas - Meiou Shinwa 2',\n",
       " 'Chuunibyou demo Koi ga Shitai! Movie: Take On Me',\n",
       " 'Tensei shitara Slime Datta Ken',\n",
       " 'Gintama: Nanigoto mo Saiyo ga Kanjin nano de Tasho Senobisuru Kurai ga Choudoyoi',\n",
       " 'Kokoro Connect: Michi Random',\n",
       " 'Takarajima',\n",
       " 'Noragami',\n",
       " 'Nanatsu no Taizai',\n",
       " 'Girls & Panzer: Saishuushou Part 2',\n",
       " 'Ore Monogatari!!',\n",
       " 'Detective Conan Movie 03: The Last Wizard of the Century',\n",
       " 'Youjo Senki',\n",
       " 'Akachan to Boku',\n",
       " 'Koukaku Kidoutai: Stand Alone Complex - The Laughing Man',\n",
       " 'Kawaki wo Ameku',\n",
       " 'Maria-sama ga Miteru 3rd',\n",
       " 'Bungou Stray Dogs 3rd Season',\n",
       " 'Haibane Renmei',\n",
       " 'Hanasaku Iroha',\n",
       " 'Les Misérables: Shoujo Cosette',\n",
       " 'Eizouken ni wa Te wo Dasu na!',\n",
       " 'Durarara!!x2 Shou',\n",
       " 'Honzuki no Gekokujou: Shisho ni Naru Tame ni wa Shudan wo Erandeiraremasen',\n",
       " 'Mahoutsukai no Yome: Hoshi Matsu Hito',\n",
       " 'Hibike! Euphonium',\n",
       " 'Clannad: Mou Hitotsu no Sekai, Tomoyo-hen',\n",
       " 'Dragon Ball',\n",
       " 'Aria the OVA: Arietta',\n",
       " 'One Piece Film: Strong World Episode 0',\n",
       " 'Sakasama no Patema',\n",
       " 'Love Live! The School Idol Movie',\n",
       " \"Gintama': Futon ni Haitte kara Buki Nokoshi ni Kizuite Neru ni Nerenai Toki mo Aru\",\n",
       " 'Suzumiya Haruhi no Yuuutsu',\n",
       " 'Yahari Ore no Seishun Love Comedy wa Machigatteiru. Zoku OVA',\n",
       " 'Darker than Black: Kuro no Keiyakusha Gaiden',\n",
       " 'Soul Eater',\n",
       " 'Kakushigoto (TV)',\n",
       " 'Eikoku Koi Monogatari Emma: Molders-hen',\n",
       " 'Little Witch Academia (TV)',\n",
       " 'Girls & Panzer: Saishuushou Part 1',\n",
       " 'Ginga Eiyuu Densetsu: Die Neue These - Seiran 2',\n",
       " 'Yuru Yuri San☆Hai!',\n",
       " 'Made in Abyss Movie 1: Tabidachi no Yoake',\n",
       " 'Rurouni Kenshin: Meiji Kenkaku Romantan - Seisou-hen',\n",
       " 'Kimi to Boku. 2',\n",
       " 'Junjou Romantica 2',\n",
       " 'Nekomonogatari: Kuro',\n",
       " 'Ergo Proxy',\n",
       " 'Dragon Ball Super Movie: Broly',\n",
       " 'City Hunter',\n",
       " 'Karigurashi no Arrietty',\n",
       " 'Persona 3 the Movie 4: Winter of Rebirth',\n",
       " 'Trigun: Badlands Rumble',\n",
       " 'Osomatsu-san',\n",
       " 'Kaze Tachinu',\n",
       " 'Fullmetal Alchemist: Brotherhood Specials',\n",
       " 'Sayonara Zetsubou Sensei',\n",
       " 'Kuroko no Basket Movie 4: Last Game',\n",
       " 'Macross F Movie 1: Itsuwari no Utahime',\n",
       " 'Kankara Sanshin',\n",
       " 'Ginga Nagareboshi Gin',\n",
       " 'Doubutsu Dai Yakyuu Sen',\n",
       " 'Uli Chingu Kkachi',\n",
       " 'Mr. Pen Pen',\n",
       " 'Oroka',\n",
       " 'Judo Sanka',\n",
       " 'Naita Aka Oni',\n",
       " 'Ponta to Ensoku',\n",
       " 'Tetsujin 28-gou Gao!',\n",
       " 'Quiz de Manabu Pinocchio no Koutsuu Ansen',\n",
       " 'Lao Fu Zi Fan Dou Zhen Tan',\n",
       " 'Kagee Aesop Monogatari',\n",
       " 'Golden Boy',\n",
       " 'Makkuro na Obentou',\n",
       " 'Ikkyuu-san: Ooabare Yancha-hime',\n",
       " 'Michi (Movie)',\n",
       " 'Ocha-ken: Hotto Monogatari',\n",
       " 'Tsuru no Ongaeshi',\n",
       " 'Otogi Banashi: Bunbuku Chagama',\n",
       " 'Sabishi Gariya-san Konnichiwa',\n",
       " 'Okaasan no Yasashii te',\n",
       " 'Midori no Makibao Compilation OVA',\n",
       " 'Patchin shite! Obaachan',\n",
       " 'Nu Sheng Su She Ri Chang',\n",
       " 'Jungle Kurobee',\n",
       " 'Kiss made, Ato 1 Byou.',\n",
       " 'Tezuka Osamu no Uchuu Wonder 3: Ginga Renmei no Shisha',\n",
       " 'Kimi ga Suki. The Animation',\n",
       " 'Wangu Xian Qiong IV: Yin Yue Cheng Pian',\n",
       " 'So-na-gi',\n",
       " 'Hawaiian Conu',\n",
       " 'Ganbare! Bokura no Hit and Run',\n",
       " 'Princess Principal: Crown Handler 1',\n",
       " 'Shibuzome Ikki: Ashita ni Kakeru Niji',\n",
       " 'Muku Hatojuu no Meiken Monogatari',\n",
       " 'Bean Bandit',\n",
       " 'Beastars 2nd Season',\n",
       " 'Moshimoshi, Terumi Desu.',\n",
       " 'Oshie to Tabi Suru Otoko',\n",
       " 'Boku no Aozora',\n",
       " 'Kokoro no Catchball',\n",
       " 'Hotaru no Mau Machi de',\n",
       " 'Mirai Kara no Message',\n",
       " 'Shiawase no Katachi',\n",
       " 'Chibi Maruko-chan no Konna Nori Kata Abunai yo',\n",
       " 'Eiga de Utaou! Mother Goose',\n",
       " 'Minna no Taabou Konnichiwa',\n",
       " 'Hong Haier: Juezhan Huoyanshan',\n",
       " 'Hello Kitty to Miyou: Nihon Mukashibanashi',\n",
       " 'Muzumuzu Eighteen',\n",
       " 'Pokopon no Satogaeri',\n",
       " 'Kahei no Umi',\n",
       " 'Hyper ERT',\n",
       " 'Jun ga Kureta Inochi',\n",
       " 'Nenbutsu Monogatari',\n",
       " 'Feng Shu Zhan Jing 2',\n",
       " 'Buppu na Mainichi',\n",
       " 'Hitori Shika Inai Jibun',\n",
       " 'Girls★Battle Aloe Megumi',\n",
       " 'Kiraware Mono no Rasu',\n",
       " 'Kizu-darake no Ringo',\n",
       " 'Kimoshiba',\n",
       " 'Chie-chan Funsenki: Jarinko Chie',\n",
       " 'Chotto Ugoku!? \"Futeneko\"',\n",
       " 'Minwa Anime Series',\n",
       " 'Hiroshima no Enoki',\n",
       " 'Hong Mao Lan Tu: Kaixin Yike',\n",
       " 'Mizuki Shigeru no Toono Monogatari',\n",
       " 'Chuugakusei',\n",
       " 'Hulu Xiao Jin Gang',\n",
       " 'Wu Lan Qi Qi Ge',\n",
       " 'Nintama Rantarou: Saraba Ninjutsu Gakuen no Dan',\n",
       " 'Shi Wan Ge Leng Xiaohua Movie 2',\n",
       " 'Honou no Senshi: Firegirl',\n",
       " 'Susume! Dokan-kun',\n",
       " \"Let's Go Nakama-tachi!: Bokura to Hakase no Bouka no Chikai\",\n",
       " 'Nyani ga Nyandaa Nyandaa Kamen no Yuukai Boushi: Miiko-chan Chanto Check!!',\n",
       " 'Chibi Maruko-chan no Koutsuu Anzen',\n",
       " 'Nonki na Tou-san Ryuuguu Mairi',\n",
       " 'Catchy-kun no Nice Catch!',\n",
       " 'Hybrid Deka',\n",
       " 'Jumbagi: Hanbandoui gongryong 3D',\n",
       " 'Santa no Yama Yousei no Mori',\n",
       " 'SK∞',\n",
       " 'Shampoo Ouji',\n",
       " 'Habatake Pii-tan',\n",
       " 'Kachikachi Yama (1958)',\n",
       " 'Hua Jiang Hu Zhi Bu Liang Ren 3rd Season',\n",
       " 'Shaka no Shougai',\n",
       " 'Kokekkou-san',\n",
       " 'Kono Sora no Shita de',\n",
       " 'Haedori Daemoheom',\n",
       " 'Hana Ichi Monme (OVA)',\n",
       " 'Ranpou',\n",
       " 'Ken to Kaijuu',\n",
       " 'Jarujio Animal',\n",
       " 'Ojisan Kaizou Kouza',\n",
       " 'Saikin Ponta',\n",
       " 'Kansuke-san to Fushigi na Jitensha',\n",
       " 'Sekai no Fushigi Tanken Series',\n",
       " 'Kappa no Suribachi',\n",
       " 'Saitama Bousou Saizensen Flag! Shinimonogurui no Seishun!!',\n",
       " 'Isobe Isobee Monogatari: Ukiyo wa Tsurai yo',\n",
       " 'Kikansha Sensei',\n",
       " 'Nippon Tanjou',\n",
       " 'Shisei Sasshin',\n",
       " 'Obake no Q-Tarou: Susume! 1/100 Daisakusen',\n",
       " 'Hanakappa Movie: Hanasake! Pakkaan♪ Chou no Kuni no Daibouken',\n",
       " 'Mecha Robot Corps 3',\n",
       " 'Pro Golfer Saru: Kouga Hikyou! Kage no Ninpou Golfer Sanjou!',\n",
       " 'Robin-kun to 100 nin no Otomodachi Season 2',\n",
       " 'Mama Ohanashi Kikasete',\n",
       " 'Hanshin Awaji Daishinsai ni Manabu: Boku wa, Ano Hi wo Wasurenai.',\n",
       " 'Henteko na Volunteer',\n",
       " 'Kuzuryuugawa to Shounen',\n",
       " 'Ishii Hisaichi no Nanda Kanda Gekijou',\n",
       " 'Genkichi Jiisan to Kogitsune',\n",
       " 'Hitoribotchi',\n",
       " 'Kaneko Misuzu: Yasashisa no Fuukei',\n",
       " 'Obake Entotsu no Uta',\n",
       " 'Jigoku no Soubee',\n",
       " 'Crayon no Hoshi',\n",
       " 'Mebae no Ashita',\n",
       " 'Nat-chan no Akai Tebukuro',\n",
       " 'Hato yo: Hiroshima no Sora wo',\n",
       " 'Paper Cranes Story: Kenta to Maiko',\n",
       " 'Moudouken Quill no Isshou',\n",
       " 'Hidamari no Ie',\n",
       " 'Tabi no Kisetsu',\n",
       " 'Otenki Boys',\n",
       " 'Go Go Toraemon',\n",
       " 'Nobunaga-kun no Minna de Yakusoku Hi no Youjin',\n",
       " 'Uwabaki Cook',\n",
       " 'Konna Ko Iru kana',\n",
       " 'Otogi no Sekai Ryokou',\n",
       " 'Katta-kun Monogatari',\n",
       " 'Mini Yon Soldier Rin!',\n",
       " 'Kaiketsu Zorori Movie: Uchuu no Yuusha-tachi',\n",
       " 'Chibi Neko Tomu no Daibouken: Chikyuu wo Sukue! Nakama-tachi',\n",
       " 'Fushigina Ano Ko wa Sutekina Kono Ko',\n",
       " 'Tonari no Tamageta-kun',\n",
       " 'Fuwa no go renkan',\n",
       " 'Kouya no Kotobuki Hikoutai Kanzenban',\n",
       " 'Roppou Yabure-kun',\n",
       " 'Manga Hajimete Monogatari OVA',\n",
       " 'Mouretsu Atarou',\n",
       " 'Pipi Tobenai Hotaru',\n",
       " 'Nanbo no Monjai! Yankee Gurentai',\n",
       " 'Chingou Muchabee',\n",
       " 'Shimajirou to Fufu no Daibouken Movie: Sukue! Nana-iro no Hana',\n",
       " 'Judo-bu Monogatari',\n",
       " 'Doteraman',\n",
       " 'Asobo Toy-chan',\n",
       " 'Magical★Taruruuto-kun Movie',\n",
       " 'Mono no Kamisama Cocotama',\n",
       " 'Kero Kero Keroppi no Mitsubachi Daisoudou',\n",
       " 'Hello Kitty no Yappari Mama ga Suki',\n",
       " 'Mahoutsukai Sally Specials',\n",
       " 'Xixing Ji Zhi Zaijian Wukong',\n",
       " 'Garon',\n",
       " 'Manga Jinbutsushi',\n",
       " 'Ojiichan no Hanabi',\n",
       " 'Ichigo Ichie: Kimi no Kotoba',\n",
       " 'Tokyo Mikansei',\n",
       " 'One Nyan Monogatari',\n",
       " 'Onpu',\n",
       " 'Sign (2019)',\n",
       " 'Maido! Urayasu Tekkin Kazoku',\n",
       " 'Spheres',\n",
       " 'Mikan Enikki Specials',\n",
       " 'Furusato no Gogatsu',\n",
       " 'Choukadou Girl ⅙: Nona Video Nikki',\n",
       " 'Fuusen Shoujo Temple-chan Movie',\n",
       " 'Form of Stress',\n",
       " 'Genki Genki Non-tan: Obake Mura Meiro',\n",
       " 'Koukaku Kidoutai: Stand Alone Complex 2nd GIG - Individual Eleven',\n",
       " 'Hanamonogatari',\n",
       " 'Mobile Suit Gundam SEED',\n",
       " 'Gintama: Dai Hanseikai',\n",
       " 'Seto no Hanayome',\n",
       " 'Hidamari Sketch x Honeycomb',\n",
       " 'Yume-iro Pâtissière',\n",
       " 'Kara no Kyoukai: Mirai Fukuin',\n",
       " 'Beelzebub',\n",
       " 'Fate/kaleid liner Prisma☆Illya Movie: Sekka no Chikai',\n",
       " 'High Score Girl: Extra Stage',\n",
       " 'Overlord',\n",
       " 'Durarara!!x2 Ten',\n",
       " 'Capeta',\n",
       " 'Paprika',\n",
       " 'Interstella5555: The 5tory of The 5ecret 5tar 5ystem',\n",
       " 'Kyou kara Maou!',\n",
       " 'Tate no Yuusha no Nariagari',\n",
       " 'Isekai no Seikishi Monogatari',\n",
       " 'Saint Seiya: Meiou Hades Juuni Kyuu-hen',\n",
       " 'Hajime no Ippo: Boxer no Kobushi',\n",
       " 'Given Movie',\n",
       " \"Wolf's Rain\",\n",
       " 'Hidamari Sketch x ☆☆☆',\n",
       " 'Break Blade 4: Sanka no Chi',\n",
       " 'Shirokuma Cafe',\n",
       " 'Akatsuki no Yona OVA',\n",
       " 'Sekaiichi Hatsukoi OVA',\n",
       " 'Macross: Do You Remember Love?',\n",
       " 'Aoki Hagane no Arpeggio: Ars Nova Cadenza',\n",
       " 'Maoujou de Oyasumi',\n",
       " 'Tamako Love Story',\n",
       " 'Hello! Lady Lynn',\n",
       " 'Seto no Hanayome OVA',\n",
       " 'Non Non Biyori',\n",
       " 'IDOLiSH7 Vibrato',\n",
       " 'Star☆Twinkle Precure: Hoshi no Uta ni Omoi wo Komete',\n",
       " 'Detective Conan Movie 15: Quarter of Silence',\n",
       " 'Bleach',\n",
       " 'Gungrave',\n",
       " 'One Piece: Episode of East Blue - Luffy to 4-nin no Nakama no Daibouken',\n",
       " 'Mobile Suit Gundam: The 08th MS Team',\n",
       " 'Higashi no Eden',\n",
       " 'Sekaiichi Hatsukoi Movie: Yokozawa Takafumi no Baai',\n",
       " 'xxxHOLiC Movie: Manatsu no Yoru no Yume',\n",
       " 'Zoku Sayonara Zetsubou Sensei',\n",
       " 'Initial D Fifth Stage',\n",
       " 'Akagami no Shirayuki-hime 2nd Season',\n",
       " 'Mahou Shoujo Lyrical Nanoha: The Movie 1st',\n",
       " 'Ano Hi Mita Hana no Namae wo Bokutachi wa Mada Shiranai. Movie',\n",
       " 'Fairy Tail',\n",
       " 'One Piece Film: Gold',\n",
       " 'Kokoro ga Sakebitagatterunda.',\n",
       " 'Carole & Tuesday',\n",
       " 'Saint Seiya: The Lost Canvas - Meiou Shinwa',\n",
       " 'Jungle wa Itsumo Hare nochi Guu',\n",
       " 'Lupin III (2015)',\n",
       " 'Touhai Densetsu Akagi: Yami ni Maiorita Tensai',\n",
       " 'Shiki',\n",
       " 'Serial Experiments Lain',\n",
       " 'Kono Subarashii Sekai ni Shukufuku wo! 2: Kono Subarashii Geijutsu ni Shukufuku wo!',\n",
       " 'Magi: Sinbad no Bouken (TV)',\n",
       " 'Ganbare Genki',\n",
       " 'Usagi Drop Specials',\n",
       " 'Koukaku Kidoutai 2.0',\n",
       " 'Macross',\n",
       " 'Jormungand: Perfect Order',\n",
       " 'Overlord III',\n",
       " 'Wan Sheng Jie 2',\n",
       " \"City Hunter '91\",\n",
       " 'Lucky☆Star',\n",
       " 'Kamisama Hajimemashita: Kamisama, Shiawase ni Naru',\n",
       " 'Mobile Suit Gundam: Iron-Blooded Orphans',\n",
       " 'Hayate no Gotoku!!',\n",
       " 'Drifters',\n",
       " 'Ginga Eiyuu Densetsu: Waga Yuku wa Hoshi no Taikai',\n",
       " 'Akira',\n",
       " 'Gintama°: Umai-mono wa Atomawashi ni Suru to Yokodorisareru kara Yappari Saki ni Kue',\n",
       " \"Working'!!\",\n",
       " 'Igano Kabamaru',\n",
       " 'Yuri!!! on Ice',\n",
       " 'Ghost Hunt',\n",
       " 'Wu Geng Ji 3rd Season',\n",
       " 'Hoozuki no Reitetsu 2nd Season OVA',\n",
       " 'Last Exile',\n",
       " 'One Piece 3D2Y: Ace no shi wo Koete! Luffy Nakama Tono Chikai',\n",
       " 'Hyouge Mono',\n",
       " 'Stand By Me Doraemon',\n",
       " 'Ie Naki Ko',\n",
       " 'Detective Conan OVA 09: The Stranger in 10 Years...',\n",
       " 'Kaleido Star: Legend of Phoenix - Layla Hamilton Monogatari',\n",
       " 'Quanzhi Gaoshou 2',\n",
       " 'Ushio to Tora (TV) 2nd Season',\n",
       " 'Wotaku ni Koi wa Muzukashii',\n",
       " 'High Score Girl',\n",
       " 'Death Billiards',\n",
       " 'Kamisama Hajimemashita',\n",
       " 'Zan Sayonara Zetsubou Sensei',\n",
       " 'Hataraku Maou-sama!',\n",
       " 'Break Blade 5: Shisen no Hate',\n",
       " 'Musekinin Kanchou Tylor',\n",
       " 'Grisaia no Rakuen',\n",
       " 'Carnival Phantasm',\n",
       " 'Colorful (Movie)',\n",
       " 'Quanzhi Gaoshou',\n",
       " 'Saiyuuki Gaiden',\n",
       " 'Kyou kara Maou! 3rd Series',\n",
       " 'Baby Steps',\n",
       " 'Gochuumon wa Usagi Desu ka??',\n",
       " 'Yagate Kimi ni Naru',\n",
       " 'Gochuumon wa Usagi Desu ka? Bloom',\n",
       " 'Omae Umasou da na',\n",
       " 'SKET Dance: Imouto no Nayami ni Nayamu Ani ni Nayamu Imouto to Sono Nakama-tachi',\n",
       " 'Tentai Senshi Sunred 2nd Season',\n",
       " 'Uchouten Kazoku',\n",
       " 'Mobile Suit Zeta Gundam',\n",
       " 'Lupin III vs. Detective Conan: The Movie',\n",
       " 'Maria-sama ga Miteru 4th',\n",
       " 'Claymore',\n",
       " 'Kara no Kyoukai 4: Garan no Dou',\n",
       " 'Kokoro Connect',\n",
       " 'Break Blade 3: Kyoujin no Ato',\n",
       " 'Fate/Grand Order: Zettai Majuu Sensen Babylonia',\n",
       " \"Saezuru Tori wa Habatakanai: Don't Stay Gold\",\n",
       " 'Hare Tokidoki Buta (TV)',\n",
       " 'Code Geass: Fukkatsu no Lelouch',\n",
       " 'Umibe no Étranger',\n",
       " 'Fairy Tail (2014)',\n",
       " 'Saraiya Goyou',\n",
       " 'Planetarian: Hoshi no Hito',\n",
       " 'City Hunter 3',\n",
       " 'Naruto',\n",
       " 'Grisaia no Meikyuu: Caprice no Mayu 0',\n",
       " 'Genshiken 2',\n",
       " ...]"
      ]
     },
     "execution_count": 315,
     "metadata": {},
     "output_type": "execute_result"
    }
   ],
   "source": [
    "x = [anime_id_to_title.get(i, 'NONE') for i in (-pred).argsort()]\n",
    "x"
   ]
  },
  {
   "cell_type": "code",
   "execution_count": 283,
   "metadata": {
    "ExecuteTime": {
     "end_time": "2021-05-19T23:20:08.680468Z",
     "start_time": "2021-05-19T23:20:08.618505Z"
    }
   },
   "outputs": [
    {
     "data": {
      "text/plain": [
       "array([False, False, False, ..., False, False, False])"
      ]
     },
     "execution_count": 283,
     "metadata": {},
     "output_type": "execute_result"
    }
   ],
   "source": [
    "pred == 10"
   ]
  },
  {
   "cell_type": "code",
   "execution_count": 217,
   "metadata": {
    "ExecuteTime": {
     "end_time": "2021-05-15T21:18:19.102339Z",
     "start_time": "2021-05-15T21:18:18.557623Z"
    }
   },
   "outputs": [
    {
     "data": {
      "text/plain": [
       "(1000, 48457)"
      ]
     },
     "execution_count": 217,
     "metadata": {},
     "output_type": "execute_result"
    }
   ],
   "source": [
    "embedding_test = svd.transform(dataset.csr_test[:1000])\n",
    "reconstructed_standardized_test = svd.inverse_transform(embedding_test)\n",
    "reconstructed_standardized_test.shape"
   ]
  },
  {
   "cell_type": "code",
   "execution_count": 254,
   "metadata": {
    "ExecuteTime": {
     "end_time": "2021-05-16T08:35:35.689500Z",
     "start_time": "2021-05-16T08:35:35.181004Z"
    }
   },
   "outputs": [],
   "source": [
    "test_array = np.array(dataset.csr_test[1000:2000].toarray())\n",
    "mask = (test_array == 0)"
   ]
  },
  {
   "cell_type": "code",
   "execution_count": 270,
   "metadata": {
    "ExecuteTime": {
     "end_time": "2021-05-16T08:38:53.933836Z",
     "start_time": "2021-05-16T08:38:53.868206Z"
    }
   },
   "outputs": [
    {
     "data": {
      "text/plain": [
       "array([[0., 0., 0., ..., 0., 0., 0.],\n",
       "       [0., 0., 0., ..., 0., 0., 0.],\n",
       "       [0., 0., 0., ..., 0., 0., 0.],\n",
       "       ...,\n",
       "       [0., 0., 0., ..., 0., 0., 0.],\n",
       "       [0., 0., 0., ..., 0., 0., 0.],\n",
       "       [0., 0., 0., ..., 0., 0., 0.]])"
      ]
     },
     "execution_count": 270,
     "metadata": {},
     "output_type": "execute_result"
    }
   ],
   "source": [
    "standardizer()"
   ]
  },
  {
   "cell_type": "code",
   "execution_count": 269,
   "metadata": {
    "ExecuteTime": {
     "end_time": "2021-05-16T08:38:50.687778Z",
     "start_time": "2021-05-16T08:38:50.132441Z"
    }
   },
   "outputs": [
    {
     "data": {
      "text/plain": [
       "(1000, 48457)"
      ]
     },
     "execution_count": 269,
     "metadata": {},
     "output_type": "execute_result"
    }
   ],
   "source": []
  },
  {
   "cell_type": "code",
   "execution_count": 271,
   "metadata": {
    "ExecuteTime": {
     "end_time": "2021-05-16T08:38:57.056534Z",
     "start_time": "2021-05-16T08:38:57.009908Z"
    }
   },
   "outputs": [],
   "source": []
  },
  {
   "cell_type": "code",
   "execution_count": 272,
   "metadata": {
    "ExecuteTime": {
     "end_time": "2021-05-16T08:39:01.081860Z",
     "start_time": "2021-05-16T08:39:00.089058Z"
    }
   },
   "outputs": [
    {
     "data": {
      "text/plain": [
       "{'accuracy': 0.4069666993247158,\n",
       " 'mean_distance': 0.8966008097143762,\n",
       " 'mean_squared_distance': 1.2336082602342555}"
      ]
     },
     "execution_count": 272,
     "metadata": {},
     "output_type": "execute_result"
    }
   ],
   "source": [
    "score(custom_pred, test_array, mask)"
   ]
  },
  {
   "cell_type": "code",
   "execution_count": 273,
   "metadata": {
    "ExecuteTime": {
     "end_time": "2021-05-16T08:39:05.261588Z",
     "start_time": "2021-05-16T08:39:04.065986Z"
    }
   },
   "outputs": [
    {
     "data": {
      "text/plain": [
       "{'accuracy': 0.29725672387092694,\n",
       " 'mean_distance': 1.1523804143914627,\n",
       " 'mean_squared_distance': 1.52009723391701}"
      ]
     },
     "execution_count": 273,
     "metadata": {},
     "output_type": "execute_result"
    }
   ],
   "source": [
    "score(mean_pred, test_array, mask)"
   ]
  },
  {
   "cell_type": "code",
   "execution_count": 267,
   "metadata": {
    "ExecuteTime": {
     "end_time": "2021-05-16T08:38:11.381251Z",
     "start_time": "2021-05-16T08:38:10.818067Z"
    }
   },
   "outputs": [
    {
     "data": {
      "text/plain": [
       "array([19.430284  , 18.38562704, 19.39304419, ..., 18.97782838,\n",
       "       19.0535987 , 17.6337847 ])"
      ]
     },
     "execution_count": 267,
     "metadata": {},
     "output_type": "execute_result"
    }
   ],
   "source": [
    "dataset.unstandardize_array(mean_pred)[~mask]"
   ]
  },
  {
   "cell_type": "code",
   "execution_count": 224,
   "metadata": {
    "ExecuteTime": {
     "end_time": "2021-05-15T21:33:28.119590Z",
     "start_time": "2021-05-15T21:33:27.687944Z"
    }
   },
   "outputs": [
    {
     "data": {
      "text/plain": [
       "1.4794190396635587"
      ]
     },
     "execution_count": 224,
     "metadata": {},
     "output_type": "execute_result"
    }
   ],
   "source": [
    "np.sqrt(np.square(mean_array[np.newaxis, :].repeat(1000, 0)[test_array!=0]-test[test_array!=0]).mean())"
   ]
  },
  {
   "cell_type": "code",
   "execution_count": 147,
   "metadata": {
    "ExecuteTime": {
     "end_time": "2021-05-15T10:41:12.227412Z",
     "start_time": "2021-05-15T10:41:12.140184Z"
    }
   },
   "outputs": [
    {
     "data": {
      "text/plain": [
       "(1, 48457)"
      ]
     },
     "execution_count": 147,
     "metadata": {},
     "output_type": "execute_result"
    }
   ],
   "source": [
    "bad = np.where(x==1)[1]\n",
    "\n",
    "y = np.zeros([1, std_array.shape[0]])\n",
    "y[0, 1] = 1\n",
    "y[0, 5] = 1\n",
    "\n",
    "embedding = svd.transform(y)\n",
    "reconstructed_standardized_samples = svd.inverse_transform(embedding)\n",
    "reconstructed_standardized_samples.shape"
   ]
  },
  {
   "cell_type": "code",
   "execution_count": 152,
   "metadata": {
    "ExecuteTime": {
     "end_time": "2021-05-15T10:41:58.302717Z",
     "start_time": "2021-05-15T10:41:58.240458Z"
    }
   },
   "outputs": [
    {
     "data": {
      "text/plain": [
       "(array([10.3404507 ,  8.92154921,  8.85659065,  7.25806313,  7.52344907,\n",
       "        10.31743287,  7.77674453,  9.80127852,  8.7273288 ,  9.15662373,\n",
       "         8.54110989,  9.041174  ,  6.50309346,  8.61558229,  7.4914714 ,\n",
       "         7.46909874,  8.87754054,  8.52372525,  7.52441772,  7.2978364 ,\n",
       "         9.07625917,  7.55727137,  8.59408036,  8.50391099,  8.82847225,\n",
       "         7.51516733,  7.52022862,  7.6293597 ,  8.69590343,  8.69829019,\n",
       "         8.83556331,  8.69215138,  7.48893605,  8.84918381,  6.52868723,\n",
       "         7.50529004,  7.50011287,  6.49561136,  8.70080287,  7.48327356,\n",
       "         6.51457422,  7.53149186,  6.50139195,  5.50671509,  8.78119874,\n",
       "         6.48195755,  7.50115701,  7.60456668,  8.46284782,  7.51570344,\n",
       "         7.4747272 ,  7.52471874,  8.5056658 ,  6.5000911 ,  7.47036928,\n",
       "         6.50189296,  8.61223579,  6.49421357,  6.48022122,  7.50798241,\n",
       "         8.56177106,  6.50304891,  7.49797874,  8.63727185,  7.52768711,\n",
       "         7.4924116 ,  7.41154526,  5.50400285,  7.45265623,  7.51656892,\n",
       "         7.48285701,  7.45184768,  7.46429783,  7.47044816,  7.51723158,\n",
       "         7.46717236,  7.40928283,  6.51072704,  7.51024407,  8.59365959,\n",
       "         7.49763623,  7.45533304,  7.48561016,  7.4891629 ,  7.45971039,\n",
       "         8.54418334,  7.46065875,  8.53117166,  8.76636341,  7.48207826,\n",
       "         7.51345975,  7.49337399,  7.46863554,  6.46592382,  7.49980282,\n",
       "         7.46943645,  6.41834299,  7.49369401,  6.50075366,  7.47331818,\n",
       "         7.49696132,  7.46638174,  8.59871301,  6.49097718,  6.51308583,\n",
       "         5.47395828,  6.51973734,  7.00315815,  6.51822354,  7.45753757,\n",
       "         6.51386129,  7.18510478,  4.51436503,  8.4908776 ,  7.73925596,\n",
       "         8.51705607,  8.65045327,  8.46095016,  7.52937723,  8.68764536,\n",
       "         6.4284461 ,  7.38716733,  7.49948341,  6.50629011,  7.47804371,\n",
       "         7.51171588,  6.60048545,  7.50501242,  7.57888408,  8.69170444,\n",
       "         7.52035866,  6.5724447 ,  7.52851108,  8.48198052,  6.50332399,\n",
       "         6.50763121,  6.62198102,  7.47318003,  6.49446307,  8.77870191,\n",
       "         7.51274774,  7.51169001,  6.48356609,  7.44019763,  8.53264587,\n",
       "         7.45126661,  8.55386804,  8.72220284,  6.50449614,  6.50247328,\n",
       "         7.46426679,  5.42193266,  6.53146885,  8.51623054,  7.49917097,\n",
       "         7.50047877,  5.4976359 ,  7.48719141,  8.50359907,  8.51999503,\n",
       "         8.5052803 ,  6.5146222 ,  7.49979873,  7.4913693 ,  7.50965426,\n",
       "         6.49341423,  7.52380964,  7.51935971,  8.53872981,  7.51526713,\n",
       "         7.48231656,  6.4975548 ,  6.45783883,  5.49870897,  7.48283999,\n",
       "         5.49134901]),\n",
       " array([8.92182788, 8.39565896, 8.28222842, 7.73569801, 7.44866598,\n",
       "        8.50907053, 7.37278723, 8.54740178, 8.45015981, 8.31079199,\n",
       "        8.38307651, 8.08612366, 6.48147675, 8.44978053, 7.59364161,\n",
       "        7.52808634, 8.36718617, 8.46973168, 7.47535624, 7.6659544 ,\n",
       "        8.02732582, 7.47975652, 8.0411583 , 8.39303634, 8.36531427,\n",
       "        7.47372041, 7.47881974, 7.49211444, 8.34593634, 8.38346165,\n",
       "        8.4812836 , 8.48497163, 7.5026436 , 8.22295349, 6.49726706,\n",
       "        7.48817606, 7.48126129, 6.50313256, 8.46537627, 7.53745779,\n",
       "        6.48313163, 7.24578187, 6.45370392, 5.47739565, 8.30298287,\n",
       "        6.50425451, 7.48812636, 7.49913371, 8.53157299, 7.49842349,\n",
       "        7.51413939, 7.48878366, 8.28973749, 6.49238199, 7.5845875 ,\n",
       "        6.48865083, 8.44199281, 6.50656421, 6.50528019, 7.48070896,\n",
       "        8.15075806, 6.49632259, 7.50296689, 8.37044047, 7.48521801,\n",
       "        7.50591772, 7.50575307, 5.49510617, 7.50121095, 7.48301188,\n",
       "        7.50086696, 7.51848177, 7.57359653, 7.50341451, 7.49339554,\n",
       "        7.51092047, 7.5186518 , 6.48576658, 7.46902048, 8.42348222,\n",
       "        7.537298  , 7.51079986, 7.5533041 , 7.53065189, 7.53479457,\n",
       "        8.42134141, 7.52650463, 8.25496653, 8.43303064, 7.5288627 ,\n",
       "        7.47831448, 7.5229329 , 7.52313474, 6.50774941, 7.50422557,\n",
       "        7.52322656, 6.50684881, 7.52987788, 6.42311275, 7.51138101,\n",
       "        7.50554029, 7.51159286, 8.45713866, 6.50244344, 6.49478684,\n",
       "        5.51344749, 6.48935691, 7.56981679, 6.49159508, 7.53144341,\n",
       "        6.4983249 , 7.54872571, 4.4914365 , 8.66041924, 7.43966198,\n",
       "        8.43421299, 8.47736693, 8.53373833, 7.49194722, 8.2430734 ,\n",
       "        6.57200989, 7.51191111, 7.51750932, 6.49348615, 7.56813863,\n",
       "        7.48132806, 6.49120726, 7.4896372 , 7.45541491, 8.25955293,\n",
       "        7.47118847, 6.49700351, 7.46675485, 8.54051799, 6.48920166,\n",
       "        6.47548875, 6.46247924, 7.50502193, 6.50291674, 8.45511454,\n",
       "        7.4215993 , 7.31997596, 6.51139357, 7.51028482, 8.4993716 ,\n",
       "        7.52502177, 8.42377134, 8.4479198 , 6.49480108, 6.48068211,\n",
       "        7.66144058, 5.51193816, 6.48194628, 8.47574903, 7.54257113,\n",
       "        7.49752451, 5.50714064, 7.50557193, 8.4587057 , 8.49573927,\n",
       "        8.42004266, 6.49356748, 7.52247987, 7.50146854, 7.49969064,\n",
       "        6.51362714, 7.48081991, 7.4617731 , 8.36542288, 7.49818099,\n",
       "        7.51078146, 6.51261262, 6.50814253, 5.50944537, 7.50362842,\n",
       "        5.50676202]))"
      ]
     },
     "execution_count": 152,
     "metadata": {},
     "output_type": "execute_result"
    }
   ],
   "source": [
    "x_bad = reconstructed_standardized_samples*std_array + mean_array\n",
    "x[(np.round(x_bad) != np.round(x))], x_bad[(np.round(x_bad) != np.round(x))]"
   ]
  },
  {
   "cell_type": "code",
   "execution_count": 125,
   "metadata": {
    "ExecuteTime": {
     "end_time": "2021-05-15T10:35:44.135420Z",
     "start_time": "2021-05-15T10:35:44.088179Z"
    }
   },
   "outputs": [
    {
     "data": {
      "text/plain": [
       "0.0"
      ]
     },
     "execution_count": 125,
     "metadata": {},
     "output_type": "execute_result"
    }
   ],
   "source": [
    "svd.transform(y).mean()"
   ]
  },
  {
   "cell_type": "code",
   "execution_count": 95,
   "metadata": {
    "ExecuteTime": {
     "end_time": "2021-05-15T10:30:37.780115Z",
     "start_time": "2021-05-15T10:30:37.428087Z"
    }
   },
   "outputs": [
    {
     "data": {
      "text/plain": [
       "<AxesSubplot:ylabel='Density'>"
      ]
     },
     "execution_count": 95,
     "metadata": {},
     "output_type": "execute_result"
    },
    {
     "data": {
      "image/png": "[encoded data removed]",
      "text/plain": [
       "<Figure size 432x288 with 1 Axes>"
      ]
     },
     "metadata": {
      "needs_background": "light"
     },
     "output_type": "display_data"
    }
   ],
   "source": [
    "import seaborn as sns\n",
    "sns.kdeplot(x[0])"
   ]
  },
  {
   "cell_type": "code",
   "execution_count": 78,
   "metadata": {
    "ExecuteTime": {
     "end_time": "2021-05-15T09:28:20.021136Z",
     "start_time": "2021-05-15T09:28:19.765907Z"
    }
   },
   "outputs": [
    {
     "data": {
      "text/plain": [
       "<AxesSubplot:ylabel='Density'>"
      ]
     },
     "execution_count": 78,
     "metadata": {},
     "output_type": "execute_result"
    },
    {
     "data": {
      "image/png": "[encoded data removed]",
      "text/plain": [
       "<Figure size 432x288 with 1 Axes>"
      ]
     },
     "metadata": {
      "needs_background": "light"
     },
     "output_type": "display_data"
    }
   ],
   "source": [
    "sns.kdeplot(x[:, 1])\n",
    "sns.kdeplot(x[:, 5])\n",
    "sns.kdeplot(x[:, 6])"
   ]
  },
  {
   "cell_type": "code",
   "execution_count": 80,
   "metadata": {
    "ExecuteTime": {
     "end_time": "2021-05-15T09:30:23.907444Z",
     "start_time": "2021-05-15T09:30:23.797829Z"
    }
   },
   "outputs": [
    {
     "data": {
      "text/plain": [
       "array([6.11202853, 6.11327388, 6.11162868, 6.11657827, 6.11203266,\n",
       "       6.11867831, 6.11146773, 6.10395309, 6.11170663, 6.10995025,\n",
       "       6.11255791, 6.11133427, 6.11228789, 6.11207217, 6.10921374,\n",
       "       6.1125497 , 6.1120605 , 6.07544997, 6.11172297, 6.11277069,\n",
       "       6.11217408, 6.11187388, 6.11231672, 6.11139139, 6.11109586,\n",
       "       6.11543304, 6.11737256, 6.11230158, 6.10257223, 6.11282947,\n",
       "       6.11257715, 6.11209505, 6.11201312, 6.11280842, 6.11124189,\n",
       "       6.11321625, 6.11219752, 6.11122737, 6.10618174, 6.09211781,\n",
       "       6.09260722, 6.11125179, 6.11195162, 6.11190683, 6.11938555,\n",
       "       6.11236168, 6.11322586, 6.11133923, 6.11069612, 6.11223254,\n",
       "       6.10434579, 6.11244512, 6.11327415, 6.11189215, 6.11261021,\n",
       "       6.1117034 , 6.10235619, 6.11844248, 6.1092515 , 6.11191416,\n",
       "       6.11158626, 6.11459458, 6.11105349, 6.11100754, 6.11127868,\n",
       "       6.11236634, 6.10941502, 6.11580097, 6.11296401, 6.11240829,\n",
       "       6.11294643, 6.11123352, 6.11315885, 6.11248323, 6.11135838,\n",
       "       6.10916021, 6.11173742, 6.1040102 , 6.11349653, 6.11387596,\n",
       "       6.11540848, 6.11215532, 6.11253538, 6.11254104, 6.11317485,\n",
       "       6.11198045, 6.11252132, 6.11410679, 6.11243657, 6.11059146,\n",
       "       6.10845853, 6.11207212, 6.10841839, 6.11440334, 6.1114328 ,\n",
       "       6.11472234, 6.11223812, 6.11669807, 6.1120759 , 6.11195606,\n",
       "       6.11210067, 6.1132973 , 6.11208955, 6.11040925, 6.11191143,\n",
       "       6.11266478, 6.11231174, 6.11211192, 6.11219885, 6.1135594 ,\n",
       "       6.11092927, 6.11239924, 6.11281777, 6.11147121, 6.11089528,\n",
       "       6.11277426, 6.12156046, 6.11173901, 6.10896057, 6.11225193,\n",
       "       6.11348394, 6.11226858, 6.1115108 , 6.10841841, 6.11202893,\n",
       "       6.11018641, 6.10982558, 6.10920569, 6.11221639, 6.11247792,\n",
       "       6.11285331, 6.11222102, 6.1119571 , 6.11251054, 6.11060028,\n",
       "       6.11351212, 6.11354327, 6.10708681, 6.10852828, 6.11553402,\n",
       "       6.11154164, 6.11266082, 6.11616872, 6.11501634, 6.11212029,\n",
       "       6.11434395, 6.11457871, 6.11640099, 6.1154463 , 6.11292216,\n",
       "       6.11107353, 6.09996226, 6.11170414, 6.10885884, 6.11629424,\n",
       "       6.11090726, 6.11179311, 6.11339445, 6.11147575, 6.11206682,\n",
       "       6.11038669, 6.11216586, 6.11451972, 6.11276984, 6.1231408 ,\n",
       "       6.11672379, 6.11796621, 6.1133195 , 6.11278395, 6.11823248,\n",
       "       6.11257494, 6.11317982, 6.10921452, 6.11248665, 6.11452734,\n",
       "       6.11248544, 6.11068627, 6.11178879, 6.11068465, 6.1107657 ,\n",
       "       6.11169394, 6.1121862 , 6.11721493, 6.11308418, 6.11242537,\n",
       "       6.11237074, 6.11269923, 6.13345008, 6.11297331, 6.10125947,\n",
       "       6.11213314, 6.11092164, 6.11673482, 6.11415176, 6.11102774,\n",
       "       6.11330744, 6.11141235, 6.11190141, 6.10720463, 6.11020698,\n",
       "       6.11411635, 6.11194894, 6.11086067, 6.11342652, 6.11207932,\n",
       "       6.11243829, 6.10118616, 6.11122133, 6.1072032 , 6.11219432,\n",
       "       6.1123831 , 6.11425384, 6.11182919, 6.1111443 , 6.11495691,\n",
       "       6.11278031, 6.121462  , 6.11287657, 6.1121625 , 6.11249942,\n",
       "       6.11728048, 6.11608935, 6.11331814, 6.10533784, 6.11077718,\n",
       "       6.11200359, 6.11105375, 6.11481047, 6.09822888, 6.11143287,\n",
       "       6.11440095, 6.11215985, 6.11079306, 6.11403403, 6.11508829,\n",
       "       6.11096059, 6.11178112, 6.11206044, 6.11094183, 6.11136913,\n",
       "       6.11025956, 6.11172832, 6.11318956, 6.11869037, 6.10298675,\n",
       "       6.09884476, 6.10962186, 6.11223386, 6.11438888, 6.11111278,\n",
       "       6.11023255, 6.1119798 , 6.11430763, 6.10683949, 6.11277111,\n",
       "       6.11105102, 6.11612004, 6.11282816, 6.1122204 , 6.11097706,\n",
       "       6.11609451, 6.11209123, 6.11232818, 6.10771956, 6.1119179 ,\n",
       "       6.10908007, 6.12261568, 6.11192705, 6.11248811, 6.11206903,\n",
       "       6.11316287, 6.1123148 , 6.11388962, 6.11181331, 6.11377676,\n",
       "       6.11181027, 6.11488543, 6.11071344, 6.11512692, 6.11209809,\n",
       "       6.11210893, 6.11051479, 6.11240385, 6.11222612, 6.11062637,\n",
       "       6.11100777, 6.10547843, 6.11741815, 6.11196868, 6.10173343,\n",
       "       6.11197723, 6.1111903 , 6.112921  , 6.11481888, 6.11161851,\n",
       "       6.11234902, 6.11215577, 6.09683306, 6.11387812, 6.10968018,\n",
       "       6.11239829, 6.11624268, 6.10737031, 6.11211081, 6.11048471,\n",
       "       6.11209635, 6.11228618, 6.11142386, 6.11241675, 6.11632164,\n",
       "       6.10764005, 6.11105164, 6.11033057, 6.11344771, 6.11209959,\n",
       "       6.11168185, 6.10862528, 6.11038835, 6.11580168, 6.11199739,\n",
       "       6.11286146, 6.1174863 , 6.11320154, 6.11560788, 6.11201604,\n",
       "       6.11277808, 6.11177091, 6.11431587, 6.11619606, 6.11211687,\n",
       "       6.10599271, 6.111469  , 6.11165788, 6.11238741, 6.1132429 ,\n",
       "       6.11145324, 6.11166992, 6.11302255, 6.12017025, 6.11270569,\n",
       "       6.11043393, 6.11604121, 6.10505379, 6.10931119, 6.11236479,\n",
       "       6.09105047, 6.11481056, 6.11322182, 6.11273916, 6.11213179,\n",
       "       6.11228242, 6.11311317, 6.11464926, 6.11187303, 6.11015712,\n",
       "       6.11012056, 6.11421964, 6.11207955, 6.11253284, 6.1109497 ,\n",
       "       6.11220982, 6.10079971, 6.11008598, 6.11206811, 6.11204381,\n",
       "       6.1074292 , 6.11071191, 6.11210411, 6.11556168, 6.11095827,\n",
       "       6.08193236, 6.11168841, 6.11261655, 6.11118031, 6.11038073,\n",
       "       6.10760343, 6.11207302, 6.10737725, 6.11006442, 6.10887755,\n",
       "       6.11099619, 6.11219677, 6.1120773 , 6.11183023, 6.11305202,\n",
       "       6.10914757, 6.11202767, 6.11439909, 6.11504045, 6.11339656,\n",
       "       6.11230928, 6.11160867, 6.11721195, 6.11419738, 6.11335992,\n",
       "       6.11259816, 6.11044068, 6.11218478, 6.11394137, 6.11434919,\n",
       "       6.11226369, 6.11231104, 6.11062274, 6.11228576, 6.11133909,\n",
       "       6.10782586, 6.11199349, 6.11214098, 6.11187217, 6.11220192,\n",
       "       6.09944745, 6.10702959, 6.11227097, 6.11205462, 6.11222194,\n",
       "       6.11144315, 6.11423955, 6.11804815, 6.11203953, 6.11379945,\n",
       "       6.11278372, 6.11501368, 6.11130459, 6.11222186, 6.11174858,\n",
       "       6.11205933, 6.11104231, 6.11222316, 6.11271192, 6.11229156,\n",
       "       6.12211931, 6.1120749 , 6.11264972, 6.11709764, 6.11303069,\n",
       "       6.11374238, 6.13604735, 6.11288992, 6.08376218, 6.11387272,\n",
       "       6.11135433, 6.11196117, 6.11851893, 6.11248845, 6.11206151,\n",
       "       6.11221475, 6.11259986, 6.1120732 , 6.11147709, 6.11191342,\n",
       "       6.11165001, 6.10196104, 6.11224467, 6.12564135, 6.11311589,\n",
       "       6.11285964, 6.11211933, 6.11220909, 6.11128141, 6.11408114,\n",
       "       6.11306044, 6.11327352, 6.11289995, 6.11243948, 6.11201082,\n",
       "       6.11214164, 6.11257696, 6.11209494, 6.11277598, 6.11258163,\n",
       "       6.11139339, 6.11226138, 6.11458043, 6.11176425, 6.1126563 ,\n",
       "       6.11207953, 6.09337379, 6.11373775, 6.11267683, 6.11374886,\n",
       "       6.11411774, 6.12514718, 6.11283233, 6.09306547, 6.11465356,\n",
       "       6.11246527, 6.11205199, 6.11195843, 6.11164282, 6.09771531,\n",
       "       6.11232812, 6.11292636, 6.112566  , 6.11207182, 6.11258354,\n",
       "       6.11320972, 6.1121801 , 6.11206453, 6.11146611, 6.11582468,\n",
       "       6.11260119, 6.11192246, 6.11345777, 6.06533998, 6.11119263,\n",
       "       6.11153399, 6.11200038, 6.11359299, 6.11250432, 6.09670041,\n",
       "       6.11136703, 6.11245891, 6.09598397, 6.11225439, 6.11238631,\n",
       "       6.11156931, 6.11128798, 6.11358998, 6.09324222, 6.10812444,\n",
       "       6.11357934, 6.11305439, 6.11373553, 6.11207305, 6.11214147,\n",
       "       6.11044912, 6.11458257, 6.11304248, 6.11242608, 6.11394608,\n",
       "       6.11169778, 6.11157313, 6.11487158, 6.11219018, 6.11500958,\n",
       "       6.11216057, 6.11204402, 6.10273253, 6.11268873, 6.11010939,\n",
       "       6.08310959, 6.11512633, 6.11304249, 6.11262774, 6.1114621 ,\n",
       "       6.11322863, 6.11415586, 6.11256019, 6.11237119, 6.11408142,\n",
       "       6.09685124, 6.11243616, 6.10646429, 6.10939845, 6.11165576,\n",
       "       6.11489721, 6.10447427, 6.11336465, 6.1123435 , 6.1119869 ,\n",
       "       6.11246746, 6.11501839, 6.11266791, 6.11004509, 6.11743608,\n",
       "       6.11583084, 6.113441  , 6.11204355, 6.11215926, 6.11290663,\n",
       "       6.10971824, 6.11116598, 6.10636949, 6.1118601 , 6.11166287,\n",
       "       6.12042964, 6.11277609, 6.11219189, 6.11138727, 6.11250314,\n",
       "       6.1129719 , 6.11343906, 6.11310597, 6.11300944, 6.11471936,\n",
       "       6.1115497 , 6.10514636, 6.11231162, 6.11252699, 6.11280342,\n",
       "       6.11165932, 6.15064606, 6.1174002 , 6.11198687, 6.11329782,\n",
       "       6.11200229, 6.11277431, 6.11829229, 6.11232769, 6.08799883,\n",
       "       6.11499132, 6.11200007, 6.12554315, 6.1070099 , 6.11209632,\n",
       "       6.11424916, 6.11164544, 6.1115332 , 6.11372763, 6.11148075,\n",
       "       6.11258666, 6.11219084, 6.11224334, 6.11263989, 6.11252905,\n",
       "       6.10711786, 6.11877853, 6.11193788, 6.11250897, 6.112138  ,\n",
       "       6.10592946, 6.11557829, 6.11193764, 6.11164711, 6.10849638,\n",
       "       6.11087734, 6.1086555 , 6.11901967, 6.11580834, 6.11019616,\n",
       "       6.11204553, 6.11381554, 6.11309221, 6.10313951, 6.11174957,\n",
       "       6.11176883, 6.10608371, 6.1124294 , 6.11191845, 6.11179498,\n",
       "       6.1075789 , 6.10152262, 6.1124899 , 6.12648239, 6.11232819,\n",
       "       6.10724374, 6.10479651, 6.11226015, 6.11230014, 6.11192823,\n",
       "       6.11145712, 6.13229505, 6.11376914, 6.11309552, 6.09905561,\n",
       "       6.1121515 , 6.1121081 , 6.11198786, 6.12417142, 6.11184615,\n",
       "       6.11192447, 6.10872597, 6.11364424, 6.11082981, 6.1121505 ,\n",
       "       6.10984802, 6.11278466, 6.11207865, 6.11258791, 6.11240015,\n",
       "       6.11875402, 6.11147758, 6.11366796, 6.11210323, 6.11233923,\n",
       "       6.10848806, 6.11728229, 6.11195244, 6.11034669, 6.11281959,\n",
       "       6.11187598, 6.11199249, 6.11243073, 6.11323978, 6.11204365,\n",
       "       6.11303647, 6.11253701, 6.11457734, 6.11222232, 6.11233669,\n",
       "       6.11189358, 6.11006162, 6.11255821, 6.11217694, 6.1120319 ,\n",
       "       6.11199774, 6.111941  , 6.11203301, 6.11120952, 6.12235128,\n",
       "       6.1129061 , 6.11234973, 6.11139874, 6.11186316, 6.11251036,\n",
       "       6.12345152, 6.11426439, 6.11199774, 6.12114936, 6.11257057,\n",
       "       6.11289892, 6.11186981, 6.11154153, 6.11632529, 6.11143016,\n",
       "       6.11239962, 6.11235277, 6.11352973, 6.11403011, 6.10856731,\n",
       "       6.11256022, 6.11161689, 6.11165713, 6.11205942, 6.11514995,\n",
       "       6.11149924, 6.11213164, 6.11041019, 6.11275382, 6.12839911,\n",
       "       6.11206622, 6.1121493 , 6.11256158, 6.11329451, 6.11214094,\n",
       "       6.11484483, 6.11252068, 6.11205077, 6.11209986, 6.11214069,\n",
       "       6.11246931, 6.10853786, 6.11553836, 6.11265834, 6.11261348,\n",
       "       6.11216782, 6.1118576 , 6.11216406, 6.11586381, 6.11658514,\n",
       "       6.11070072, 6.10977263, 6.11061417, 6.11148468, 6.11240059,\n",
       "       6.11172559, 6.11182561, 6.11289185, 6.1119508 , 6.11231054,\n",
       "       6.11639332, 6.11314362, 6.11527499, 6.11150083, 6.11223795,\n",
       "       6.11224706, 6.1071405 , 6.11384258, 6.11220397, 6.110562  ,\n",
       "       6.11255584, 6.11247518, 6.10923992, 6.11163615, 6.11309113,\n",
       "       6.11216285, 6.11520749, 6.11239692, 6.11213501, 6.11199245,\n",
       "       6.11270886, 6.1030736 , 6.11180887, 6.11413278, 6.11254824,\n",
       "       6.11345982, 6.11203809, 6.1099963 , 6.11184013, 6.11331516,\n",
       "       6.11273668, 6.13931697, 6.11273396, 6.11151117, 6.1145669 ,\n",
       "       6.11346542, 6.11196738, 6.11278742, 6.11252657, 6.11185808,\n",
       "       6.11289822, 6.11193864, 6.11362423, 6.11238834, 6.11261373,\n",
       "       6.11046615, 6.11531208, 6.11223506, 6.11162788, 6.11162508,\n",
       "       6.11226753, 6.11412706, 6.11364878, 6.11223128, 6.11233592,\n",
       "       6.11445601, 6.1113047 , 6.11252205, 6.11472452, 6.11213625,\n",
       "       6.10876894, 6.11525316, 6.11030307, 6.11262208, 6.12194701,\n",
       "       6.11240896, 6.11206467, 6.11574732, 6.10994207, 6.11103859,\n",
       "       6.11335032, 6.1127143 , 6.11245576, 6.12127732, 6.11281799,\n",
       "       6.11798053, 6.11129647, 6.09502241, 6.11162737, 6.11188926,\n",
       "       6.11195931, 6.11168872, 6.11221312, 6.11336859, 6.11215219,\n",
       "       6.11074909, 6.11331904, 6.10307937, 6.1114235 , 6.11227697,\n",
       "       6.11258064, 6.11174041, 6.11614743, 6.11223212, 6.11033862,\n",
       "       6.11341404, 6.11184079, 6.11090091, 6.11230663, 6.11380998,\n",
       "       6.11259788, 6.10816486, 6.1116529 , 6.11082343, 6.11588527,\n",
       "       6.11069612, 6.11528204, 6.1127662 , 6.11248884, 6.11288616,\n",
       "       6.11222622, 6.11534106, 6.11183778, 6.11221893, 6.11097106,\n",
       "       6.11228506, 6.11030193, 6.11207943, 6.1121146 , 6.11227195,\n",
       "       6.11225253, 6.11221914, 6.11380329, 6.1116438 , 6.11255389,\n",
       "       6.11659787, 6.11304119, 6.09927135, 6.11113798, 6.11142954,\n",
       "       6.11183113, 6.1136634 , 6.11168273, 6.10862624, 6.11052048,\n",
       "       6.1120575 , 6.11279794, 6.11220343, 6.11614351, 6.11127525,\n",
       "       6.11507543, 6.10742793, 6.11037089, 6.11363987, 6.11282214,\n",
       "       6.11104247, 6.11321202, 6.11202771, 6.10951915, 6.11194317,\n",
       "       6.1111162 , 6.11145262, 6.10955844, 6.11251398, 6.1132253 ,\n",
       "       6.1140017 , 6.11224882, 6.06986391, 6.08226295, 6.1136134 ,\n",
       "       6.11271688, 6.07875515, 6.11209393, 6.11266125, 6.11229798,\n",
       "       6.11276894, 6.11433716, 6.11272075, 6.11282088, 6.11199136,\n",
       "       6.11223104, 6.11795172, 6.1120694 , 6.11148658, 6.11192663,\n",
       "       6.11210421, 6.11294768, 6.11250154, 6.11384459, 6.11203197,\n",
       "       6.11233489, 6.11232381, 6.11244848, 6.11227884, 6.11231459,\n",
       "       6.1116515 , 6.10987597, 6.11820299, 6.11218612, 6.1132523 ,\n",
       "       6.10691177, 6.11226388, 6.10913385, 6.11295281, 6.11219428,\n",
       "       6.11869618, 6.11497043, 6.11054926, 6.11858108, 6.11299244,\n",
       "       6.10997829, 6.11197776, 6.1124505 , 6.11432307, 6.11199699,\n",
       "       6.11041438, 6.11293162, 6.11061005, 6.10381138, 6.11269867,\n",
       "       6.11182656, 6.0996586 , 6.11200663, 6.11201707, 6.11319873,\n",
       "       6.11361596, 6.11182047, 6.11210381, 6.11053037, 6.11229277,\n",
       "       6.11222609, 6.11429252, 6.11174617, 6.11191647, 6.11232366,\n",
       "       6.11205812, 6.11357905, 6.11289235, 6.11220861, 6.11557529,\n",
       "       6.11245805, 6.12521495, 6.11255517, 6.11242822, 6.11240656,\n",
       "       6.11123248, 6.1128576 , 6.11221255, 6.11043656, 6.11219274])"
      ]
     },
     "execution_count": 80,
     "metadata": {},
     "output_type": "execute_result"
    }
   ],
   "source": [
    "x.mean(1)"
   ]
  },
  {
   "cell_type": "code",
   "execution_count": null,
   "metadata": {
    "ExecuteTime": {
     "start_time": "2021-05-14T18:20:48.379Z"
    }
   },
   "outputs": [],
   "source": [
    "x.std(0).max()"
   ]
  },
  {
   "cell_type": "code",
   "execution_count": 70,
   "metadata": {
    "ExecuteTime": {
     "end_time": "2021-05-14T17:48:45.023579Z",
     "start_time": "2021-05-14T17:48:44.967790Z"
    }
   },
   "outputs": [
    {
     "data": {
      "text/plain": [
       "((3257, 48457), (48457,))"
      ]
     },
     "execution_count": 70,
     "metadata": {},
     "output_type": "execute_result"
    }
   ],
   "source": [
    "dataset.csr_train.shape, std_array.shape"
   ]
  },
  {
   "cell_type": "code",
   "execution_count": 72,
   "metadata": {
    "ExecuteTime": {
     "end_time": "2021-05-14T17:49:09.917097Z",
     "start_time": "2021-05-14T17:49:09.624035Z"
    }
   },
   "outputs": [
    {
     "data": {
      "text/plain": [
       "array([[0., 0., 0., ..., 0., 0., 0.],\n",
       "       [0., 0., 0., ..., 0., 0., 0.],\n",
       "       [0., 0., 0., ..., 0., 0., 0.],\n",
       "       ...,\n",
       "       [0., 0., 0., ..., 0., 0., 0.],\n",
       "       [0., 0., 0., ..., 0., 0., 0.],\n",
       "       [0., 0., 0., ..., 0., 0., 0.]])"
      ]
     },
     "execution_count": 72,
     "metadata": {},
     "output_type": "execute_result"
    }
   ],
   "source": [
    "dataset.csr_train.toarray()"
   ]
  },
  {
   "cell_type": "code",
   "execution_count": 18,
   "metadata": {
    "ExecuteTime": {
     "end_time": "2021-05-14T17:34:23.802255Z",
     "start_time": "2021-05-14T17:34:23.744080Z"
    }
   },
   "outputs": [
    {
     "name": "stdout",
     "output_type": "stream",
     "text": [
      "(0, 0) 3.4338317553996548e-15\n"
     ]
    }
   ],
   "source": [
    "for i, x in np.ndenumerate(reconstructed_standardized_samples):\n",
    "    print(i, x)\n",
    "    break"
   ]
  },
  {
   "cell_type": "code",
   "execution_count": null,
   "metadata": {},
   "outputs": [],
   "source": [
    "reconstructed_samples = reconstructed_standardized_samples*features_std + features_mean\n",
    "unstandardized_samples = standardized_samples*features_std + features_mean"
   ]
  },
  {
   "cell_type": "code",
   "execution_count": 52,
   "metadata": {
    "ExecuteTime": {
     "end_time": "2021-05-09T07:34:10.697401Z",
     "start_time": "2021-05-09T07:34:01.873540Z"
    }
   },
   "outputs": [],
   "source": [
    "class SparseMatrixImputer:\n",
    "    \n",
    "    def __init__(self, nb_training_sample, ):\n",
    "        self.nb_training_sample = nb_training_sample\n",
    "    \n",
    "    def fit(self, sparse_matrix):\n",
    "        "
   ]
  },
  {
   "cell_type": "code",
   "execution_count": 66,
   "metadata": {
    "ExecuteTime": {
     "end_time": "2021-05-09T07:37:33.929369Z",
     "start_time": "2021-05-09T07:37:25.611273Z"
    }
   },
   "outputs": [],
   "source": []
  },
  {
   "cell_type": "code",
   "execution_count": 72,
   "metadata": {
    "ExecuteTime": {
     "end_time": "2021-05-09T07:43:45.372788Z",
     "start_time": "2021-05-09T07:43:45.141088Z"
    }
   },
   "outputs": [
    {
     "data": {
      "text/plain": [
       "[<matplotlib.lines.Line2D at 0x1458217d0>]"
      ]
     },
     "execution_count": 72,
     "metadata": {},
     "output_type": "execute_result"
    },
    {
     "data": {
      "image/png": "[encoded data removed]",
      "text/plain": [
       "<Figure size 432x288 with 1 Axes>"
      ]
     },
     "metadata": {
      "needs_background": "light"
     },
     "output_type": "display_data"
    }
   ],
   "source": [
    "i = np.argsort(unstandardized_samples[0])\n",
    "# plt.plot(unstandardized_samples[0][i])\n",
    "plt.plot(reconstructed_sampels[0][i])"
   ]
  },
  {
   "cell_type": "code",
   "execution_count": 64,
   "metadata": {
    "ExecuteTime": {
     "end_time": "2021-05-09T07:36:06.499163Z",
     "start_time": "2021-05-09T07:36:06.439620Z"
    }
   },
   "outputs": [
    {
     "data": {
      "text/plain": [
       "array([0.        , 8.70135832, 0.        , ..., 0.        , 0.        ,\n",
       "       5.60012691])"
      ]
     },
     "execution_count": 64,
     "metadata": {},
     "output_type": "execute_result"
    }
   ],
   "source": [
    "reconstructed_sampels[0]"
   ]
  },
  {
   "cell_type": "code",
   "execution_count": null,
   "metadata": {
    "ExecuteTime": {
     "end_time": "2021-05-09T07:34:18.508840Z",
     "start_time": "2021-05-09T07:34:02.306Z"
    }
   },
   "outputs": [],
   "source": [
    "good = (x[0] != 0)\n",
    "x[0][good], pred_nmf_mat[0][good]"
   ]
  },
  {
   "cell_type": "code",
   "execution_count": null,
   "metadata": {
    "ExecuteTime": {
     "end_time": "2021-05-09T07:34:18.517494Z",
     "start_time": "2021-05-09T07:34:10.456Z"
    }
   },
   "outputs": [],
   "source": [
    "pred_nmf_mat[0].mean(), pred_nmf_mat[0][good].mean()"
   ]
  },
  {
   "cell_type": "code",
   "execution_count": 110,
   "metadata": {
    "ExecuteTime": {
     "end_time": "2021-05-05T19:43:56.849898Z",
     "start_time": "2021-05-05T19:43:56.788096Z"
    }
   },
   "outputs": [
    {
     "data": {
      "text/plain": [
       "(0.00834831730003733, 0.45700665852754774)"
      ]
     },
     "execution_count": 110,
     "metadata": {},
     "output_type": "execute_result"
    }
   ],
   "source": [
    "pred_nmf_mat[0].mean(), pred_nmf_mat[0][good].mean()"
   ]
  },
  {
   "cell_type": "code",
   "execution_count": 143,
   "metadata": {
    "ExecuteTime": {
     "end_time": "2021-05-05T20:18:08.503083Z",
     "start_time": "2021-05-05T20:18:08.435912Z"
    }
   },
   "outputs": [],
   "source": [
    "mat_best_i = (-nmf_mat).argsort(0)"
   ]
  },
  {
   "cell_type": "code",
   "execution_count": 144,
   "metadata": {
    "ExecuteTime": {
     "end_time": "2021-05-05T20:18:09.138898Z",
     "start_time": "2021-05-05T20:18:09.094804Z"
    }
   },
   "outputs": [
    {
     "data": {
      "text/plain": [
       "array([4326, 5401, 5735, ..., 2906, 2843, 6434])"
      ]
     },
     "execution_count": 144,
     "metadata": {},
     "output_type": "execute_result"
    }
   ],
   "source": [
    "mat_best_i.transpose(1, 0)[0]"
   ]
  },
  {
   "cell_type": "code",
   "execution_count": 158,
   "metadata": {
    "ExecuteTime": {
     "end_time": "2021-05-05T20:20:59.292677Z",
     "start_time": "2021-05-05T20:20:59.215777Z"
    }
   },
   "outputs": [
    {
     "name": "stdout",
     "output_type": "stream",
     "text": [
      "0 0.0 0 0.0\n",
      "8 3.9 10 0.21662781662781663\n",
      "0 0.0 0 0.0\n",
      "0 0.0 0 0.0\n",
      "0 0.0 0 0.0\n",
      "10 4.7 10 0.09572649572649573\n",
      "0 4.7 10 0.1324009324009324\n",
      "5 0.5 10 0.02735042735042735\n",
      "0 0.0 10 0.004817404817404817\n",
      "0 0.0 0 0.0\n"
     ]
    }
   ],
   "source": [
    "for i, indexes in enumerate(mat_best_i.transpose(1, 0)):\n",
    "    print(x[indexes[0]][i], x[indexes[:10]][:, i].mean(), x[:, i].max(), (x[:, i] != 0).mean())"
   ]
  },
  {
   "cell_type": "code",
   "execution_count": 175,
   "metadata": {
    "ExecuteTime": {
     "end_time": "2021-05-05T20:36:10.196544Z",
     "start_time": "2021-05-05T20:36:10.134073Z"
    }
   },
   "outputs": [
    {
     "data": {
      "text/plain": [
       "((6435, 48457), (6435, 10), (6435, 1))"
      ]
     },
     "execution_count": 175,
     "metadata": {},
     "output_type": "execute_result"
    }
   ],
   "source": [
    "x.shape, nmf_mat.shape, nmf_mat[:, :1].shape"
   ]
  },
  {
   "cell_type": "code",
   "execution_count": 180,
   "metadata": {
    "ExecuteTime": {
     "end_time": "2021-05-05T20:42:21.152726Z",
     "start_time": "2021-05-05T20:42:04.932753Z"
    }
   },
   "outputs": [],
   "source": [
    "mask = (x!=0).repeat(10, -1)"
   ]
  },
  {
   "cell_type": "code",
   "execution_count": 186,
   "metadata": {
    "ExecuteTime": {
     "end_time": "2021-05-05T20:45:02.353152Z",
     "start_time": "2021-05-05T20:44:57.847537Z"
    }
   },
   "outputs": [
    {
     "data": {
      "text/plain": [
       "(48457,)"
      ]
     },
     "execution_count": 186,
     "metadata": {},
     "output_type": "execute_result"
    }
   ],
   "source": [
    "y = np.dot(x.transpose(1, 0), nmf_mat[:, 0]/nmf_mat[:, 0].sum())\n",
    "y.shape"
   ]
  },
  {
   "cell_type": "code",
   "execution_count": 190,
   "metadata": {
    "ExecuteTime": {
     "end_time": "2021-05-05T20:45:33.539891Z",
     "start_time": "2021-05-05T20:45:33.475220Z"
    }
   },
   "outputs": [
    {
     "data": {
      "text/plain": [
       "7.069970584740905"
      ]
     },
     "execution_count": 190,
     "metadata": {},
     "output_type": "execute_result"
    }
   ],
   "source": [
    "y.max()/nmf_mat[:, 0].sum()"
   ]
  },
  {
   "cell_type": "code",
   "execution_count": 207,
   "metadata": {
    "ExecuteTime": {
     "end_time": "2021-05-05T20:48:59.539048Z",
     "start_time": "2021-05-05T20:48:54.169089Z"
    }
   },
   "outputs": [
    {
     "data": {
      "text/plain": [
       "(48457, 10)"
      ]
     },
     "execution_count": 207,
     "metadata": {},
     "output_type": "execute_result"
    }
   ],
   "source": [
    "y = np.dot(x.transpose(1, 0), nmf_mat / nmf_mat.sum(0, keepdims=True))\n",
    "y.shape"
   ]
  },
  {
   "cell_type": "code",
   "execution_count": 226,
   "metadata": {
    "ExecuteTime": {
     "end_time": "2021-05-05T20:52:24.319334Z",
     "start_time": "2021-05-05T20:52:23.911514Z"
    }
   },
   "outputs": [
    {
     "data": {
      "text/plain": [
       "(48457,)"
      ]
     },
     "execution_count": 226,
     "metadata": {},
     "output_type": "execute_result"
    }
   ],
   "source": [
    "x.mean(0)[i].shape"
   ]
  },
  {
   "cell_type": "code",
   "execution_count": 224,
   "metadata": {
    "ExecuteTime": {
     "end_time": "2021-05-05T20:51:10.980119Z",
     "start_time": "2021-05-05T20:51:08.419202Z"
    }
   },
   "outputs": [],
   "source": [
    "import matplotlib.pyplot as plt\n",
    "i = np.argsort(x.mean(0))\n"
   ]
  },
  {
   "cell_type": "code",
   "execution_count": 225,
   "metadata": {
    "ExecuteTime": {
     "end_time": "2021-05-05T20:51:41.248018Z",
     "start_time": "2021-05-05T20:51:40.018443Z"
    }
   },
   "outputs": [
    {
     "data": {
      "text/plain": [
       "<matplotlib.collections.PathCollection at 0x152e18990>"
      ]
     },
     "execution_count": 225,
     "metadata": {},
     "output_type": "execute_result"
    },
    {
     "data": {
      "image/png": "[encoded data removed]",
      "text/plain": [
       "<Figure size 432x288 with 1 Axes>"
      ]
     },
     "metadata": {
      "needs_background": "light"
     },
     "output_type": "display_data"
    }
   ],
   "source": [
    "plt.scatter(x.mean(0)[i], y.mean(1)[i])\n"
   ]
  },
  {
   "cell_type": "code",
   "execution_count": null,
   "metadata": {},
   "outputs": [],
   "source": []
  },
  {
   "cell_type": "code",
   "execution_count": 233,
   "metadata": {
    "ExecuteTime": {
     "end_time": "2021-05-05T21:42:23.842888Z",
     "start_time": "2021-05-05T21:42:23.718888Z"
    }
   },
   "outputs": [],
   "source": [
    "# CONCLUSION:\n",
    "\n",
    "# Need to code it ...\n",
    "# Maybe just do in pytorch\n",
    "# OR go from scratch and work on a more simple example"
   ]
  },
  {
   "cell_type": "code",
   "execution_count": 231,
   "metadata": {
    "ExecuteTime": {
     "end_time": "2021-05-05T21:24:08.368234Z",
     "start_time": "2021-05-05T21:24:08.308994Z"
    }
   },
   "outputs": [],
   "source": [
    "from sklearn import decomposition"
   ]
  },
  {
   "cell_type": "code",
   "execution_count": 232,
   "metadata": {
    "ExecuteTime": {
     "end_time": "2021-05-05T21:24:14.203827Z",
     "start_time": "2021-05-05T21:24:14.144903Z"
    }
   },
   "outputs": [
    {
     "data": {
      "text/plain": [
       "['DictionaryLearning',\n",
       " 'FactorAnalysis',\n",
       " 'FastICA',\n",
       " 'IncrementalPCA',\n",
       " 'KernelPCA',\n",
       " 'LatentDirichletAllocation',\n",
       " 'MiniBatchDictionaryLearning',\n",
       " 'MiniBatchSparsePCA',\n",
       " 'NMF',\n",
       " 'PCA',\n",
       " 'SparseCoder',\n",
       " 'SparsePCA',\n",
       " 'TruncatedSVD',\n",
       " '__all__',\n",
       " '__builtins__',\n",
       " '__cached__',\n",
       " '__doc__',\n",
       " '__file__',\n",
       " '__loader__',\n",
       " '__name__',\n",
       " '__package__',\n",
       " '__path__',\n",
       " '__spec__',\n",
       " '_base',\n",
       " '_cdnmf_fast',\n",
       " '_dict_learning',\n",
       " '_factor_analysis',\n",
       " '_fastica',\n",
       " '_incremental_pca',\n",
       " '_kernel_pca',\n",
       " '_lda',\n",
       " '_nmf',\n",
       " '_online_lda_fast',\n",
       " '_pca',\n",
       " '_sparse_pca',\n",
       " '_truncated_svd',\n",
       " 'dict_learning',\n",
       " 'dict_learning_online',\n",
       " 'fastica',\n",
       " 'non_negative_factorization',\n",
       " 'randomized_svd',\n",
       " 'sparse_encode']"
      ]
     },
     "execution_count": 232,
     "metadata": {},
     "output_type": "execute_result"
    }
   ],
   "source": [
    "dir(decomposition)"
   ]
  },
  {
   "cell_type": "code",
   "execution_count": null,
   "metadata": {},
   "outputs": [],
   "source": []
  },
  {
   "cell_type": "code",
   "execution_count": null,
   "metadata": {
    "ExecuteTime": {
     "start_time": "2021-05-01T08:43:11.314Z"
    }
   },
   "outputs": [],
   "source": [
    "model.fit(\n",
    "    data.full_input_mode().dataset.batch(BATCH_SIZE),\n",
    "    steps_per_epoch=25,\n",
    "    epochs=20\n",
    "#    callbacks=[callback]\n",
    ")"
   ]
  },
  {
   "cell_type": "code",
   "execution_count": 8,
   "metadata": {
    "ExecuteTime": {
     "end_time": "2021-05-01T08:40:33.843825Z",
     "start_time": "2021-05-01T08:40:33.566631Z"
    }
   },
   "outputs": [
    {
     "name": "stdout",
     "output_type": "stream",
     "text": [
      "Model: \"encoding_decoding_model\"\n",
      "_________________________________________________________________\n",
      "Layer (type)                 Output Shape              Param #   \n",
      "=================================================================\n",
      "masking (Masking)            (None, 310059)            0         \n",
      "_________________________________________________________________\n",
      "encoding_layer (Dense)       (None, 50)                15503000  \n",
      "_________________________________________________________________\n",
      "decoding_layer (Dense)       (None, 310059)            15813009  \n",
      "=================================================================\n",
      "Total params: 31,316,009\n",
      "Trainable params: 31,316,009\n",
      "Non-trainable params: 0\n",
      "_________________________________________________________________\n"
     ]
    }
   ],
   "source": [
    "model = build_regression_model(data.dim, hidden_dim=50)\n",
    "model.summary()"
   ]
  },
  {
   "cell_type": "code",
   "execution_count": 9,
   "metadata": {
    "ExecuteTime": {
     "end_time": "2021-05-01T08:40:43.084163Z",
     "start_time": "2021-05-01T08:40:35.616940Z"
    }
   },
   "outputs": [
    {
     "name": "stdout",
     "output_type": "stream",
     "text": [
      "Epoch 1/20\n",
      "\n",
      "Epoch 00001: LearningRateScheduler reducing learning rate to 0.003.\n",
      "12/25 [=============>................] - ETA: 6s - loss: 5604.4783"
     ]
    },
    {
     "ename": "KeyboardInterrupt",
     "evalue": "",
     "output_type": "error",
     "traceback": [
      "\u001b[0;31m---------------------------------------------------------------------------\u001b[0m",
      "\u001b[0;31mKeyboardInterrupt\u001b[0m                         Traceback (most recent call last)",
      "\u001b[0;32m<ipython-input-9-6bd5fb71a3af>\u001b[0m in \u001b[0;36m<module>\u001b[0;34m\u001b[0m\n\u001b[1;32m      3\u001b[0m     \u001b[0msteps_per_epoch\u001b[0m\u001b[0;34m=\u001b[0m\u001b[0;36m25\u001b[0m\u001b[0;34m,\u001b[0m\u001b[0;34m\u001b[0m\u001b[0;34m\u001b[0m\u001b[0m\n\u001b[1;32m      4\u001b[0m     \u001b[0mepochs\u001b[0m\u001b[0;34m=\u001b[0m\u001b[0;36m20\u001b[0m\u001b[0;34m,\u001b[0m\u001b[0;34m\u001b[0m\u001b[0;34m\u001b[0m\u001b[0m\n\u001b[0;32m----> 5\u001b[0;31m      \u001b[0mcallbacks\u001b[0m\u001b[0;34m=\u001b[0m\u001b[0;34m[\u001b[0m\u001b[0mcallback\u001b[0m\u001b[0;34m]\u001b[0m\u001b[0;34m\u001b[0m\u001b[0;34m\u001b[0m\u001b[0m\n\u001b[0m\u001b[1;32m      6\u001b[0m )\n",
      "\u001b[0;32m~/.virtualenvs/test/lib/python3.7/site-packages/tensorflow/python/keras/engine/training.py\u001b[0m in \u001b[0;36mfit\u001b[0;34m(self, x, y, batch_size, epochs, verbose, callbacks, validation_split, validation_data, shuffle, class_weight, sample_weight, initial_epoch, steps_per_epoch, validation_steps, validation_batch_size, validation_freq, max_queue_size, workers, use_multiprocessing)\u001b[0m\n\u001b[1;32m   1098\u001b[0m                 _r=1):\n\u001b[1;32m   1099\u001b[0m               \u001b[0mcallbacks\u001b[0m\u001b[0;34m.\u001b[0m\u001b[0mon_train_batch_begin\u001b[0m\u001b[0;34m(\u001b[0m\u001b[0mstep\u001b[0m\u001b[0;34m)\u001b[0m\u001b[0;34m\u001b[0m\u001b[0;34m\u001b[0m\u001b[0m\n\u001b[0;32m-> 1100\u001b[0;31m               \u001b[0mtmp_logs\u001b[0m \u001b[0;34m=\u001b[0m \u001b[0mself\u001b[0m\u001b[0;34m.\u001b[0m\u001b[0mtrain_function\u001b[0m\u001b[0;34m(\u001b[0m\u001b[0miterator\u001b[0m\u001b[0;34m)\u001b[0m\u001b[0;34m\u001b[0m\u001b[0;34m\u001b[0m\u001b[0m\n\u001b[0m\u001b[1;32m   1101\u001b[0m               \u001b[0;32mif\u001b[0m \u001b[0mdata_handler\u001b[0m\u001b[0;34m.\u001b[0m\u001b[0mshould_sync\u001b[0m\u001b[0;34m:\u001b[0m\u001b[0;34m\u001b[0m\u001b[0;34m\u001b[0m\u001b[0m\n\u001b[1;32m   1102\u001b[0m                 \u001b[0mcontext\u001b[0m\u001b[0;34m.\u001b[0m\u001b[0masync_wait\u001b[0m\u001b[0;34m(\u001b[0m\u001b[0;34m)\u001b[0m\u001b[0;34m\u001b[0m\u001b[0;34m\u001b[0m\u001b[0m\n",
      "\u001b[0;32m~/.virtualenvs/test/lib/python3.7/site-packages/tensorflow/python/eager/def_function.py\u001b[0m in \u001b[0;36m__call__\u001b[0;34m(self, *args, **kwds)\u001b[0m\n\u001b[1;32m    826\u001b[0m     \u001b[0mtracing_count\u001b[0m \u001b[0;34m=\u001b[0m \u001b[0mself\u001b[0m\u001b[0;34m.\u001b[0m\u001b[0mexperimental_get_tracing_count\u001b[0m\u001b[0;34m(\u001b[0m\u001b[0;34m)\u001b[0m\u001b[0;34m\u001b[0m\u001b[0;34m\u001b[0m\u001b[0m\n\u001b[1;32m    827\u001b[0m     \u001b[0;32mwith\u001b[0m \u001b[0mtrace\u001b[0m\u001b[0;34m.\u001b[0m\u001b[0mTrace\u001b[0m\u001b[0;34m(\u001b[0m\u001b[0mself\u001b[0m\u001b[0;34m.\u001b[0m\u001b[0m_name\u001b[0m\u001b[0;34m)\u001b[0m \u001b[0;32mas\u001b[0m \u001b[0mtm\u001b[0m\u001b[0;34m:\u001b[0m\u001b[0;34m\u001b[0m\u001b[0;34m\u001b[0m\u001b[0m\n\u001b[0;32m--> 828\u001b[0;31m       \u001b[0mresult\u001b[0m \u001b[0;34m=\u001b[0m \u001b[0mself\u001b[0m\u001b[0;34m.\u001b[0m\u001b[0m_call\u001b[0m\u001b[0;34m(\u001b[0m\u001b[0;34m*\u001b[0m\u001b[0margs\u001b[0m\u001b[0;34m,\u001b[0m \u001b[0;34m**\u001b[0m\u001b[0mkwds\u001b[0m\u001b[0;34m)\u001b[0m\u001b[0;34m\u001b[0m\u001b[0;34m\u001b[0m\u001b[0m\n\u001b[0m\u001b[1;32m    829\u001b[0m       \u001b[0mcompiler\u001b[0m \u001b[0;34m=\u001b[0m \u001b[0;34m\"xla\"\u001b[0m \u001b[0;32mif\u001b[0m \u001b[0mself\u001b[0m\u001b[0;34m.\u001b[0m\u001b[0m_experimental_compile\u001b[0m \u001b[0;32melse\u001b[0m \u001b[0;34m\"nonXla\"\u001b[0m\u001b[0;34m\u001b[0m\u001b[0;34m\u001b[0m\u001b[0m\n\u001b[1;32m    830\u001b[0m       \u001b[0mnew_tracing_count\u001b[0m \u001b[0;34m=\u001b[0m \u001b[0mself\u001b[0m\u001b[0;34m.\u001b[0m\u001b[0mexperimental_get_tracing_count\u001b[0m\u001b[0;34m(\u001b[0m\u001b[0;34m)\u001b[0m\u001b[0;34m\u001b[0m\u001b[0;34m\u001b[0m\u001b[0m\n",
      "\u001b[0;32m~/.virtualenvs/test/lib/python3.7/site-packages/tensorflow/python/eager/def_function.py\u001b[0m in \u001b[0;36m_call\u001b[0;34m(self, *args, **kwds)\u001b[0m\n\u001b[1;32m    853\u001b[0m       \u001b[0;31m# In this case we have created variables on the first call, so we run the\u001b[0m\u001b[0;34m\u001b[0m\u001b[0;34m\u001b[0m\u001b[0;34m\u001b[0m\u001b[0m\n\u001b[1;32m    854\u001b[0m       \u001b[0;31m# defunned version which is guaranteed to never create variables.\u001b[0m\u001b[0;34m\u001b[0m\u001b[0;34m\u001b[0m\u001b[0;34m\u001b[0m\u001b[0m\n\u001b[0;32m--> 855\u001b[0;31m       \u001b[0;32mreturn\u001b[0m \u001b[0mself\u001b[0m\u001b[0;34m.\u001b[0m\u001b[0m_stateless_fn\u001b[0m\u001b[0;34m(\u001b[0m\u001b[0;34m*\u001b[0m\u001b[0margs\u001b[0m\u001b[0;34m,\u001b[0m \u001b[0;34m**\u001b[0m\u001b[0mkwds\u001b[0m\u001b[0;34m)\u001b[0m  \u001b[0;31m# pylint: disable=not-callable\u001b[0m\u001b[0;34m\u001b[0m\u001b[0;34m\u001b[0m\u001b[0m\n\u001b[0m\u001b[1;32m    856\u001b[0m     \u001b[0;32melif\u001b[0m \u001b[0mself\u001b[0m\u001b[0;34m.\u001b[0m\u001b[0m_stateful_fn\u001b[0m \u001b[0;32mis\u001b[0m \u001b[0;32mnot\u001b[0m \u001b[0;32mNone\u001b[0m\u001b[0;34m:\u001b[0m\u001b[0;34m\u001b[0m\u001b[0;34m\u001b[0m\u001b[0m\n\u001b[1;32m    857\u001b[0m       \u001b[0;31m# Release the lock early so that multiple threads can perform the call\u001b[0m\u001b[0;34m\u001b[0m\u001b[0;34m\u001b[0m\u001b[0;34m\u001b[0m\u001b[0m\n",
      "\u001b[0;32m~/.virtualenvs/test/lib/python3.7/site-packages/tensorflow/python/eager/function.py\u001b[0m in \u001b[0;36m__call__\u001b[0;34m(self, *args, **kwargs)\u001b[0m\n\u001b[1;32m   2941\u001b[0m        filtered_flat_args) = self._maybe_define_function(args, kwargs)\n\u001b[1;32m   2942\u001b[0m     return graph_function._call_flat(\n\u001b[0;32m-> 2943\u001b[0;31m         filtered_flat_args, captured_inputs=graph_function.captured_inputs)  # pylint: disable=protected-access\n\u001b[0m\u001b[1;32m   2944\u001b[0m \u001b[0;34m\u001b[0m\u001b[0m\n\u001b[1;32m   2945\u001b[0m   \u001b[0;34m@\u001b[0m\u001b[0mproperty\u001b[0m\u001b[0;34m\u001b[0m\u001b[0;34m\u001b[0m\u001b[0m\n",
      "\u001b[0;32m~/.virtualenvs/test/lib/python3.7/site-packages/tensorflow/python/eager/function.py\u001b[0m in \u001b[0;36m_call_flat\u001b[0;34m(self, args, captured_inputs, cancellation_manager)\u001b[0m\n\u001b[1;32m   1917\u001b[0m       \u001b[0;31m# No tape is watching; skip to running the function.\u001b[0m\u001b[0;34m\u001b[0m\u001b[0;34m\u001b[0m\u001b[0;34m\u001b[0m\u001b[0m\n\u001b[1;32m   1918\u001b[0m       return self._build_call_outputs(self._inference_function.call(\n\u001b[0;32m-> 1919\u001b[0;31m           ctx, args, cancellation_manager=cancellation_manager))\n\u001b[0m\u001b[1;32m   1920\u001b[0m     forward_backward = self._select_forward_and_backward_functions(\n\u001b[1;32m   1921\u001b[0m         \u001b[0margs\u001b[0m\u001b[0;34m,\u001b[0m\u001b[0;34m\u001b[0m\u001b[0;34m\u001b[0m\u001b[0m\n",
      "\u001b[0;32m~/.virtualenvs/test/lib/python3.7/site-packages/tensorflow/python/eager/function.py\u001b[0m in \u001b[0;36mcall\u001b[0;34m(self, ctx, args, cancellation_manager)\u001b[0m\n\u001b[1;32m    558\u001b[0m               \u001b[0minputs\u001b[0m\u001b[0;34m=\u001b[0m\u001b[0margs\u001b[0m\u001b[0;34m,\u001b[0m\u001b[0;34m\u001b[0m\u001b[0;34m\u001b[0m\u001b[0m\n\u001b[1;32m    559\u001b[0m               \u001b[0mattrs\u001b[0m\u001b[0;34m=\u001b[0m\u001b[0mattrs\u001b[0m\u001b[0;34m,\u001b[0m\u001b[0;34m\u001b[0m\u001b[0;34m\u001b[0m\u001b[0m\n\u001b[0;32m--> 560\u001b[0;31m               ctx=ctx)\n\u001b[0m\u001b[1;32m    561\u001b[0m         \u001b[0;32melse\u001b[0m\u001b[0;34m:\u001b[0m\u001b[0;34m\u001b[0m\u001b[0;34m\u001b[0m\u001b[0m\n\u001b[1;32m    562\u001b[0m           outputs = execute.execute_with_cancellation(\n",
      "\u001b[0;32m~/.virtualenvs/test/lib/python3.7/site-packages/tensorflow/python/eager/execute.py\u001b[0m in \u001b[0;36mquick_execute\u001b[0;34m(op_name, num_outputs, inputs, attrs, ctx, name)\u001b[0m\n\u001b[1;32m     58\u001b[0m     \u001b[0mctx\u001b[0m\u001b[0;34m.\u001b[0m\u001b[0mensure_initialized\u001b[0m\u001b[0;34m(\u001b[0m\u001b[0;34m)\u001b[0m\u001b[0;34m\u001b[0m\u001b[0;34m\u001b[0m\u001b[0m\n\u001b[1;32m     59\u001b[0m     tensors = pywrap_tfe.TFE_Py_Execute(ctx._handle, device_name, op_name,\n\u001b[0;32m---> 60\u001b[0;31m                                         inputs, attrs, num_outputs)\n\u001b[0m\u001b[1;32m     61\u001b[0m   \u001b[0;32mexcept\u001b[0m \u001b[0mcore\u001b[0m\u001b[0;34m.\u001b[0m\u001b[0m_NotOkStatusException\u001b[0m \u001b[0;32mas\u001b[0m \u001b[0me\u001b[0m\u001b[0;34m:\u001b[0m\u001b[0;34m\u001b[0m\u001b[0;34m\u001b[0m\u001b[0m\n\u001b[1;32m     62\u001b[0m     \u001b[0;32mif\u001b[0m \u001b[0mname\u001b[0m \u001b[0;32mis\u001b[0m \u001b[0;32mnot\u001b[0m \u001b[0;32mNone\u001b[0m\u001b[0;34m:\u001b[0m\u001b[0;34m\u001b[0m\u001b[0;34m\u001b[0m\u001b[0m\n",
      "\u001b[0;31mKeyboardInterrupt\u001b[0m: "
     ]
    }
   ],
   "source": [
    "model.fit(\n",
    "    data.masked_input_mode().dataset.batch(BATCH_SIZE),\n",
    "    steps_per_epoch=25,\n",
    "    epochs=20,\n",
    "     callbacks=[callback]\n",
    ")"
   ]
  },
  {
   "cell_type": "code",
   "execution_count": 41,
   "metadata": {
    "ExecuteTime": {
     "end_time": "2021-04-30T20:47:36.780157Z",
     "start_time": "2021-04-30T20:47:36.718467Z"
    }
   },
   "outputs": [
    {
     "data": {
      "text/plain": [
       "<tf.Tensor: shape=(11,), dtype=int32, numpy=array([0, 0, 0, 0, 0, 0, 0, 0, 0, 0, 0], dtype=int32)>"
      ]
     },
     "execution_count": 41,
     "metadata": {},
     "output_type": "execute_result"
    }
   ],
   "source": [
    "x[0][0]"
   ]
  },
  {
   "cell_type": "code",
   "execution_count": 65,
   "metadata": {
    "ExecuteTime": {
     "end_time": "2021-04-26T21:15:55.265932Z",
     "start_time": "2021-04-26T21:11:50.342812Z"
    }
   },
   "outputs": [
    {
     "name": "stdout",
     "output_type": "stream",
     "text": [
      "Epoch 1/20\n",
      "25/25 [==============================] - 12s 455ms/step - loss: 0.0606\n",
      "Epoch 2/20\n",
      "25/25 [==============================] - 11s 453ms/step - loss: 0.0440\n",
      "Epoch 3/20\n",
      "25/25 [==============================] - 11s 461ms/step - loss: 0.0305\n",
      "Epoch 4/20\n",
      "25/25 [==============================] - 13s 509ms/step - loss: 0.0201\n",
      "Epoch 5/20\n",
      "25/25 [==============================] - 13s 526ms/step - loss: 0.0128\n",
      "Epoch 6/20\n",
      "25/25 [==============================] - 13s 534ms/step - loss: 0.0082\n",
      "Epoch 7/20\n",
      "25/25 [==============================] - 12s 484ms/step - loss: 0.0053\n",
      "Epoch 8/20\n",
      "25/25 [==============================] - 13s 529ms/step - loss: 0.0037\n",
      "Epoch 9/20\n",
      "25/25 [==============================] - 13s 513ms/step - loss: 0.0027\n",
      "Epoch 10/20\n",
      "25/25 [==============================] - 12s 474ms/step - loss: 0.0022\n",
      "Epoch 11/20\n",
      "25/25 [==============================] - 12s 477ms/step - loss: 0.0019\n",
      "Epoch 12/20\n",
      "25/25 [==============================] - 12s 479ms/step - loss: 0.0019\n",
      "Epoch 13/20\n",
      "25/25 [==============================] - 12s 476ms/step - loss: 0.0017\n",
      "Epoch 14/20\n",
      "25/25 [==============================] - 12s 484ms/step - loss: 0.0017\n",
      "Epoch 15/20\n",
      "25/25 [==============================] - 12s 481ms/step - loss: 0.0017\n",
      "Epoch 16/20\n",
      "25/25 [==============================] - 12s 478ms/step - loss: 0.0016\n",
      "Epoch 17/20\n",
      "25/25 [==============================] - 12s 480ms/step - loss: 0.0016\n",
      "Epoch 18/20\n",
      "25/25 [==============================] - 12s 497ms/step - loss: 0.0016\n",
      "Epoch 19/20\n",
      "25/25 [==============================] - 12s 483ms/step - loss: 0.0016\n",
      "Epoch 20/20\n",
      "25/25 [==============================] - 12s 486ms/step - loss: 0.0016\n"
     ]
    },
    {
     "data": {
      "text/plain": [
       "<tensorflow.python.keras.callbacks.History at 0x1457608d0>"
      ]
     },
     "execution_count": 65,
     "metadata": {},
     "output_type": "execute_result"
    }
   ],
   "source": [
    "model.fit(\n",
    "    data.full_input_mode().dataset.batch(BATCH_SIZE),\n",
    "    steps_per_epoch=25,\n",
    "    epochs=20\n",
    "#     callbacks=[callback]\n",
    ")"
   ]
  },
  {
   "cell_type": "code",
   "execution_count": 20,
   "metadata": {
    "ExecuteTime": {
     "end_time": "2021-04-30T20:22:49.957365Z",
     "start_time": "2021-04-30T20:22:49.887649Z"
    }
   },
   "outputs": [],
   "source": [
    "from evaluate import get_raw_predictions, get_flat_prediction"
   ]
  },
  {
   "cell_type": "code",
   "execution_count": 21,
   "metadata": {
    "ExecuteTime": {
     "end_time": "2021-04-30T20:22:57.077276Z",
     "start_time": "2021-04-30T20:22:50.206175Z"
    }
   },
   "outputs": [
    {
     "data": {
      "text/plain": [
       "<AxesSubplot:>"
      ]
     },
     "execution_count": 21,
     "metadata": {},
     "output_type": "execute_result"
    },
    {
     "data": {
      "image/png": "[encoded data removed]",
      "text/plain": [
       "<Figure size 432x288 with 1 Axes>"
      ]
     },
     "metadata": {
      "needs_background": "light"
     },
     "output_type": "display_data"
    }
   ],
   "source": [
    "import seaborn as sns\n",
    "in_values, true_values, pred_values = get_flat_prediction(data.dataset, model, 100)\n",
    "sns.boxplot(x=true_values, y=pred_values)"
   ]
  },
  {
   "cell_type": "code",
   "execution_count": 22,
   "metadata": {
    "ExecuteTime": {
     "end_time": "2021-04-30T20:22:57.490620Z",
     "start_time": "2021-04-30T20:22:57.202480Z"
    }
   },
   "outputs": [
    {
     "data": {
      "text/plain": [
       "<AxesSubplot:>"
      ]
     },
     "execution_count": 22,
     "metadata": {},
     "output_type": "execute_result"
    },
    {
     "data": {
      "image/png": "[encoded data removed]",
      "text/plain": [
       "<Figure size 432x288 with 1 Axes>"
      ]
     },
     "metadata": {
      "needs_background": "light"
     },
     "output_type": "display_data"
    }
   ],
   "source": [
    "true_values = true_values * data.data_std + data.data_mean\n",
    "pred_values = pred_values * data.data_std + data.data_mean\n",
    "sns.boxplot(x=true_values, y=pred_values)"
   ]
  },
  {
   "cell_type": "code",
   "execution_count": 23,
   "metadata": {
    "ExecuteTime": {
     "end_time": "2021-04-30T20:23:02.919854Z",
     "start_time": "2021-04-30T20:22:57.597382Z"
    }
   },
   "outputs": [
    {
     "data": {
      "text/plain": [
       "<AxesSubplot:>"
      ]
     },
     "execution_count": 23,
     "metadata": {},
     "output_type": "execute_result"
    },
    {
     "data": {
      "image/png": "[encoded data removed]",
      "text/plain": [
       "<Figure size 432x288 with 1 Axes>"
      ]
     },
     "metadata": {
      "needs_background": "light"
     },
     "output_type": "display_data"
    }
   ],
   "source": [
    "import seaborn as sns\n",
    "in_values, true_values, pred_values = get_flat_prediction(data.dataset, model, 500)\n",
    "sns.boxplot(x=true_values, y=pred_values)"
   ]
  },
  {
   "cell_type": "code",
   "execution_count": 67,
   "metadata": {
    "ExecuteTime": {
     "end_time": "2021-04-26T21:16:01.560674Z",
     "start_time": "2021-04-26T21:16:01.204222Z"
    }
   },
   "outputs": [
    {
     "data": {
      "text/plain": [
       "<AxesSubplot:>"
      ]
     },
     "execution_count": 67,
     "metadata": {},
     "output_type": "execute_result"
    },
    {
     "data": {
      "image/png": "[encoded data removed]",
      "text/plain": [
       "<Figure size 432x288 with 1 Axes>"
      ]
     },
     "metadata": {
      "needs_background": "light"
     },
     "output_type": "display_data"
    }
   ],
   "source": [
    "true_values = true_values * data.data_std + data.data_mean\n",
    "pred_values = pred_values * data.data_std + data.data_mean\n",
    "sns.boxplot(x=true_values, y=pred_values)"
   ]
  },
  {
   "cell_type": "code",
   "execution_count": null,
   "metadata": {
    "ExecuteTime": {
     "end_time": "2021-04-26T15:14:33.428813Z",
     "start_time": "2021-04-26T15:14:31.483833Z"
    }
   },
   "outputs": [],
   "source": []
  },
  {
   "cell_type": "code",
   "execution_count": 303,
   "metadata": {
    "ExecuteTime": {
     "end_time": "2021-04-26T15:14:52.705230Z",
     "start_time": "2021-04-26T15:14:52.636004Z"
    }
   },
   "outputs": [
    {
     "data": {
      "text/html": [
       "<div>\n",
       "<style scoped>\n",
       "    .dataframe tbody tr th:only-of-type {\n",
       "        vertical-align: middle;\n",
       "    }\n",
       "\n",
       "    .dataframe tbody tr th {\n",
       "        vertical-align: top;\n",
       "    }\n",
       "\n",
       "    .dataframe thead th {\n",
       "        text-align: right;\n",
       "    }\n",
       "</style>\n",
       "<table border=\"1\" class=\"dataframe\">\n",
       "  <thead>\n",
       "    <tr style=\"text-align: right;\">\n",
       "      <th></th>\n",
       "      <th>true</th>\n",
       "      <th>pred</th>\n",
       "    </tr>\n",
       "  </thead>\n",
       "  <tbody>\n",
       "    <tr>\n",
       "      <th>true</th>\n",
       "      <td>1.000000</td>\n",
       "      <td>0.302101</td>\n",
       "    </tr>\n",
       "    <tr>\n",
       "      <th>pred</th>\n",
       "      <td>0.302101</td>\n",
       "      <td>1.000000</td>\n",
       "    </tr>\n",
       "  </tbody>\n",
       "</table>\n",
       "</div>"
      ],
      "text/plain": [
       "          true      pred\n",
       "true  1.000000  0.302101\n",
       "pred  0.302101  1.000000"
      ]
     },
     "execution_count": 303,
     "metadata": {},
     "output_type": "execute_result"
    }
   ],
   "source": [
    "in_values, true_values, pred_values = get_results(500)\n",
    "pred_df = pd.DataFrame({'true': true_values, 'pred': pred_values})\n",
    "pred_df.corr()"
   ]
  },
  {
   "cell_type": "code",
   "execution_count": 304,
   "metadata": {
    "ExecuteTime": {
     "end_time": "2021-04-26T15:14:56.618432Z",
     "start_time": "2021-04-26T15:14:56.546387Z"
    }
   },
   "outputs": [
    {
     "data": {
      "text/html": [
       "<div>\n",
       "<style scoped>\n",
       "    .dataframe tbody tr th:only-of-type {\n",
       "        vertical-align: middle;\n",
       "    }\n",
       "\n",
       "    .dataframe tbody tr th {\n",
       "        vertical-align: top;\n",
       "    }\n",
       "\n",
       "    .dataframe thead th {\n",
       "        text-align: right;\n",
       "    }\n",
       "</style>\n",
       "<table border=\"1\" class=\"dataframe\">\n",
       "  <thead>\n",
       "    <tr style=\"text-align: right;\">\n",
       "      <th></th>\n",
       "      <th>true</th>\n",
       "      <th>pred</th>\n",
       "    </tr>\n",
       "  </thead>\n",
       "  <tbody>\n",
       "    <tr>\n",
       "      <th>true</th>\n",
       "      <td>1.000000</td>\n",
       "      <td>0.297992</td>\n",
       "    </tr>\n",
       "    <tr>\n",
       "      <th>pred</th>\n",
       "      <td>0.297992</td>\n",
       "      <td>1.000000</td>\n",
       "    </tr>\n",
       "  </tbody>\n",
       "</table>\n",
       "</div>"
      ],
      "text/plain": [
       "          true      pred\n",
       "true  1.000000  0.297992\n",
       "pred  0.297992  1.000000"
      ]
     },
     "execution_count": 304,
     "metadata": {},
     "output_type": "execute_result"
    }
   ],
   "source": [
    "pred_df.true = pred_df.true.astype(int)\n",
    "pred_df.pred = pred_df.pred.apply(lambda x: round(x))\n",
    "pred_df.corr()"
   ]
  },
  {
   "cell_type": "code",
   "execution_count": 305,
   "metadata": {
    "ExecuteTime": {
     "end_time": "2021-04-26T15:14:57.485964Z",
     "start_time": "2021-04-26T15:14:57.231087Z"
    }
   },
   "outputs": [
    {
     "data": {
      "text/plain": [
       "<AxesSubplot:ylabel='Frequency'>"
      ]
     },
     "execution_count": 305,
     "metadata": {},
     "output_type": "execute_result"
    },
    {
     "data": {
      "image/png": "[encoded data removed]",
      "text/plain": [
       "<Figure size 432x288 with 1 Axes>"
      ]
     },
     "metadata": {
      "needs_background": "light"
     },
     "output_type": "display_data"
    }
   ],
   "source": [
    "pred_df.true.plot.hist(alpha=0.7)\n",
    "pred_df.pred.plot.hist(alpha=0.7)"
   ]
  },
  {
   "cell_type": "code",
   "execution_count": 75,
   "metadata": {
    "ExecuteTime": {
     "end_time": "2021-04-26T09:58:53.745748Z",
     "start_time": "2021-04-26T09:58:53.664350Z"
    }
   },
   "outputs": [],
   "source": [
    "cross = pd.crosstab(pred_df.true, pred_df.pred)"
   ]
  },
  {
   "cell_type": "code",
   "execution_count": 306,
   "metadata": {
    "ExecuteTime": {
     "end_time": "2021-04-26T15:15:02.841199Z",
     "start_time": "2021-04-26T15:15:02.505668Z"
    }
   },
   "outputs": [
    {
     "data": {
      "text/plain": [
       "<AxesSubplot:xlabel='pred', ylabel='true'>"
      ]
     },
     "execution_count": 306,
     "metadata": {},
     "output_type": "execute_result"
    },
    {
     "data": {
      "image/png": "[encoded data removed]",
      "text/plain": [
       "<Figure size 432x288 with 2 Axes>"
      ]
     },
     "metadata": {
      "needs_background": "light"
     },
     "output_type": "display_data"
    }
   ],
   "source": [
    "sns.heatmap(cross)"
   ]
  },
  {
   "cell_type": "code",
   "execution_count": 307,
   "metadata": {
    "ExecuteTime": {
     "end_time": "2021-04-26T15:15:11.994192Z",
     "start_time": "2021-04-26T15:15:11.939811Z"
    }
   },
   "outputs": [],
   "source": [
    "norm_cross = cross.div(cross.sum(axis=1), axis=0)"
   ]
  },
  {
   "cell_type": "code",
   "execution_count": 308,
   "metadata": {
    "ExecuteTime": {
     "end_time": "2021-04-26T15:15:12.615426Z",
     "start_time": "2021-04-26T15:15:12.323583Z"
    }
   },
   "outputs": [
    {
     "data": {
      "text/plain": [
       "<AxesSubplot:xlabel='pred', ylabel='true'>"
      ]
     },
     "execution_count": 308,
     "metadata": {},
     "output_type": "execute_result"
    },
    {
     "data": {
      "image/png": "[encoded data removed]",
      "text/plain": [
       "<Figure size 432x288 with 2 Axes>"
      ]
     },
     "metadata": {
      "needs_background": "light"
     },
     "output_type": "display_data"
    }
   ],
   "source": [
    "sns.heatmap(norm_cross)"
   ]
  },
  {
   "cell_type": "code",
   "execution_count": null,
   "metadata": {},
   "outputs": [],
   "source": []
  },
  {
   "cell_type": "code",
   "execution_count": null,
   "metadata": {},
   "outputs": [],
   "source": []
  },
  {
   "cell_type": "code",
   "execution_count": null,
   "metadata": {},
   "outputs": [],
   "source": []
  },
  {
   "cell_type": "code",
   "execution_count": null,
   "metadata": {},
   "outputs": [],
   "source": [
    "import numpy as np"
   ]
  }
 ],
 "metadata": {
  "kernelspec": {
   "display_name": "Python 3",
   "language": "python",
   "name": "python3"
  },
  "language_info": {
   "codemirror_mode": {
    "name": "ipython",
    "version": 3
   },
   "file_extension": ".py",
   "mimetype": "text/x-python",
   "name": "python",
   "nbconvert_exporter": "python",
   "pygments_lexer": "ipython3",
   "version": "3.7.9"
  },
  "toc": {
   "base_numbering": 1,
   "nav_menu": {},
   "number_sections": true,
   "sideBar": true,
   "skip_h1_title": false,
   "title_cell": "Table of Contents",
   "title_sidebar": "Contents",
   "toc_cell": false,
   "toc_position": {},
   "toc_section_display": true,
   "toc_window_display": false
  },
  "varInspector": {
   "cols": {
    "lenName": 16,
    "lenType": 16,
    "lenVar": 40
   },
   "kernels_config": {
    "python": {
     "delete_cmd_postfix": "",
     "delete_cmd_prefix": "del ",
     "library": "var_list.py",
     "varRefreshCmd": "print(var_dic_list())"
    },
    "r": {
     "delete_cmd_postfix": ") ",
     "delete_cmd_prefix": "rm(",
     "library": "var_list.r",
     "varRefreshCmd": "cat(var_dic_list()) "
    }
   },
   "types_to_exclude": [
    "module",
    "function",
    "builtin_function_or_method",
    "instance",
    "_Feature"
   ],
   "window_display": false
  }
 },
 "nbformat": 4,
 "nbformat_minor": 4
}
